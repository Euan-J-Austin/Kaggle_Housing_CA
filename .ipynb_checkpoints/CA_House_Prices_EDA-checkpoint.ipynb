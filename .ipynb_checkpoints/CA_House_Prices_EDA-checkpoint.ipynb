{
 "cells": [
  {
   "cell_type": "markdown",
   "id": "86b616a6",
   "metadata": {},
   "source": [
    "# Imports"
   ]
  },
  {
   "cell_type": "markdown",
   "id": "a3b435f5",
   "metadata": {},
   "source": [
    "## Import modules"
   ]
  },
  {
   "cell_type": "code",
   "execution_count": 1175,
   "id": "f8aa7527",
   "metadata": {},
   "outputs": [],
   "source": [
    "import numpy as np\n",
    "import pandas as pd\n",
    "import sys as sys\n",
    "import mytools.mytools as mt\n",
    "import matplotlib.pyplot as plt\n",
    "import seaborn as sns\n",
    "import os\n",
    "import datetime\n",
    "import re\n",
    "from statsmodels.graphics.gofplots import qqplot\n",
    "import scipy.stats as stats"
   ]
  },
  {
   "cell_type": "markdown",
   "id": "7493aaea",
   "metadata": {},
   "source": [
    "### Configure column width"
   ]
  },
  {
   "cell_type": "code",
   "execution_count": 1063,
   "id": "83e0ddca",
   "metadata": {},
   "outputs": [],
   "source": [
    "pd.set_option('display.max_columns', None)\n",
    "pd.options.display.max_colwidth = 100"
   ]
  },
  {
   "cell_type": "markdown",
   "id": "b45e4936",
   "metadata": {},
   "source": [
    "## Import data"
   ]
  },
  {
   "cell_type": "code",
   "execution_count": 1220,
   "id": "4afcaacb",
   "metadata": {},
   "outputs": [],
   "source": [
    "train = pd.read_csv(\"train.csv\")\n",
    "test = pd.read_csv(\"test.csv\")\n",
    "tt = pd.read_csv('tt.csv')"
   ]
  },
  {
   "cell_type": "markdown",
   "id": "86f93652",
   "metadata": {},
   "source": [
    "# A look at the data"
   ]
  },
  {
   "cell_type": "code",
   "execution_count": 1065,
   "id": "561dd7cd",
   "metadata": {
    "scrolled": true
   },
   "outputs": [
    {
     "data": {
      "text/html": [
       "<div>\n",
       "<style scoped>\n",
       "    .dataframe tbody tr th:only-of-type {\n",
       "        vertical-align: middle;\n",
       "    }\n",
       "\n",
       "    .dataframe tbody tr th {\n",
       "        vertical-align: top;\n",
       "    }\n",
       "\n",
       "    .dataframe thead th {\n",
       "        text-align: right;\n",
       "    }\n",
       "</style>\n",
       "<table border=\"1\" class=\"dataframe\">\n",
       "  <thead>\n",
       "    <tr style=\"text-align: right;\">\n",
       "      <th></th>\n",
       "      <th>Id</th>\n",
       "      <th>Address</th>\n",
       "      <th>Sold Price</th>\n",
       "      <th>Summary</th>\n",
       "      <th>Type</th>\n",
       "      <th>Year built</th>\n",
       "      <th>Heating</th>\n",
       "      <th>Cooling</th>\n",
       "      <th>Parking</th>\n",
       "      <th>Lot</th>\n",
       "      <th>Bedrooms</th>\n",
       "      <th>Bathrooms</th>\n",
       "      <th>Full bathrooms</th>\n",
       "      <th>Total interior livable area</th>\n",
       "      <th>Total spaces</th>\n",
       "      <th>Garage spaces</th>\n",
       "      <th>Region</th>\n",
       "      <th>Elementary School</th>\n",
       "      <th>Elementary School Score</th>\n",
       "      <th>Elementary School Distance</th>\n",
       "      <th>Middle School</th>\n",
       "      <th>Middle School Score</th>\n",
       "      <th>Middle School Distance</th>\n",
       "      <th>High School</th>\n",
       "      <th>High School Score</th>\n",
       "      <th>High School Distance</th>\n",
       "      <th>Flooring</th>\n",
       "      <th>Heating features</th>\n",
       "      <th>Cooling features</th>\n",
       "      <th>Appliances included</th>\n",
       "      <th>Laundry features</th>\n",
       "      <th>Parking features</th>\n",
       "      <th>Tax assessed value</th>\n",
       "      <th>Annual tax amount</th>\n",
       "      <th>Listed On</th>\n",
       "      <th>Listed Price</th>\n",
       "      <th>Last Sold On</th>\n",
       "      <th>Last Sold Price</th>\n",
       "      <th>City</th>\n",
       "      <th>Zip</th>\n",
       "      <th>State</th>\n",
       "    </tr>\n",
       "  </thead>\n",
       "  <tbody>\n",
       "    <tr>\n",
       "      <th>0</th>\n",
       "      <td>0</td>\n",
       "      <td>540 Pine Ln</td>\n",
       "      <td>3825000.0</td>\n",
       "      <td>540 Pine Ln, Los Altos, CA 94022 is a single family home that contains 1 sq ft and was built in ...</td>\n",
       "      <td>SingleFamily</td>\n",
       "      <td>1969.0</td>\n",
       "      <td>Heating - 2+ Zones, Central Forced Air - Gas</td>\n",
       "      <td>Multi-Zone, Central AC, Whole House / Attic Fan</td>\n",
       "      <td>Garage, Garage - Attached, Covered</td>\n",
       "      <td>1.0</td>\n",
       "      <td>Ground Floor Bedroom, Master Bedroom on Ground Floor, Master Suite / Retreat, Walk-in Closet</td>\n",
       "      <td>0.0</td>\n",
       "      <td>NaN</td>\n",
       "      <td>1.0</td>\n",
       "      <td>0.0</td>\n",
       "      <td>0.0</td>\n",
       "      <td>Los Altos</td>\n",
       "      <td>Santa Rita Elementary School</td>\n",
       "      <td>7.0</td>\n",
       "      <td>0.4</td>\n",
       "      <td>NaN</td>\n",
       "      <td>NaN</td>\n",
       "      <td>NaN</td>\n",
       "      <td>Los Altos High School</td>\n",
       "      <td>8.0</td>\n",
       "      <td>1.3</td>\n",
       "      <td>Tile, Hardwood, Carpet</td>\n",
       "      <td>Forced air, Gas</td>\n",
       "      <td>Central</td>\n",
       "      <td>Dishwasher, Dryer, Garbage disposal, Microwave, Refrigerator, Washer</td>\n",
       "      <td>Washer / Dryer, Inside, In Utility Room</td>\n",
       "      <td>Garage, Garage - Attached, Covered</td>\n",
       "      <td>886486.0</td>\n",
       "      <td>12580.0</td>\n",
       "      <td>2019-10-24</td>\n",
       "      <td>4198000.0</td>\n",
       "      <td>NaN</td>\n",
       "      <td>NaN</td>\n",
       "      <td>Los Altos</td>\n",
       "      <td>94022</td>\n",
       "      <td>CA</td>\n",
       "    </tr>\n",
       "    <tr>\n",
       "      <th>1</th>\n",
       "      <td>1</td>\n",
       "      <td>1727 W 67th St</td>\n",
       "      <td>505000.0</td>\n",
       "      <td>HURRY, HURRY.......Great house 3 bed and 2 baths, detached  2 car garage with plenty of parking ...</td>\n",
       "      <td>SingleFamily</td>\n",
       "      <td>1926.0</td>\n",
       "      <td>Combination</td>\n",
       "      <td>Wall/Window Unit(s), Evaporative Cooling, See Remarks</td>\n",
       "      <td>Detached Carport, Garage</td>\n",
       "      <td>4047.0</td>\n",
       "      <td>3</td>\n",
       "      <td>2.0</td>\n",
       "      <td>2.0</td>\n",
       "      <td>872.0</td>\n",
       "      <td>1.0</td>\n",
       "      <td>1.0</td>\n",
       "      <td>Los Angeles</td>\n",
       "      <td>Raymond Avenue Elementary School</td>\n",
       "      <td>3.0</td>\n",
       "      <td>0.8</td>\n",
       "      <td>John Muir Middle School</td>\n",
       "      <td>2.0</td>\n",
       "      <td>1.1</td>\n",
       "      <td>Augustus F. Hawkins High A Critical Design And Gaming</td>\n",
       "      <td>2.0</td>\n",
       "      <td>1.3</td>\n",
       "      <td>NaN</td>\n",
       "      <td>Combination</td>\n",
       "      <td>Wall/Window Unit(s), Evaporative Cooling, See Remarks</td>\n",
       "      <td>NaN</td>\n",
       "      <td>Inside</td>\n",
       "      <td>Detached Carport, Garage</td>\n",
       "      <td>505000.0</td>\n",
       "      <td>6253.0</td>\n",
       "      <td>2019-10-16</td>\n",
       "      <td>525000.0</td>\n",
       "      <td>2019-08-30</td>\n",
       "      <td>328000.0</td>\n",
       "      <td>Los Angeles</td>\n",
       "      <td>90047</td>\n",
       "      <td>CA</td>\n",
       "    </tr>\n",
       "    <tr>\n",
       "      <th>2</th>\n",
       "      <td>2</td>\n",
       "      <td>28093 Pine Ave</td>\n",
       "      <td>140000.0</td>\n",
       "      <td>'THE PERFECT CABIN TO FLIP!  Strawberry delight in old Strawberry just about a 3-minute walk to ...</td>\n",
       "      <td>SingleFamily</td>\n",
       "      <td>1958.0</td>\n",
       "      <td>Forced air</td>\n",
       "      <td>NaN</td>\n",
       "      <td>0 spaces</td>\n",
       "      <td>9147.0</td>\n",
       "      <td>2</td>\n",
       "      <td>3.0</td>\n",
       "      <td>1.0</td>\n",
       "      <td>1152.0</td>\n",
       "      <td>0.0</td>\n",
       "      <td>0.0</td>\n",
       "      <td>Strawberry</td>\n",
       "      <td>NaN</td>\n",
       "      <td>NaN</td>\n",
       "      <td>NaN</td>\n",
       "      <td>NaN</td>\n",
       "      <td>NaN</td>\n",
       "      <td>NaN</td>\n",
       "      <td>Long Barn High School</td>\n",
       "      <td>NaN</td>\n",
       "      <td>10.1</td>\n",
       "      <td>NaN</td>\n",
       "      <td>Forced air</td>\n",
       "      <td>NaN</td>\n",
       "      <td>NaN</td>\n",
       "      <td>NaN</td>\n",
       "      <td>NaN</td>\n",
       "      <td>49627.0</td>\n",
       "      <td>468.0</td>\n",
       "      <td>2019-08-25</td>\n",
       "      <td>180000.0</td>\n",
       "      <td>NaN</td>\n",
       "      <td>NaN</td>\n",
       "      <td>Strawberry</td>\n",
       "      <td>95375</td>\n",
       "      <td>CA</td>\n",
       "    </tr>\n",
       "    <tr>\n",
       "      <th>3</th>\n",
       "      <td>3</td>\n",
       "      <td>10750 Braddock Dr</td>\n",
       "      <td>1775000.0</td>\n",
       "      <td>Rare 2-story Gated 5 bedroom Modern Mediterranean conveniently located in Vet's Park close proxi...</td>\n",
       "      <td>SingleFamily</td>\n",
       "      <td>1947.0</td>\n",
       "      <td>Central</td>\n",
       "      <td>Central Air</td>\n",
       "      <td>Detached Carport, Driveway, Garage - Two Door</td>\n",
       "      <td>NaN</td>\n",
       "      <td>5</td>\n",
       "      <td>3.0</td>\n",
       "      <td>3.0</td>\n",
       "      <td>2612.0</td>\n",
       "      <td>0.0</td>\n",
       "      <td>0.0</td>\n",
       "      <td>Culver City</td>\n",
       "      <td>Farragut Elementary School</td>\n",
       "      <td>9.0</td>\n",
       "      <td>0.2</td>\n",
       "      <td>Culver City Middle School</td>\n",
       "      <td>7.0</td>\n",
       "      <td>0.2</td>\n",
       "      <td>Culver City High School</td>\n",
       "      <td>8.0</td>\n",
       "      <td>0.2</td>\n",
       "      <td>Wood, Tile</td>\n",
       "      <td>Central</td>\n",
       "      <td>Central Air</td>\n",
       "      <td>Dishwasher</td>\n",
       "      <td>Stackable, Upper Level</td>\n",
       "      <td>Detached Carport, Driveway, Garage - Two Door</td>\n",
       "      <td>1775000.0</td>\n",
       "      <td>20787.0</td>\n",
       "      <td>2019-10-24</td>\n",
       "      <td>1895000.0</td>\n",
       "      <td>2016-08-30</td>\n",
       "      <td>1500000.0</td>\n",
       "      <td>Culver City</td>\n",
       "      <td>90230</td>\n",
       "      <td>CA</td>\n",
       "    </tr>\n",
       "    <tr>\n",
       "      <th>4</th>\n",
       "      <td>4</td>\n",
       "      <td>7415 O Donovan Rd</td>\n",
       "      <td>1175000.0</td>\n",
       "      <td>Beautiful 200 acre ranch land with several pastures, lots of level land, fully fenced with amazi...</td>\n",
       "      <td>VacantLand</td>\n",
       "      <td>NaN</td>\n",
       "      <td>NaN</td>\n",
       "      <td>NaN</td>\n",
       "      <td>0 spaces</td>\n",
       "      <td>NaN</td>\n",
       "      <td>NaN</td>\n",
       "      <td>NaN</td>\n",
       "      <td>NaN</td>\n",
       "      <td>NaN</td>\n",
       "      <td>NaN</td>\n",
       "      <td>NaN</td>\n",
       "      <td>Creston</td>\n",
       "      <td>Santa Margarita Elementary School</td>\n",
       "      <td>6.0</td>\n",
       "      <td>8.5</td>\n",
       "      <td>Atascadero Middle School</td>\n",
       "      <td>5.0</td>\n",
       "      <td>10.2</td>\n",
       "      <td>Atascadero High School</td>\n",
       "      <td>6.0</td>\n",
       "      <td>10.6</td>\n",
       "      <td>NaN</td>\n",
       "      <td>NaN</td>\n",
       "      <td>NaN</td>\n",
       "      <td>NaN</td>\n",
       "      <td>NaN</td>\n",
       "      <td>NaN</td>\n",
       "      <td>NaN</td>\n",
       "      <td>NaN</td>\n",
       "      <td>2019-06-07</td>\n",
       "      <td>1595000.0</td>\n",
       "      <td>2016-06-27</td>\n",
       "      <td>900000.0</td>\n",
       "      <td>Creston</td>\n",
       "      <td>93432</td>\n",
       "      <td>CA</td>\n",
       "    </tr>\n",
       "  </tbody>\n",
       "</table>\n",
       "</div>"
      ],
      "text/plain": [
       "   Id            Address  Sold Price  \\\n",
       "0   0        540 Pine Ln   3825000.0   \n",
       "1   1     1727 W 67th St    505000.0   \n",
       "2   2     28093 Pine Ave    140000.0   \n",
       "3   3  10750 Braddock Dr   1775000.0   \n",
       "4   4  7415 O Donovan Rd   1175000.0   \n",
       "\n",
       "                                                                                               Summary  \\\n",
       "0  540 Pine Ln, Los Altos, CA 94022 is a single family home that contains 1 sq ft and was built in ...   \n",
       "1  HURRY, HURRY.......Great house 3 bed and 2 baths, detached  2 car garage with plenty of parking ...   \n",
       "2  'THE PERFECT CABIN TO FLIP!  Strawberry delight in old Strawberry just about a 3-minute walk to ...   \n",
       "3  Rare 2-story Gated 5 bedroom Modern Mediterranean conveniently located in Vet's Park close proxi...   \n",
       "4  Beautiful 200 acre ranch land with several pastures, lots of level land, fully fenced with amazi...   \n",
       "\n",
       "           Type  Year built                                       Heating  \\\n",
       "0  SingleFamily      1969.0  Heating - 2+ Zones, Central Forced Air - Gas   \n",
       "1  SingleFamily      1926.0                                   Combination   \n",
       "2  SingleFamily      1958.0                                    Forced air   \n",
       "3  SingleFamily      1947.0                                       Central   \n",
       "4    VacantLand         NaN                                           NaN   \n",
       "\n",
       "                                                 Cooling  \\\n",
       "0        Multi-Zone, Central AC, Whole House / Attic Fan   \n",
       "1  Wall/Window Unit(s), Evaporative Cooling, See Remarks   \n",
       "2                                                    NaN   \n",
       "3                                            Central Air   \n",
       "4                                                    NaN   \n",
       "\n",
       "                                         Parking     Lot  \\\n",
       "0             Garage, Garage - Attached, Covered     1.0   \n",
       "1                       Detached Carport, Garage  4047.0   \n",
       "2                                       0 spaces  9147.0   \n",
       "3  Detached Carport, Driveway, Garage - Two Door     NaN   \n",
       "4                                       0 spaces     NaN   \n",
       "\n",
       "                                                                                       Bedrooms  \\\n",
       "0  Ground Floor Bedroom, Master Bedroom on Ground Floor, Master Suite / Retreat, Walk-in Closet   \n",
       "1                                                                                             3   \n",
       "2                                                                                             2   \n",
       "3                                                                                             5   \n",
       "4                                                                                           NaN   \n",
       "\n",
       "   Bathrooms  Full bathrooms  Total interior livable area  Total spaces  \\\n",
       "0        0.0             NaN                          1.0           0.0   \n",
       "1        2.0             2.0                        872.0           1.0   \n",
       "2        3.0             1.0                       1152.0           0.0   \n",
       "3        3.0             3.0                       2612.0           0.0   \n",
       "4        NaN             NaN                          NaN           NaN   \n",
       "\n",
       "   Garage spaces       Region                  Elementary School  \\\n",
       "0            0.0    Los Altos       Santa Rita Elementary School   \n",
       "1            1.0  Los Angeles   Raymond Avenue Elementary School   \n",
       "2            0.0   Strawberry                                NaN   \n",
       "3            0.0  Culver City         Farragut Elementary School   \n",
       "4            NaN      Creston  Santa Margarita Elementary School   \n",
       "\n",
       "   Elementary School Score  Elementary School Distance  \\\n",
       "0                      7.0                         0.4   \n",
       "1                      3.0                         0.8   \n",
       "2                      NaN                         NaN   \n",
       "3                      9.0                         0.2   \n",
       "4                      6.0                         8.5   \n",
       "\n",
       "               Middle School  Middle School Score  Middle School Distance  \\\n",
       "0                        NaN                  NaN                     NaN   \n",
       "1    John Muir Middle School                  2.0                     1.1   \n",
       "2                        NaN                  NaN                     NaN   \n",
       "3  Culver City Middle School                  7.0                     0.2   \n",
       "4   Atascadero Middle School                  5.0                    10.2   \n",
       "\n",
       "                                             High School  High School Score  \\\n",
       "0                                  Los Altos High School                8.0   \n",
       "1  Augustus F. Hawkins High A Critical Design And Gaming                2.0   \n",
       "2                                  Long Barn High School                NaN   \n",
       "3                                Culver City High School                8.0   \n",
       "4                                 Atascadero High School                6.0   \n",
       "\n",
       "   High School Distance                Flooring Heating features  \\\n",
       "0                   1.3  Tile, Hardwood, Carpet  Forced air, Gas   \n",
       "1                   1.3                     NaN      Combination   \n",
       "2                  10.1                     NaN       Forced air   \n",
       "3                   0.2              Wood, Tile          Central   \n",
       "4                  10.6                     NaN              NaN   \n",
       "\n",
       "                                        Cooling features  \\\n",
       "0                                                Central   \n",
       "1  Wall/Window Unit(s), Evaporative Cooling, See Remarks   \n",
       "2                                                    NaN   \n",
       "3                                            Central Air   \n",
       "4                                                    NaN   \n",
       "\n",
       "                                                    Appliances included  \\\n",
       "0  Dishwasher, Dryer, Garbage disposal, Microwave, Refrigerator, Washer   \n",
       "1                                                                   NaN   \n",
       "2                                                                   NaN   \n",
       "3                                                            Dishwasher   \n",
       "4                                                                   NaN   \n",
       "\n",
       "                          Laundry features  \\\n",
       "0  Washer / Dryer, Inside, In Utility Room   \n",
       "1                                   Inside   \n",
       "2                                      NaN   \n",
       "3                   Stackable, Upper Level   \n",
       "4                                      NaN   \n",
       "\n",
       "                                Parking features  Tax assessed value  \\\n",
       "0             Garage, Garage - Attached, Covered            886486.0   \n",
       "1                       Detached Carport, Garage            505000.0   \n",
       "2                                            NaN             49627.0   \n",
       "3  Detached Carport, Driveway, Garage - Two Door           1775000.0   \n",
       "4                                            NaN                 NaN   \n",
       "\n",
       "   Annual tax amount   Listed On  Listed Price Last Sold On  Last Sold Price  \\\n",
       "0            12580.0  2019-10-24     4198000.0          NaN              NaN   \n",
       "1             6253.0  2019-10-16      525000.0   2019-08-30         328000.0   \n",
       "2              468.0  2019-08-25      180000.0          NaN              NaN   \n",
       "3            20787.0  2019-10-24     1895000.0   2016-08-30        1500000.0   \n",
       "4                NaN  2019-06-07     1595000.0   2016-06-27         900000.0   \n",
       "\n",
       "          City    Zip State  \n",
       "0    Los Altos  94022    CA  \n",
       "1  Los Angeles  90047    CA  \n",
       "2   Strawberry  95375    CA  \n",
       "3  Culver City  90230    CA  \n",
       "4      Creston  93432    CA  "
      ]
     },
     "execution_count": 1065,
     "metadata": {},
     "output_type": "execute_result"
    }
   ],
   "source": [
    "train.head()"
   ]
  },
  {
   "cell_type": "code",
   "execution_count": 1066,
   "id": "3e0343ca",
   "metadata": {},
   "outputs": [
    {
     "data": {
      "text/html": [
       "<div>\n",
       "<style scoped>\n",
       "    .dataframe tbody tr th:only-of-type {\n",
       "        vertical-align: middle;\n",
       "    }\n",
       "\n",
       "    .dataframe tbody tr th {\n",
       "        vertical-align: top;\n",
       "    }\n",
       "\n",
       "    .dataframe thead th {\n",
       "        text-align: right;\n",
       "    }\n",
       "</style>\n",
       "<table border=\"1\" class=\"dataframe\">\n",
       "  <thead>\n",
       "    <tr style=\"text-align: right;\">\n",
       "      <th></th>\n",
       "      <th>Id</th>\n",
       "      <th>Address</th>\n",
       "      <th>Summary</th>\n",
       "      <th>Type</th>\n",
       "      <th>Year built</th>\n",
       "      <th>Heating</th>\n",
       "      <th>Cooling</th>\n",
       "      <th>Parking</th>\n",
       "      <th>Lot</th>\n",
       "      <th>Bedrooms</th>\n",
       "      <th>Bathrooms</th>\n",
       "      <th>Full bathrooms</th>\n",
       "      <th>Total interior livable area</th>\n",
       "      <th>Total spaces</th>\n",
       "      <th>Garage spaces</th>\n",
       "      <th>Region</th>\n",
       "      <th>Elementary School</th>\n",
       "      <th>Elementary School Score</th>\n",
       "      <th>Elementary School Distance</th>\n",
       "      <th>Middle School</th>\n",
       "      <th>Middle School Score</th>\n",
       "      <th>Middle School Distance</th>\n",
       "      <th>High School</th>\n",
       "      <th>High School Score</th>\n",
       "      <th>High School Distance</th>\n",
       "      <th>Flooring</th>\n",
       "      <th>Heating features</th>\n",
       "      <th>Cooling features</th>\n",
       "      <th>Appliances included</th>\n",
       "      <th>Laundry features</th>\n",
       "      <th>Parking features</th>\n",
       "      <th>Tax assessed value</th>\n",
       "      <th>Annual tax amount</th>\n",
       "      <th>Listed On</th>\n",
       "      <th>Listed Price</th>\n",
       "      <th>Last Sold On</th>\n",
       "      <th>Last Sold Price</th>\n",
       "      <th>City</th>\n",
       "      <th>Zip</th>\n",
       "      <th>State</th>\n",
       "    </tr>\n",
       "  </thead>\n",
       "  <tbody>\n",
       "    <tr>\n",
       "      <th>0</th>\n",
       "      <td>47439</td>\n",
       "      <td>3034 N Coolidge Ave</td>\n",
       "      <td>Live within steps to the scenic views on the LA River and bike path. Coolidge Place is the epito...</td>\n",
       "      <td>SingleFamily</td>\n",
       "      <td>2020.0</td>\n",
       "      <td>Central</td>\n",
       "      <td>Central Air</td>\n",
       "      <td>Tandem Uncovered</td>\n",
       "      <td>940.0</td>\n",
       "      <td>2</td>\n",
       "      <td>4.0</td>\n",
       "      <td>3.0</td>\n",
       "      <td>1677.0</td>\n",
       "      <td>4.0</td>\n",
       "      <td>4.0</td>\n",
       "      <td>Los Angeles</td>\n",
       "      <td>Allesandro Elementary School</td>\n",
       "      <td>8.0</td>\n",
       "      <td>0.5</td>\n",
       "      <td>NaN</td>\n",
       "      <td>NaN</td>\n",
       "      <td>NaN</td>\n",
       "      <td>NaN</td>\n",
       "      <td>NaN</td>\n",
       "      <td>NaN</td>\n",
       "      <td>Vinyl</td>\n",
       "      <td>Central</td>\n",
       "      <td>Central Air</td>\n",
       "      <td>Dishwasher, Disposal, Microwave, Tankless Water Heater, Water Line to Refrigerator</td>\n",
       "      <td>Stackable</td>\n",
       "      <td>Tandem Uncovered</td>\n",
       "      <td>NaN</td>\n",
       "      <td>NaN</td>\n",
       "      <td>2020-11-06</td>\n",
       "      <td>799900.0</td>\n",
       "      <td>2020-07-01</td>\n",
       "      <td>819000.0</td>\n",
       "      <td>Dodgertown</td>\n",
       "      <td>90090</td>\n",
       "      <td>CA</td>\n",
       "    </tr>\n",
       "    <tr>\n",
       "      <th>1</th>\n",
       "      <td>47440</td>\n",
       "      <td>565 Kenilworth Ave</td>\n",
       "      <td>duplex fixer. Input for comps only</td>\n",
       "      <td>SingleFamily</td>\n",
       "      <td>1924.0</td>\n",
       "      <td>Natural Gas</td>\n",
       "      <td>None</td>\n",
       "      <td>Detached</td>\n",
       "      <td>10018.8</td>\n",
       "      <td>3</td>\n",
       "      <td>2.0</td>\n",
       "      <td>NaN</td>\n",
       "      <td>1729.0</td>\n",
       "      <td>2.0</td>\n",
       "      <td>2.0</td>\n",
       "      <td>San Leandro</td>\n",
       "      <td>Roosevelt Elementary School</td>\n",
       "      <td>6.0</td>\n",
       "      <td>0.3</td>\n",
       "      <td>Bancroft Middle School</td>\n",
       "      <td>4.0</td>\n",
       "      <td>0.5</td>\n",
       "      <td>San Leandro High School</td>\n",
       "      <td>5.0</td>\n",
       "      <td>1.2</td>\n",
       "      <td>Wood</td>\n",
       "      <td>Natural Gas</td>\n",
       "      <td>None</td>\n",
       "      <td>NaN</td>\n",
       "      <td>Other</td>\n",
       "      <td>Detached</td>\n",
       "      <td>521977.0</td>\n",
       "      <td>7494.0</td>\n",
       "      <td>2014-04-04</td>\n",
       "      <td>479950.0</td>\n",
       "      <td>2020-11-03</td>\n",
       "      <td>15000.0</td>\n",
       "      <td>San Leandro</td>\n",
       "      <td>94577</td>\n",
       "      <td>CA</td>\n",
       "    </tr>\n",
       "    <tr>\n",
       "      <th>2</th>\n",
       "      <td>47441</td>\n",
       "      <td>3028 N Coolidge Ave</td>\n",
       "      <td>Live within steps to the scenic views on the LA River and bike path. Coolidge Place is the epito...</td>\n",
       "      <td>SingleFamily</td>\n",
       "      <td>2020.0</td>\n",
       "      <td>Central</td>\n",
       "      <td>Central Air</td>\n",
       "      <td>Tandem Uncovered</td>\n",
       "      <td>940.0</td>\n",
       "      <td>2</td>\n",
       "      <td>4.0</td>\n",
       "      <td>3.0</td>\n",
       "      <td>1677.0</td>\n",
       "      <td>4.0</td>\n",
       "      <td>4.0</td>\n",
       "      <td>Los Angeles</td>\n",
       "      <td>Allesandro Elementary School</td>\n",
       "      <td>8.0</td>\n",
       "      <td>0.5</td>\n",
       "      <td>NaN</td>\n",
       "      <td>NaN</td>\n",
       "      <td>NaN</td>\n",
       "      <td>NaN</td>\n",
       "      <td>NaN</td>\n",
       "      <td>NaN</td>\n",
       "      <td>Vinyl</td>\n",
       "      <td>Central</td>\n",
       "      <td>Central Air</td>\n",
       "      <td>Dishwasher, Disposal, Microwave, Tankless Water Heater, Water Line to Refrigerator</td>\n",
       "      <td>Stackable</td>\n",
       "      <td>Tandem Uncovered</td>\n",
       "      <td>NaN</td>\n",
       "      <td>NaN</td>\n",
       "      <td>2020-11-12</td>\n",
       "      <td>839900.0</td>\n",
       "      <td>NaN</td>\n",
       "      <td>NaN</td>\n",
       "      <td>Los Angeles</td>\n",
       "      <td>90039</td>\n",
       "      <td>CA</td>\n",
       "    </tr>\n",
       "    <tr>\n",
       "      <th>3</th>\n",
       "      <td>47442</td>\n",
       "      <td>3022 N North Coolidge Ave</td>\n",
       "      <td>Live within steps to the scenic views on the LA River and bike path. Coolidge Place is the epito...</td>\n",
       "      <td>SingleFamily</td>\n",
       "      <td>2020.0</td>\n",
       "      <td>Central</td>\n",
       "      <td>Central Air</td>\n",
       "      <td>Tandem Uncovered</td>\n",
       "      <td>940.0</td>\n",
       "      <td>2</td>\n",
       "      <td>4.0</td>\n",
       "      <td>3.0</td>\n",
       "      <td>1609.0</td>\n",
       "      <td>4.0</td>\n",
       "      <td>4.0</td>\n",
       "      <td>Los Angeles</td>\n",
       "      <td>Allesandro Elementary School</td>\n",
       "      <td>8.0</td>\n",
       "      <td>0.5</td>\n",
       "      <td>NaN</td>\n",
       "      <td>NaN</td>\n",
       "      <td>NaN</td>\n",
       "      <td>NaN</td>\n",
       "      <td>NaN</td>\n",
       "      <td>NaN</td>\n",
       "      <td>Vinyl</td>\n",
       "      <td>Central</td>\n",
       "      <td>Central Air</td>\n",
       "      <td>Dishwasher, Disposal, Microwave, Tankless Water Heater, Water Line to Refrigerator</td>\n",
       "      <td>Stackable</td>\n",
       "      <td>Tandem Uncovered</td>\n",
       "      <td>442800.0</td>\n",
       "      <td>5370.0</td>\n",
       "      <td>2020-11-06</td>\n",
       "      <td>809900.0</td>\n",
       "      <td>2020-09-21</td>\n",
       "      <td>810000.0</td>\n",
       "      <td>Dodgertown</td>\n",
       "      <td>90090</td>\n",
       "      <td>CA</td>\n",
       "    </tr>\n",
       "    <tr>\n",
       "      <th>4</th>\n",
       "      <td>47443</td>\n",
       "      <td>2515 Admiral Cir</td>\n",
       "      <td>This beautiful, spacious home built in 2017 is truly one-of-a-kind and maintains its privacy, ba...</td>\n",
       "      <td>SingleFamily</td>\n",
       "      <td>2017.0</td>\n",
       "      <td>Forced Air</td>\n",
       "      <td>Central Air</td>\n",
       "      <td>Garage Door Opener, Attached</td>\n",
       "      <td>2613.6</td>\n",
       "      <td>4</td>\n",
       "      <td>3.0</td>\n",
       "      <td>NaN</td>\n",
       "      <td>2377.0</td>\n",
       "      <td>2.0</td>\n",
       "      <td>2.0</td>\n",
       "      <td>Hayward</td>\n",
       "      <td>Lorin A. Eden Elementary School</td>\n",
       "      <td>4.0</td>\n",
       "      <td>1.0</td>\n",
       "      <td>Anthony W. Ochoa Middle School</td>\n",
       "      <td>4.0</td>\n",
       "      <td>2.1</td>\n",
       "      <td>Mount Eden High School</td>\n",
       "      <td>5.0</td>\n",
       "      <td>0.7</td>\n",
       "      <td>Carpet, Tile</td>\n",
       "      <td>Forced Air</td>\n",
       "      <td>Central Air</td>\n",
       "      <td>Water Filter System, Dishwasher, Disposal, Microwave, Range, Refrigerator</td>\n",
       "      <td>Laundry Room</td>\n",
       "      <td>Garage Door Opener, Attached</td>\n",
       "      <td>965282.0</td>\n",
       "      <td>12912.0</td>\n",
       "      <td>2020-12-02</td>\n",
       "      <td>1095000.0</td>\n",
       "      <td>2019-12-27</td>\n",
       "      <td>1041000.0</td>\n",
       "      <td>Hayward</td>\n",
       "      <td>94545</td>\n",
       "      <td>CA</td>\n",
       "    </tr>\n",
       "  </tbody>\n",
       "</table>\n",
       "</div>"
      ],
      "text/plain": [
       "      Id                    Address  \\\n",
       "0  47439        3034 N Coolidge Ave   \n",
       "1  47440         565 Kenilworth Ave   \n",
       "2  47441        3028 N Coolidge Ave   \n",
       "3  47442  3022 N North Coolidge Ave   \n",
       "4  47443           2515 Admiral Cir   \n",
       "\n",
       "                                                                                               Summary  \\\n",
       "0  Live within steps to the scenic views on the LA River and bike path. Coolidge Place is the epito...   \n",
       "1                                                                   duplex fixer. Input for comps only   \n",
       "2  Live within steps to the scenic views on the LA River and bike path. Coolidge Place is the epito...   \n",
       "3  Live within steps to the scenic views on the LA River and bike path. Coolidge Place is the epito...   \n",
       "4  This beautiful, spacious home built in 2017 is truly one-of-a-kind and maintains its privacy, ba...   \n",
       "\n",
       "           Type  Year built      Heating      Cooling  \\\n",
       "0  SingleFamily      2020.0      Central  Central Air   \n",
       "1  SingleFamily      1924.0  Natural Gas         None   \n",
       "2  SingleFamily      2020.0      Central  Central Air   \n",
       "3  SingleFamily      2020.0      Central  Central Air   \n",
       "4  SingleFamily      2017.0   Forced Air  Central Air   \n",
       "\n",
       "                        Parking      Lot Bedrooms  Bathrooms  Full bathrooms  \\\n",
       "0              Tandem Uncovered    940.0        2        4.0             3.0   \n",
       "1                      Detached  10018.8        3        2.0             NaN   \n",
       "2              Tandem Uncovered    940.0        2        4.0             3.0   \n",
       "3              Tandem Uncovered    940.0        2        4.0             3.0   \n",
       "4  Garage Door Opener, Attached   2613.6        4        3.0             NaN   \n",
       "\n",
       "   Total interior livable area  Total spaces  Garage spaces       Region  \\\n",
       "0                       1677.0           4.0            4.0  Los Angeles   \n",
       "1                       1729.0           2.0            2.0  San Leandro   \n",
       "2                       1677.0           4.0            4.0  Los Angeles   \n",
       "3                       1609.0           4.0            4.0  Los Angeles   \n",
       "4                       2377.0           2.0            2.0      Hayward   \n",
       "\n",
       "                 Elementary School  Elementary School Score  \\\n",
       "0     Allesandro Elementary School                      8.0   \n",
       "1      Roosevelt Elementary School                      6.0   \n",
       "2     Allesandro Elementary School                      8.0   \n",
       "3     Allesandro Elementary School                      8.0   \n",
       "4  Lorin A. Eden Elementary School                      4.0   \n",
       "\n",
       "   Elementary School Distance                   Middle School  \\\n",
       "0                         0.5                             NaN   \n",
       "1                         0.3          Bancroft Middle School   \n",
       "2                         0.5                             NaN   \n",
       "3                         0.5                             NaN   \n",
       "4                         1.0  Anthony W. Ochoa Middle School   \n",
       "\n",
       "   Middle School Score  Middle School Distance              High School  \\\n",
       "0                  NaN                     NaN                      NaN   \n",
       "1                  4.0                     0.5  San Leandro High School   \n",
       "2                  NaN                     NaN                      NaN   \n",
       "3                  NaN                     NaN                      NaN   \n",
       "4                  4.0                     2.1   Mount Eden High School   \n",
       "\n",
       "   High School Score  High School Distance      Flooring Heating features  \\\n",
       "0                NaN                   NaN         Vinyl          Central   \n",
       "1                5.0                   1.2          Wood      Natural Gas   \n",
       "2                NaN                   NaN         Vinyl          Central   \n",
       "3                NaN                   NaN         Vinyl          Central   \n",
       "4                5.0                   0.7  Carpet, Tile       Forced Air   \n",
       "\n",
       "  Cooling features  \\\n",
       "0      Central Air   \n",
       "1             None   \n",
       "2      Central Air   \n",
       "3      Central Air   \n",
       "4      Central Air   \n",
       "\n",
       "                                                                  Appliances included  \\\n",
       "0  Dishwasher, Disposal, Microwave, Tankless Water Heater, Water Line to Refrigerator   \n",
       "1                                                                                 NaN   \n",
       "2  Dishwasher, Disposal, Microwave, Tankless Water Heater, Water Line to Refrigerator   \n",
       "3  Dishwasher, Disposal, Microwave, Tankless Water Heater, Water Line to Refrigerator   \n",
       "4           Water Filter System, Dishwasher, Disposal, Microwave, Range, Refrigerator   \n",
       "\n",
       "  Laundry features              Parking features  Tax assessed value  \\\n",
       "0        Stackable              Tandem Uncovered                 NaN   \n",
       "1            Other                      Detached            521977.0   \n",
       "2        Stackable              Tandem Uncovered                 NaN   \n",
       "3        Stackable              Tandem Uncovered            442800.0   \n",
       "4     Laundry Room  Garage Door Opener, Attached            965282.0   \n",
       "\n",
       "   Annual tax amount   Listed On  Listed Price Last Sold On  Last Sold Price  \\\n",
       "0                NaN  2020-11-06      799900.0   2020-07-01         819000.0   \n",
       "1             7494.0  2014-04-04      479950.0   2020-11-03          15000.0   \n",
       "2                NaN  2020-11-12      839900.0          NaN              NaN   \n",
       "3             5370.0  2020-11-06      809900.0   2020-09-21         810000.0   \n",
       "4            12912.0  2020-12-02     1095000.0   2019-12-27        1041000.0   \n",
       "\n",
       "          City    Zip State  \n",
       "0   Dodgertown  90090    CA  \n",
       "1  San Leandro  94577    CA  \n",
       "2  Los Angeles  90039    CA  \n",
       "3   Dodgertown  90090    CA  \n",
       "4      Hayward  94545    CA  "
      ]
     },
     "execution_count": 1066,
     "metadata": {},
     "output_type": "execute_result"
    }
   ],
   "source": [
    "test.head()"
   ]
  },
  {
   "cell_type": "markdown",
   "id": "682e39d5",
   "metadata": {},
   "source": [
    "NB - lot refers to size of yard; total liveable area the sq. ft.."
   ]
  },
  {
   "cell_type": "markdown",
   "id": "02bbb995",
   "metadata": {},
   "source": [
    "## Shape"
   ]
  },
  {
   "cell_type": "code",
   "execution_count": 1067,
   "id": "685d9d85",
   "metadata": {},
   "outputs": [
    {
     "data": {
      "text/plain": [
       "(47439, 41)"
      ]
     },
     "execution_count": 1067,
     "metadata": {},
     "output_type": "execute_result"
    }
   ],
   "source": [
    "train.shape"
   ]
  },
  {
   "cell_type": "code",
   "execution_count": 1068,
   "id": "8a7edbc9",
   "metadata": {},
   "outputs": [
    {
     "data": {
      "text/plain": [
       "(31626, 40)"
      ]
     },
     "execution_count": 1068,
     "metadata": {},
     "output_type": "execute_result"
    }
   ],
   "source": [
    "test.shape"
   ]
  },
  {
   "cell_type": "markdown",
   "id": "7ddb1b8f",
   "metadata": {},
   "source": [
    "## Describing the data"
   ]
  },
  {
   "cell_type": "markdown",
   "id": "b9a83d7d",
   "metadata": {},
   "source": [
    "### Train"
   ]
  },
  {
   "cell_type": "code",
   "execution_count": 1069,
   "id": "75df6e6d",
   "metadata": {
    "scrolled": true
   },
   "outputs": [
    {
     "data": {
      "text/html": [
       "<div>\n",
       "<style scoped>\n",
       "    .dataframe tbody tr th:only-of-type {\n",
       "        vertical-align: middle;\n",
       "    }\n",
       "\n",
       "    .dataframe tbody tr th {\n",
       "        vertical-align: top;\n",
       "    }\n",
       "\n",
       "    .dataframe thead th {\n",
       "        text-align: right;\n",
       "    }\n",
       "</style>\n",
       "<table border=\"1\" class=\"dataframe\">\n",
       "  <thead>\n",
       "    <tr style=\"text-align: right;\">\n",
       "      <th></th>\n",
       "      <th>Id</th>\n",
       "      <th>Sold Price</th>\n",
       "      <th>Year built</th>\n",
       "      <th>Lot</th>\n",
       "      <th>Bathrooms</th>\n",
       "      <th>Full bathrooms</th>\n",
       "      <th>Total interior livable area</th>\n",
       "      <th>Total spaces</th>\n",
       "      <th>Garage spaces</th>\n",
       "      <th>Elementary School Score</th>\n",
       "      <th>Elementary School Distance</th>\n",
       "      <th>Middle School Score</th>\n",
       "      <th>Middle School Distance</th>\n",
       "      <th>High School Score</th>\n",
       "      <th>High School Distance</th>\n",
       "      <th>Tax assessed value</th>\n",
       "      <th>Annual tax amount</th>\n",
       "      <th>Listed Price</th>\n",
       "      <th>Last Sold Price</th>\n",
       "      <th>Zip</th>\n",
       "    </tr>\n",
       "  </thead>\n",
       "  <tbody>\n",
       "    <tr>\n",
       "      <th>count</th>\n",
       "      <td>47439.00</td>\n",
       "      <td>47439.00</td>\n",
       "      <td>46394.00</td>\n",
       "      <td>33258.00</td>\n",
       "      <td>43974.00</td>\n",
       "      <td>39574.00</td>\n",
       "      <td>44913.00</td>\n",
       "      <td>46523.00</td>\n",
       "      <td>46522.00</td>\n",
       "      <td>42543.00</td>\n",
       "      <td>42697.00</td>\n",
       "      <td>30734.00</td>\n",
       "      <td>30735.00</td>\n",
       "      <td>42220.00</td>\n",
       "      <td>42438.00</td>\n",
       "      <td>43787.00</td>\n",
       "      <td>43129.00</td>\n",
       "      <td>47439.00</td>\n",
       "      <td>29673.00</td>\n",
       "      <td>47439.00</td>\n",
       "    </tr>\n",
       "    <tr>\n",
       "      <th>mean</th>\n",
       "      <td>23719.00</td>\n",
       "      <td>1296050.50</td>\n",
       "      <td>1956.63</td>\n",
       "      <td>235338.26</td>\n",
       "      <td>2.36</td>\n",
       "      <td>2.09</td>\n",
       "      <td>5774.59</td>\n",
       "      <td>1.57</td>\n",
       "      <td>1.49</td>\n",
       "      <td>5.72</td>\n",
       "      <td>1.15</td>\n",
       "      <td>5.32</td>\n",
       "      <td>1.69</td>\n",
       "      <td>6.13</td>\n",
       "      <td>2.41</td>\n",
       "      <td>786311.76</td>\n",
       "      <td>9956.84</td>\n",
       "      <td>1315890.33</td>\n",
       "      <td>807853.71</td>\n",
       "      <td>93279.18</td>\n",
       "    </tr>\n",
       "    <tr>\n",
       "      <th>std</th>\n",
       "      <td>13694.60</td>\n",
       "      <td>1694452.20</td>\n",
       "      <td>145.80</td>\n",
       "      <td>11925073.92</td>\n",
       "      <td>1.19</td>\n",
       "      <td>0.96</td>\n",
       "      <td>832436.27</td>\n",
       "      <td>9.01</td>\n",
       "      <td>8.96</td>\n",
       "      <td>2.10</td>\n",
       "      <td>2.33</td>\n",
       "      <td>2.00</td>\n",
       "      <td>2.46</td>\n",
       "      <td>1.98</td>\n",
       "      <td>3.60</td>\n",
       "      <td>1157796.05</td>\n",
       "      <td>13884.25</td>\n",
       "      <td>2628695.46</td>\n",
       "      <td>1177902.64</td>\n",
       "      <td>2263.46</td>\n",
       "    </tr>\n",
       "    <tr>\n",
       "      <th>min</th>\n",
       "      <td>0.00</td>\n",
       "      <td>100500.00</td>\n",
       "      <td>0.00</td>\n",
       "      <td>0.00</td>\n",
       "      <td>0.00</td>\n",
       "      <td>1.00</td>\n",
       "      <td>1.00</td>\n",
       "      <td>-15.00</td>\n",
       "      <td>-15.00</td>\n",
       "      <td>1.00</td>\n",
       "      <td>0.00</td>\n",
       "      <td>1.00</td>\n",
       "      <td>0.00</td>\n",
       "      <td>1.00</td>\n",
       "      <td>0.00</td>\n",
       "      <td>0.00</td>\n",
       "      <td>0.00</td>\n",
       "      <td>0.00</td>\n",
       "      <td>0.00</td>\n",
       "      <td>85611.00</td>\n",
       "    </tr>\n",
       "    <tr>\n",
       "      <th>25%</th>\n",
       "      <td>11859.50</td>\n",
       "      <td>565000.00</td>\n",
       "      <td>1946.00</td>\n",
       "      <td>4991.00</td>\n",
       "      <td>2.00</td>\n",
       "      <td>2.00</td>\n",
       "      <td>1187.00</td>\n",
       "      <td>0.00</td>\n",
       "      <td>0.00</td>\n",
       "      <td>4.00</td>\n",
       "      <td>0.30</td>\n",
       "      <td>4.00</td>\n",
       "      <td>0.60</td>\n",
       "      <td>5.00</td>\n",
       "      <td>0.80</td>\n",
       "      <td>254961.50</td>\n",
       "      <td>3467.00</td>\n",
       "      <td>574500.00</td>\n",
       "      <td>335000.00</td>\n",
       "      <td>90220.00</td>\n",
       "    </tr>\n",
       "    <tr>\n",
       "      <th>50%</th>\n",
       "      <td>23719.00</td>\n",
       "      <td>960000.00</td>\n",
       "      <td>1967.00</td>\n",
       "      <td>6502.00</td>\n",
       "      <td>2.00</td>\n",
       "      <td>2.00</td>\n",
       "      <td>1566.00</td>\n",
       "      <td>1.00</td>\n",
       "      <td>1.00</td>\n",
       "      <td>6.00</td>\n",
       "      <td>0.50</td>\n",
       "      <td>5.00</td>\n",
       "      <td>1.00</td>\n",
       "      <td>6.00</td>\n",
       "      <td>1.30</td>\n",
       "      <td>547524.00</td>\n",
       "      <td>7129.00</td>\n",
       "      <td>949000.00</td>\n",
       "      <td>598000.00</td>\n",
       "      <td>94114.00</td>\n",
       "    </tr>\n",
       "    <tr>\n",
       "      <th>75%</th>\n",
       "      <td>35578.50</td>\n",
       "      <td>1525000.00</td>\n",
       "      <td>1989.00</td>\n",
       "      <td>10454.00</td>\n",
       "      <td>3.00</td>\n",
       "      <td>2.00</td>\n",
       "      <td>2142.00</td>\n",
       "      <td>2.00</td>\n",
       "      <td>2.00</td>\n",
       "      <td>7.00</td>\n",
       "      <td>1.00</td>\n",
       "      <td>7.00</td>\n",
       "      <td>1.80</td>\n",
       "      <td>8.00</td>\n",
       "      <td>2.40</td>\n",
       "      <td>937162.50</td>\n",
       "      <td>12010.00</td>\n",
       "      <td>1498844.00</td>\n",
       "      <td>950000.00</td>\n",
       "      <td>95073.00</td>\n",
       "    </tr>\n",
       "    <tr>\n",
       "      <th>max</th>\n",
       "      <td>47438.00</td>\n",
       "      <td>90000000.00</td>\n",
       "      <td>9999.00</td>\n",
       "      <td>1897473600.00</td>\n",
       "      <td>24.00</td>\n",
       "      <td>17.00</td>\n",
       "      <td>176416380.00</td>\n",
       "      <td>1000.00</td>\n",
       "      <td>1000.00</td>\n",
       "      <td>10.00</td>\n",
       "      <td>57.20</td>\n",
       "      <td>9.00</td>\n",
       "      <td>57.20</td>\n",
       "      <td>10.00</td>\n",
       "      <td>73.90</td>\n",
       "      <td>45900000.00</td>\n",
       "      <td>552485.00</td>\n",
       "      <td>402532000.00</td>\n",
       "      <td>90000000.00</td>\n",
       "      <td>96155.00</td>\n",
       "    </tr>\n",
       "  </tbody>\n",
       "</table>\n",
       "</div>"
      ],
      "text/plain": [
       "             Id   Sold Price Year built            Lot Bathrooms  \\\n",
       "count  47439.00     47439.00   46394.00       33258.00  43974.00   \n",
       "mean   23719.00   1296050.50    1956.63      235338.26      2.36   \n",
       "std    13694.60   1694452.20     145.80    11925073.92      1.19   \n",
       "min        0.00    100500.00       0.00           0.00      0.00   \n",
       "25%    11859.50    565000.00    1946.00        4991.00      2.00   \n",
       "50%    23719.00    960000.00    1967.00        6502.00      2.00   \n",
       "75%    35578.50   1525000.00    1989.00       10454.00      3.00   \n",
       "max    47438.00  90000000.00    9999.00  1897473600.00     24.00   \n",
       "\n",
       "      Full bathrooms Total interior livable area Total spaces Garage spaces  \\\n",
       "count       39574.00                    44913.00     46523.00      46522.00   \n",
       "mean            2.09                     5774.59         1.57          1.49   \n",
       "std             0.96                   832436.27         9.01          8.96   \n",
       "min             1.00                        1.00       -15.00        -15.00   \n",
       "25%             2.00                     1187.00         0.00          0.00   \n",
       "50%             2.00                     1566.00         1.00          1.00   \n",
       "75%             2.00                     2142.00         2.00          2.00   \n",
       "max            17.00                176416380.00      1000.00       1000.00   \n",
       "\n",
       "      Elementary School Score Elementary School Distance Middle School Score  \\\n",
       "count                42543.00                   42697.00            30734.00   \n",
       "mean                     5.72                       1.15                5.32   \n",
       "std                      2.10                       2.33                2.00   \n",
       "min                      1.00                       0.00                1.00   \n",
       "25%                      4.00                       0.30                4.00   \n",
       "50%                      6.00                       0.50                5.00   \n",
       "75%                      7.00                       1.00                7.00   \n",
       "max                     10.00                      57.20                9.00   \n",
       "\n",
       "      Middle School Distance High School Score High School Distance  \\\n",
       "count               30735.00          42220.00             42438.00   \n",
       "mean                    1.69              6.13                 2.41   \n",
       "std                     2.46              1.98                 3.60   \n",
       "min                     0.00              1.00                 0.00   \n",
       "25%                     0.60              5.00                 0.80   \n",
       "50%                     1.00              6.00                 1.30   \n",
       "75%                     1.80              8.00                 2.40   \n",
       "max                    57.20             10.00                73.90   \n",
       "\n",
       "      Tax assessed value Annual tax amount  Listed Price Last Sold Price  \\\n",
       "count           43787.00          43129.00      47439.00        29673.00   \n",
       "mean           786311.76           9956.84    1315890.33       807853.71   \n",
       "std           1157796.05          13884.25    2628695.46      1177902.64   \n",
       "min                 0.00              0.00          0.00            0.00   \n",
       "25%            254961.50           3467.00     574500.00       335000.00   \n",
       "50%            547524.00           7129.00     949000.00       598000.00   \n",
       "75%            937162.50          12010.00    1498844.00       950000.00   \n",
       "max          45900000.00         552485.00  402532000.00     90000000.00   \n",
       "\n",
       "            Zip  \n",
       "count  47439.00  \n",
       "mean   93279.18  \n",
       "std     2263.46  \n",
       "min    85611.00  \n",
       "25%    90220.00  \n",
       "50%    94114.00  \n",
       "75%    95073.00  \n",
       "max    96155.00  "
      ]
     },
     "execution_count": 1069,
     "metadata": {},
     "output_type": "execute_result"
    }
   ],
   "source": [
    "train.describe().apply(lambda s: s.apply('{0:.2f}'.format))"
   ]
  },
  {
   "cell_type": "markdown",
   "id": "332fa6d5",
   "metadata": {},
   "source": [
    "Suppress scientific notation - https://stackoverflow.com/questions/40347689/dataframe-describe-suppress-scientific-notation"
   ]
  },
  {
   "cell_type": "code",
   "execution_count": 1070,
   "id": "7b35715b",
   "metadata": {},
   "outputs": [
    {
     "data": {
      "text/html": [
       "<div>\n",
       "<style scoped>\n",
       "    .dataframe tbody tr th:only-of-type {\n",
       "        vertical-align: middle;\n",
       "    }\n",
       "\n",
       "    .dataframe tbody tr th {\n",
       "        vertical-align: top;\n",
       "    }\n",
       "\n",
       "    .dataframe thead th {\n",
       "        text-align: right;\n",
       "    }\n",
       "</style>\n",
       "<table border=\"1\" class=\"dataframe\">\n",
       "  <thead>\n",
       "    <tr style=\"text-align: right;\">\n",
       "      <th></th>\n",
       "      <th>Address</th>\n",
       "      <th>Summary</th>\n",
       "      <th>Type</th>\n",
       "      <th>Heating</th>\n",
       "      <th>Cooling</th>\n",
       "      <th>Parking</th>\n",
       "      <th>Bedrooms</th>\n",
       "      <th>Region</th>\n",
       "      <th>Elementary School</th>\n",
       "      <th>Middle School</th>\n",
       "      <th>High School</th>\n",
       "      <th>Flooring</th>\n",
       "      <th>Heating features</th>\n",
       "      <th>Cooling features</th>\n",
       "      <th>Appliances included</th>\n",
       "      <th>Laundry features</th>\n",
       "      <th>Parking features</th>\n",
       "      <th>Listed On</th>\n",
       "      <th>Last Sold On</th>\n",
       "      <th>City</th>\n",
       "      <th>State</th>\n",
       "    </tr>\n",
       "  </thead>\n",
       "  <tbody>\n",
       "    <tr>\n",
       "      <th>count</th>\n",
       "      <td>47439</td>\n",
       "      <td>47089</td>\n",
       "      <td>47439</td>\n",
       "      <td>40974</td>\n",
       "      <td>36817</td>\n",
       "      <td>46531</td>\n",
       "      <td>44567</td>\n",
       "      <td>47437</td>\n",
       "      <td>42697</td>\n",
       "      <td>30735</td>\n",
       "      <td>42439</td>\n",
       "      <td>35875</td>\n",
       "      <td>40274</td>\n",
       "      <td>35657</td>\n",
       "      <td>33997</td>\n",
       "      <td>33315</td>\n",
       "      <td>43131</td>\n",
       "      <td>47439</td>\n",
       "      <td>29673</td>\n",
       "      <td>47439</td>\n",
       "      <td>47439</td>\n",
       "    </tr>\n",
       "    <tr>\n",
       "      <th>unique</th>\n",
       "      <td>47325</td>\n",
       "      <td>46788</td>\n",
       "      <td>158</td>\n",
       "      <td>1860</td>\n",
       "      <td>541</td>\n",
       "      <td>5113</td>\n",
       "      <td>264</td>\n",
       "      <td>949</td>\n",
       "      <td>1717</td>\n",
       "      <td>488</td>\n",
       "      <td>630</td>\n",
       "      <td>1348</td>\n",
       "      <td>1122</td>\n",
       "      <td>312</td>\n",
       "      <td>4584</td>\n",
       "      <td>1976</td>\n",
       "      <td>4960</td>\n",
       "      <td>2467</td>\n",
       "      <td>6113</td>\n",
       "      <td>929</td>\n",
       "      <td>2</td>\n",
       "    </tr>\n",
       "    <tr>\n",
       "      <th>top</th>\n",
       "      <td>55 W 20th Ave</td>\n",
       "      <td>Neighboring The Ace Hotel, 939 S. Broadway is the epitome of effort lessliving in Downtown Los A...</td>\n",
       "      <td>SingleFamily</td>\n",
       "      <td>Central</td>\n",
       "      <td>None</td>\n",
       "      <td>Garage, Garage - Attached, Covered</td>\n",
       "      <td>3</td>\n",
       "      <td>Los Angeles</td>\n",
       "      <td>Laurel Elementary School</td>\n",
       "      <td>Hubert Howe Bancroft Middle School</td>\n",
       "      <td>Fairfax Senior High School</td>\n",
       "      <td>Wood</td>\n",
       "      <td>Forced air, Gas</td>\n",
       "      <td>Central</td>\n",
       "      <td>Dishwasher, Dryer, Garbage disposal, Microwave, Range / Oven, Refrigerator, Washer</td>\n",
       "      <td>Inside</td>\n",
       "      <td>Garage, Garage - Attached, Covered</td>\n",
       "      <td>2020-10-16</td>\n",
       "      <td>2017-06-30</td>\n",
       "      <td>Los Angeles</td>\n",
       "      <td>CA</td>\n",
       "    </tr>\n",
       "    <tr>\n",
       "      <th>freq</th>\n",
       "      <td>4</td>\n",
       "      <td>18</td>\n",
       "      <td>31324</td>\n",
       "      <td>9593</td>\n",
       "      <td>10072</td>\n",
       "      <td>10392</td>\n",
       "      <td>14943</td>\n",
       "      <td>10338</td>\n",
       "      <td>339</td>\n",
       "      <td>949</td>\n",
       "      <td>1451</td>\n",
       "      <td>4021</td>\n",
       "      <td>8331</td>\n",
       "      <td>12373</td>\n",
       "      <td>2003</td>\n",
       "      <td>3901</td>\n",
       "      <td>10481</td>\n",
       "      <td>286</td>\n",
       "      <td>34</td>\n",
       "      <td>10246</td>\n",
       "      <td>46991</td>\n",
       "    </tr>\n",
       "  </tbody>\n",
       "</table>\n",
       "</div>"
      ],
      "text/plain": [
       "              Address  \\\n",
       "count           47439   \n",
       "unique          47325   \n",
       "top     55 W 20th Ave   \n",
       "freq                4   \n",
       "\n",
       "                                                                                                    Summary  \\\n",
       "count                                                                                                 47089   \n",
       "unique                                                                                                46788   \n",
       "top     Neighboring The Ace Hotel, 939 S. Broadway is the epitome of effort lessliving in Downtown Los A...   \n",
       "freq                                                                                                     18   \n",
       "\n",
       "                Type  Heating Cooling                             Parking  \\\n",
       "count          47439    40974   36817                               46531   \n",
       "unique           158     1860     541                                5113   \n",
       "top     SingleFamily  Central    None  Garage, Garage - Attached, Covered   \n",
       "freq           31324     9593   10072                               10392   \n",
       "\n",
       "       Bedrooms       Region         Elementary School  \\\n",
       "count     44567        47437                     42697   \n",
       "unique      264          949                      1717   \n",
       "top           3  Los Angeles  Laurel Elementary School   \n",
       "freq      14943        10338                       339   \n",
       "\n",
       "                             Middle School                 High School  \\\n",
       "count                                30735                       42439   \n",
       "unique                                 488                         630   \n",
       "top     Hubert Howe Bancroft Middle School  Fairfax Senior High School   \n",
       "freq                                   949                        1451   \n",
       "\n",
       "       Flooring Heating features Cooling features  \\\n",
       "count     35875            40274            35657   \n",
       "unique     1348             1122              312   \n",
       "top        Wood  Forced air, Gas          Central   \n",
       "freq       4021             8331            12373   \n",
       "\n",
       "                                                                       Appliances included  \\\n",
       "count                                                                                33997   \n",
       "unique                                                                                4584   \n",
       "top     Dishwasher, Dryer, Garbage disposal, Microwave, Range / Oven, Refrigerator, Washer   \n",
       "freq                                                                                  2003   \n",
       "\n",
       "       Laundry features                    Parking features   Listed On  \\\n",
       "count             33315                               43131       47439   \n",
       "unique             1976                                4960        2467   \n",
       "top              Inside  Garage, Garage - Attached, Covered  2020-10-16   \n",
       "freq               3901                               10481         286   \n",
       "\n",
       "       Last Sold On         City  State  \n",
       "count         29673        47439  47439  \n",
       "unique         6113          929      2  \n",
       "top      2017-06-30  Los Angeles     CA  \n",
       "freq             34        10246  46991  "
      ]
     },
     "execution_count": 1070,
     "metadata": {},
     "output_type": "execute_result"
    }
   ],
   "source": [
    "train.describe(include=['O'])"
   ]
  },
  {
   "cell_type": "code",
   "execution_count": 1071,
   "id": "998d03bc",
   "metadata": {},
   "outputs": [],
   "source": [
    "query = train.Summary.dropna().copy() #NaN stops contains search, copied so index could be searched"
   ]
  },
  {
   "cell_type": "code",
   "execution_count": 1072,
   "id": "3d71b66e",
   "metadata": {},
   "outputs": [
    {
     "data": {
      "text/plain": [
       "5600     Neighboring The Ace Hotel, 939 S. Broadway is the epitome of effort lessliving in Downtown Los A...\n",
       "5730     Neighboring The Ace Hotel, 939 S. Broadway is the epitome of effort lessliving in Downtown Los A...\n",
       "6201     Neighboring The Ace Hotel, 939 S. Broadway is the epitome of effort lessliving in Downtown Los A...\n",
       "7227     Neighboring The Ace Hotel, 939 S. Broadway is the epitome of effort lessliving in Downtown Los A...\n",
       "7242     Neighboring The Ace Hotel, 939 S. Broadway is the epitome of effort lessliving in Downtown Los A...\n",
       "8496     Neighboring The Ace Hotel, 939 S. Broadway is the epitome of effort lessliving in Downtown Los A...\n",
       "9249     Neighboring The Ace Hotel, 939 S. Broadway is the epitome of effort lessliving in Downtown Los A...\n",
       "10555    Neighboring The Ace Hotel, 939 S. Broadway is the epitome of effort lessliving in Downtown Los A...\n",
       "11293    Neighboring The Ace Hotel, 939 S. Broadway is the epitome of effort lessliving in Downtown Los A...\n",
       "12036    Neighboring The Ace Hotel, 939 S. Broadway is the epitome of effort lessliving in Downtown Los A...\n",
       "13925    Neighboring The Ace Hotel, 939 S. Broadway is the epitome of effort lessliving in Downtown Los A...\n",
       "14830    Neighboring The Ace Hotel, 939 S. Broadway is the epitome of effort lessliving in Downtown Los A...\n",
       "18140    Neighboring The Ace Hotel, 939 S. Broadway is the epitome of effort lessliving in Downtown Los A...\n",
       "22486    Neighboring The Ace Hotel, 939 S. Broadway is the epitome of effort lessliving in Downtown Los A...\n",
       "25441    Neighboring The Ace Hotel, 939 S. Broadway is the epitome of effort lessliving in Downtown Los A...\n",
       "25728    Neighboring The Ace Hotel, 939 S. Broadway is the epitome of effort lessliving in Downtown Los A...\n",
       "30728    Neighboring The Ace Hotel, 939 S. Broadway is the epitome of effort lessliving in Downtown Los A...\n",
       "42429    Neighboring The Ace Hotel, 939 S. Broadway is the epitome of effort lessliving in Downtown Los A...\n",
       "Name: Summary, dtype: object"
      ]
     },
     "execution_count": 1072,
     "metadata": {},
     "output_type": "execute_result"
    }
   ],
   "source": [
    "query[query.str.contains(\"Neighboring The Ace Hotel\")]"
   ]
  },
  {
   "cell_type": "markdown",
   "id": "17b1e382",
   "metadata": {},
   "source": [
    "NB - this is a condominium."
   ]
  },
  {
   "cell_type": "markdown",
   "id": "c76676d6",
   "metadata": {},
   "source": [
    "#### Function to plot na in dataframe"
   ]
  },
  {
   "cell_type": "code",
   "execution_count": 1073,
   "id": "39490f74",
   "metadata": {},
   "outputs": [],
   "source": [
    "def plot_na(x):\n",
    "    missing = x.isna().sum()\n",
    "    missing = missing[missing>0]\n",
    "    missing.sort_values(inplace=True)\n",
    "    return missing.plot(kind='bar', colormap='summer')"
   ]
  },
  {
   "cell_type": "code",
   "execution_count": 1074,
   "id": "f66c8d51",
   "metadata": {},
   "outputs": [
    {
     "data": {
      "text/plain": [
       "<AxesSubplot:>"
      ]
     },
     "execution_count": 1074,
     "metadata": {},
     "output_type": "execute_result"
    },
    {
     "data": {
      "image/png": "[encoded data removed]",
      "text/plain": [
       "<Figure size 640x480 with 1 Axes>"
      ]
     },
     "metadata": {},
     "output_type": "display_data"
    }
   ],
   "source": [
    "plot_na(train)"
   ]
  },
  {
   "cell_type": "markdown",
   "id": "d5a5a985",
   "metadata": {},
   "source": [
    "### Test"
   ]
  },
  {
   "cell_type": "code",
   "execution_count": 1075,
   "id": "0b5c6c69",
   "metadata": {},
   "outputs": [
    {
     "data": {
      "text/html": [
       "<div>\n",
       "<style scoped>\n",
       "    .dataframe tbody tr th:only-of-type {\n",
       "        vertical-align: middle;\n",
       "    }\n",
       "\n",
       "    .dataframe tbody tr th {\n",
       "        vertical-align: top;\n",
       "    }\n",
       "\n",
       "    .dataframe thead th {\n",
       "        text-align: right;\n",
       "    }\n",
       "</style>\n",
       "<table border=\"1\" class=\"dataframe\">\n",
       "  <thead>\n",
       "    <tr style=\"text-align: right;\">\n",
       "      <th></th>\n",
       "      <th>Id</th>\n",
       "      <th>Year built</th>\n",
       "      <th>Lot</th>\n",
       "      <th>Bathrooms</th>\n",
       "      <th>Full bathrooms</th>\n",
       "      <th>Total interior livable area</th>\n",
       "      <th>Total spaces</th>\n",
       "      <th>Garage spaces</th>\n",
       "      <th>Elementary School Score</th>\n",
       "      <th>Elementary School Distance</th>\n",
       "      <th>Middle School Score</th>\n",
       "      <th>Middle School Distance</th>\n",
       "      <th>High School Score</th>\n",
       "      <th>High School Distance</th>\n",
       "      <th>Tax assessed value</th>\n",
       "      <th>Annual tax amount</th>\n",
       "      <th>Listed Price</th>\n",
       "      <th>Last Sold Price</th>\n",
       "      <th>Zip</th>\n",
       "    </tr>\n",
       "  </thead>\n",
       "  <tbody>\n",
       "    <tr>\n",
       "      <th>count</th>\n",
       "      <td>31626.00</td>\n",
       "      <td>30729.00</td>\n",
       "      <td>22818.00</td>\n",
       "      <td>29681.00</td>\n",
       "      <td>26563.00</td>\n",
       "      <td>30274.00</td>\n",
       "      <td>30875.00</td>\n",
       "      <td>30876.00</td>\n",
       "      <td>27787.00</td>\n",
       "      <td>27875.00</td>\n",
       "      <td>20052.00</td>\n",
       "      <td>20053.00</td>\n",
       "      <td>29061.00</td>\n",
       "      <td>29452.00</td>\n",
       "      <td>28955.00</td>\n",
       "      <td>28727.00</td>\n",
       "      <td>31626.00</td>\n",
       "      <td>19847.00</td>\n",
       "      <td>31626.00</td>\n",
       "    </tr>\n",
       "    <tr>\n",
       "      <th>mean</th>\n",
       "      <td>63251.50</td>\n",
       "      <td>1971.96</td>\n",
       "      <td>564027.66</td>\n",
       "      <td>2.44</td>\n",
       "      <td>2.11</td>\n",
       "      <td>1904.24</td>\n",
       "      <td>2.31</td>\n",
       "      <td>1.99</td>\n",
       "      <td>5.69</td>\n",
       "      <td>1.12</td>\n",
       "      <td>5.15</td>\n",
       "      <td>1.74</td>\n",
       "      <td>6.20</td>\n",
       "      <td>2.26</td>\n",
       "      <td>533271.00</td>\n",
       "      <td>6726.43</td>\n",
       "      <td>873523.29</td>\n",
       "      <td>530488.11</td>\n",
       "      <td>92989.64</td>\n",
       "    </tr>\n",
       "    <tr>\n",
       "      <th>std</th>\n",
       "      <td>9129.78</td>\n",
       "      <td>97.84</td>\n",
       "      <td>27784299.28</td>\n",
       "      <td>1.12</td>\n",
       "      <td>0.91</td>\n",
       "      <td>3628.51</td>\n",
       "      <td>18.72</td>\n",
       "      <td>18.65</td>\n",
       "      <td>2.02</td>\n",
       "      <td>1.94</td>\n",
       "      <td>2.05</td>\n",
       "      <td>2.09</td>\n",
       "      <td>1.97</td>\n",
       "      <td>2.81</td>\n",
       "      <td>779003.62</td>\n",
       "      <td>10753.21</td>\n",
       "      <td>1154445.37</td>\n",
       "      <td>651271.16</td>\n",
       "      <td>1779.82</td>\n",
       "    </tr>\n",
       "    <tr>\n",
       "      <th>min</th>\n",
       "      <td>47439.00</td>\n",
       "      <td>0.00</td>\n",
       "      <td>0.00</td>\n",
       "      <td>0.00</td>\n",
       "      <td>1.00</td>\n",
       "      <td>1.00</td>\n",
       "      <td>0.00</td>\n",
       "      <td>0.00</td>\n",
       "      <td>1.00</td>\n",
       "      <td>0.00</td>\n",
       "      <td>1.00</td>\n",
       "      <td>0.00</td>\n",
       "      <td>1.00</td>\n",
       "      <td>0.00</td>\n",
       "      <td>0.00</td>\n",
       "      <td>1.00</td>\n",
       "      <td>0.00</td>\n",
       "      <td>0.00</td>\n",
       "      <td>85611.00</td>\n",
       "    </tr>\n",
       "    <tr>\n",
       "      <th>25%</th>\n",
       "      <td>55345.25</td>\n",
       "      <td>1956.00</td>\n",
       "      <td>5400.00</td>\n",
       "      <td>2.00</td>\n",
       "      <td>2.00</td>\n",
       "      <td>1223.00</td>\n",
       "      <td>1.00</td>\n",
       "      <td>1.00</td>\n",
       "      <td>4.00</td>\n",
       "      <td>0.30</td>\n",
       "      <td>3.00</td>\n",
       "      <td>0.70</td>\n",
       "      <td>5.00</td>\n",
       "      <td>0.90</td>\n",
       "      <td>198158.50</td>\n",
       "      <td>2623.00</td>\n",
       "      <td>400110.50</td>\n",
       "      <td>228000.00</td>\n",
       "      <td>91761.00</td>\n",
       "    </tr>\n",
       "    <tr>\n",
       "      <th>50%</th>\n",
       "      <td>63251.50</td>\n",
       "      <td>1978.00</td>\n",
       "      <td>7152.50</td>\n",
       "      <td>2.00</td>\n",
       "      <td>2.00</td>\n",
       "      <td>1617.00</td>\n",
       "      <td>2.00</td>\n",
       "      <td>2.00</td>\n",
       "      <td>6.00</td>\n",
       "      <td>0.60</td>\n",
       "      <td>5.00</td>\n",
       "      <td>1.20</td>\n",
       "      <td>6.00</td>\n",
       "      <td>1.50</td>\n",
       "      <td>365013.00</td>\n",
       "      <td>4704.00</td>\n",
       "      <td>619000.00</td>\n",
       "      <td>385000.00</td>\n",
       "      <td>92683.00</td>\n",
       "    </tr>\n",
       "    <tr>\n",
       "      <th>75%</th>\n",
       "      <td>71157.75</td>\n",
       "      <td>1996.00</td>\n",
       "      <td>10890.00</td>\n",
       "      <td>3.00</td>\n",
       "      <td>2.00</td>\n",
       "      <td>2203.00</td>\n",
       "      <td>2.00</td>\n",
       "      <td>2.00</td>\n",
       "      <td>7.00</td>\n",
       "      <td>1.10</td>\n",
       "      <td>7.00</td>\n",
       "      <td>2.00</td>\n",
       "      <td>8.00</td>\n",
       "      <td>2.50</td>\n",
       "      <td>613792.00</td>\n",
       "      <td>7869.50</td>\n",
       "      <td>949000.00</td>\n",
       "      <td>614150.00</td>\n",
       "      <td>94561.00</td>\n",
       "    </tr>\n",
       "    <tr>\n",
       "      <th>max</th>\n",
       "      <td>79064.00</td>\n",
       "      <td>9999.00</td>\n",
       "      <td>2217378240.00</td>\n",
       "      <td>24.00</td>\n",
       "      <td>24.00</td>\n",
       "      <td>510523.00</td>\n",
       "      <td>3109.00</td>\n",
       "      <td>3109.00</td>\n",
       "      <td>10.00</td>\n",
       "      <td>56.90</td>\n",
       "      <td>10.00</td>\n",
       "      <td>57.00</td>\n",
       "      <td>10.00</td>\n",
       "      <td>58.00</td>\n",
       "      <td>38967556.00</td>\n",
       "      <td>999999.00</td>\n",
       "      <td>42500000.00</td>\n",
       "      <td>18800188.00</td>\n",
       "      <td>96150.00</td>\n",
       "    </tr>\n",
       "  </tbody>\n",
       "</table>\n",
       "</div>"
      ],
      "text/plain": [
       "             Id Year built            Lot Bathrooms Full bathrooms  \\\n",
       "count  31626.00   30729.00       22818.00  29681.00       26563.00   \n",
       "mean   63251.50    1971.96      564027.66      2.44           2.11   \n",
       "std     9129.78      97.84    27784299.28      1.12           0.91   \n",
       "min    47439.00       0.00           0.00      0.00           1.00   \n",
       "25%    55345.25    1956.00        5400.00      2.00           2.00   \n",
       "50%    63251.50    1978.00        7152.50      2.00           2.00   \n",
       "75%    71157.75    1996.00       10890.00      3.00           2.00   \n",
       "max    79064.00    9999.00  2217378240.00     24.00          24.00   \n",
       "\n",
       "      Total interior livable area Total spaces Garage spaces  \\\n",
       "count                    30274.00     30875.00      30876.00   \n",
       "mean                      1904.24         2.31          1.99   \n",
       "std                       3628.51        18.72         18.65   \n",
       "min                          1.00         0.00          0.00   \n",
       "25%                       1223.00         1.00          1.00   \n",
       "50%                       1617.00         2.00          2.00   \n",
       "75%                       2203.00         2.00          2.00   \n",
       "max                     510523.00      3109.00       3109.00   \n",
       "\n",
       "      Elementary School Score Elementary School Distance Middle School Score  \\\n",
       "count                27787.00                   27875.00            20052.00   \n",
       "mean                     5.69                       1.12                5.15   \n",
       "std                      2.02                       1.94                2.05   \n",
       "min                      1.00                       0.00                1.00   \n",
       "25%                      4.00                       0.30                3.00   \n",
       "50%                      6.00                       0.60                5.00   \n",
       "75%                      7.00                       1.10                7.00   \n",
       "max                     10.00                      56.90               10.00   \n",
       "\n",
       "      Middle School Distance High School Score High School Distance  \\\n",
       "count               20053.00          29061.00             29452.00   \n",
       "mean                    1.74              6.20                 2.26   \n",
       "std                     2.09              1.97                 2.81   \n",
       "min                     0.00              1.00                 0.00   \n",
       "25%                     0.70              5.00                 0.90   \n",
       "50%                     1.20              6.00                 1.50   \n",
       "75%                     2.00              8.00                 2.50   \n",
       "max                    57.00             10.00                58.00   \n",
       "\n",
       "      Tax assessed value Annual tax amount Listed Price Last Sold Price  \\\n",
       "count           28955.00          28727.00     31626.00        19847.00   \n",
       "mean           533271.00           6726.43    873523.29       530488.11   \n",
       "std            779003.62          10753.21   1154445.37       651271.16   \n",
       "min                 0.00              1.00         0.00            0.00   \n",
       "25%            198158.50           2623.00    400110.50       228000.00   \n",
       "50%            365013.00           4704.00    619000.00       385000.00   \n",
       "75%            613792.00           7869.50    949000.00       614150.00   \n",
       "max          38967556.00         999999.00  42500000.00     18800188.00   \n",
       "\n",
       "            Zip  \n",
       "count  31626.00  \n",
       "mean   92989.64  \n",
       "std     1779.82  \n",
       "min    85611.00  \n",
       "25%    91761.00  \n",
       "50%    92683.00  \n",
       "75%    94561.00  \n",
       "max    96150.00  "
      ]
     },
     "execution_count": 1075,
     "metadata": {},
     "output_type": "execute_result"
    }
   ],
   "source": [
    "test.describe().apply(lambda s: s.apply('{0:.2f}'.format))"
   ]
  },
  {
   "cell_type": "code",
   "execution_count": 1076,
   "id": "b97b212d",
   "metadata": {},
   "outputs": [
    {
     "data": {
      "text/html": [
       "<div>\n",
       "<style scoped>\n",
       "    .dataframe tbody tr th:only-of-type {\n",
       "        vertical-align: middle;\n",
       "    }\n",
       "\n",
       "    .dataframe tbody tr th {\n",
       "        vertical-align: top;\n",
       "    }\n",
       "\n",
       "    .dataframe thead th {\n",
       "        text-align: right;\n",
       "    }\n",
       "</style>\n",
       "<table border=\"1\" class=\"dataframe\">\n",
       "  <thead>\n",
       "    <tr style=\"text-align: right;\">\n",
       "      <th></th>\n",
       "      <th>Address</th>\n",
       "      <th>Summary</th>\n",
       "      <th>Type</th>\n",
       "      <th>Heating</th>\n",
       "      <th>Cooling</th>\n",
       "      <th>Parking</th>\n",
       "      <th>Bedrooms</th>\n",
       "      <th>Region</th>\n",
       "      <th>Elementary School</th>\n",
       "      <th>Middle School</th>\n",
       "      <th>High School</th>\n",
       "      <th>Flooring</th>\n",
       "      <th>Heating features</th>\n",
       "      <th>Cooling features</th>\n",
       "      <th>Appliances included</th>\n",
       "      <th>Laundry features</th>\n",
       "      <th>Parking features</th>\n",
       "      <th>Listed On</th>\n",
       "      <th>Last Sold On</th>\n",
       "      <th>City</th>\n",
       "      <th>State</th>\n",
       "    </tr>\n",
       "  </thead>\n",
       "  <tbody>\n",
       "    <tr>\n",
       "      <th>count</th>\n",
       "      <td>31626</td>\n",
       "      <td>31137</td>\n",
       "      <td>31626</td>\n",
       "      <td>26578</td>\n",
       "      <td>27139</td>\n",
       "      <td>30858</td>\n",
       "      <td>29900</td>\n",
       "      <td>31626</td>\n",
       "      <td>27875</td>\n",
       "      <td>20053</td>\n",
       "      <td>29452</td>\n",
       "      <td>21263</td>\n",
       "      <td>26243</td>\n",
       "      <td>26775</td>\n",
       "      <td>21719</td>\n",
       "      <td>25768</td>\n",
       "      <td>29306</td>\n",
       "      <td>31626</td>\n",
       "      <td>19847</td>\n",
       "      <td>31626</td>\n",
       "      <td>31626</td>\n",
       "    </tr>\n",
       "    <tr>\n",
       "      <th>unique</th>\n",
       "      <td>31559</td>\n",
       "      <td>31019</td>\n",
       "      <td>56</td>\n",
       "      <td>1430</td>\n",
       "      <td>641</td>\n",
       "      <td>6181</td>\n",
       "      <td>120</td>\n",
       "      <td>1028</td>\n",
       "      <td>3415</td>\n",
       "      <td>800</td>\n",
       "      <td>891</td>\n",
       "      <td>997</td>\n",
       "      <td>1134</td>\n",
       "      <td>467</td>\n",
       "      <td>8119</td>\n",
       "      <td>1947</td>\n",
       "      <td>6048</td>\n",
       "      <td>1390</td>\n",
       "      <td>5844</td>\n",
       "      <td>940</td>\n",
       "      <td>2</td>\n",
       "    </tr>\n",
       "    <tr>\n",
       "      <th>top</th>\n",
       "      <td>25474 Kamran Cir</td>\n",
       "      <td>Aspire at River Terrace in Stockton, CA offers 2 designs of single family new homes up to 1,935 ...</td>\n",
       "      <td>SingleFamily</td>\n",
       "      <td>Central</td>\n",
       "      <td>Central Air</td>\n",
       "      <td>Garage - Attached</td>\n",
       "      <td>3</td>\n",
       "      <td>Los Angeles</td>\n",
       "      <td>Washington Elementary School</td>\n",
       "      <td>Alder Creek Middle School</td>\n",
       "      <td>Fairfax Senior High School</td>\n",
       "      <td>Carpet, Tile</td>\n",
       "      <td>Central</td>\n",
       "      <td>Central Air</td>\n",
       "      <td>Dishwasher</td>\n",
       "      <td>In Garage</td>\n",
       "      <td>Garage - Attached</td>\n",
       "      <td>2021-01-13</td>\n",
       "      <td>2020-10-30</td>\n",
       "      <td>Los Angeles</td>\n",
       "      <td>CA</td>\n",
       "    </tr>\n",
       "    <tr>\n",
       "      <th>freq</th>\n",
       "      <td>2</td>\n",
       "      <td>7</td>\n",
       "      <td>22197</td>\n",
       "      <td>9778</td>\n",
       "      <td>12651</td>\n",
       "      <td>4060</td>\n",
       "      <td>12284</td>\n",
       "      <td>1935</td>\n",
       "      <td>173</td>\n",
       "      <td>210</td>\n",
       "      <td>264</td>\n",
       "      <td>1953</td>\n",
       "      <td>7989</td>\n",
       "      <td>11261</td>\n",
       "      <td>481</td>\n",
       "      <td>3419</td>\n",
       "      <td>4063</td>\n",
       "      <td>2022</td>\n",
       "      <td>22</td>\n",
       "      <td>1672</td>\n",
       "      <td>31568</td>\n",
       "    </tr>\n",
       "  </tbody>\n",
       "</table>\n",
       "</div>"
      ],
      "text/plain": [
       "                 Address  \\\n",
       "count              31626   \n",
       "unique             31559   \n",
       "top     25474 Kamran Cir   \n",
       "freq                   2   \n",
       "\n",
       "                                                                                                    Summary  \\\n",
       "count                                                                                                 31137   \n",
       "unique                                                                                                31019   \n",
       "top     Aspire at River Terrace in Stockton, CA offers 2 designs of single family new homes up to 1,935 ...   \n",
       "freq                                                                                                      7   \n",
       "\n",
       "                Type  Heating      Cooling            Parking Bedrooms  \\\n",
       "count          31626    26578        27139              30858    29900   \n",
       "unique            56     1430          641               6181      120   \n",
       "top     SingleFamily  Central  Central Air  Garage - Attached        3   \n",
       "freq           22197     9778        12651               4060    12284   \n",
       "\n",
       "             Region             Elementary School              Middle School  \\\n",
       "count         31626                         27875                      20053   \n",
       "unique         1028                          3415                        800   \n",
       "top     Los Angeles  Washington Elementary School  Alder Creek Middle School   \n",
       "freq           1935                           173                        210   \n",
       "\n",
       "                       High School      Flooring Heating features  \\\n",
       "count                        29452         21263            26243   \n",
       "unique                         891           997             1134   \n",
       "top     Fairfax Senior High School  Carpet, Tile          Central   \n",
       "freq                           264          1953             7989   \n",
       "\n",
       "       Cooling features Appliances included Laundry features  \\\n",
       "count             26775               21719            25768   \n",
       "unique              467                8119             1947   \n",
       "top         Central Air          Dishwasher        In Garage   \n",
       "freq              11261                 481             3419   \n",
       "\n",
       "         Parking features   Listed On Last Sold On         City  State  \n",
       "count               29306       31626        19847        31626  31626  \n",
       "unique               6048        1390         5844          940      2  \n",
       "top     Garage - Attached  2021-01-13   2020-10-30  Los Angeles     CA  \n",
       "freq                 4063        2022           22         1672  31568  "
      ]
     },
     "execution_count": 1076,
     "metadata": {},
     "output_type": "execute_result"
    }
   ],
   "source": [
    "test.describe(include=['O'])"
   ]
  },
  {
   "cell_type": "code",
   "execution_count": 1077,
   "id": "9effd0ce",
   "metadata": {},
   "outputs": [
    {
     "name": "stdout",
     "output_type": "stream",
     "text": [
      "SHAPE:\n",
      "(31626, 40)\n",
      "\n",
      "DESCRIPTION:\n",
      "             Id Year built            Lot Bathrooms Full bathrooms  \\\n",
      "count  31626.00   30729.00       22818.00  29681.00       26563.00   \n",
      "mean   63251.50    1971.96      564027.66      2.44           2.11   \n",
      "std     9129.78      97.84    27784299.28      1.12           0.91   \n",
      "min    47439.00       0.00           0.00      0.00           1.00   \n",
      "25%    55345.25    1956.00        5400.00      2.00           2.00   \n",
      "50%    63251.50    1978.00        7152.50      2.00           2.00   \n",
      "75%    71157.75    1996.00       10890.00      3.00           2.00   \n",
      "max    79064.00    9999.00  2217378240.00     24.00          24.00   \n",
      "\n",
      "      Total interior livable area Total spaces Garage spaces  \\\n",
      "count                    30274.00     30875.00      30876.00   \n",
      "mean                      1904.24         2.31          1.99   \n",
      "std                       3628.51        18.72         18.65   \n",
      "min                          1.00         0.00          0.00   \n",
      "25%                       1223.00         1.00          1.00   \n",
      "50%                       1617.00         2.00          2.00   \n",
      "75%                       2203.00         2.00          2.00   \n",
      "max                     510523.00      3109.00       3109.00   \n",
      "\n",
      "      Elementary School Score Elementary School Distance Middle School Score  \\\n",
      "count                27787.00                   27875.00            20052.00   \n",
      "mean                     5.69                       1.12                5.15   \n",
      "std                      2.02                       1.94                2.05   \n",
      "min                      1.00                       0.00                1.00   \n",
      "25%                      4.00                       0.30                3.00   \n",
      "50%                      6.00                       0.60                5.00   \n",
      "75%                      7.00                       1.10                7.00   \n",
      "max                     10.00                      56.90               10.00   \n",
      "\n",
      "      Middle School Distance High School Score High School Distance  \\\n",
      "count               20053.00          29061.00             29452.00   \n",
      "mean                    1.74              6.20                 2.26   \n",
      "std                     2.09              1.97                 2.81   \n",
      "min                     0.00              1.00                 0.00   \n",
      "25%                     0.70              5.00                 0.90   \n",
      "50%                     1.20              6.00                 1.50   \n",
      "75%                     2.00              8.00                 2.50   \n",
      "max                    57.00             10.00                58.00   \n",
      "\n",
      "      Tax assessed value Annual tax amount Listed Price Last Sold Price  \\\n",
      "count           28955.00          28727.00     31626.00        19847.00   \n",
      "mean           533271.00           6726.43    873523.29       530488.11   \n",
      "std            779003.62          10753.21   1154445.37       651271.16   \n",
      "min                 0.00              1.00         0.00            0.00   \n",
      "25%            198158.50           2623.00    400110.50       228000.00   \n",
      "50%            365013.00           4704.00    619000.00       385000.00   \n",
      "75%            613792.00           7869.50    949000.00       614150.00   \n",
      "max          38967556.00         999999.00  42500000.00     18800188.00   \n",
      "\n",
      "            Zip  \n",
      "count  31626.00  \n",
      "mean   92989.64  \n",
      "std     1779.82  \n",
      "min    85611.00  \n",
      "25%    91761.00  \n",
      "50%    92683.00  \n",
      "75%    94561.00  \n",
      "max    96150.00  \n",
      "\n",
      "DESCRIPTION OF OBJECT DATA TYPES:\n",
      "                 Address  \\\n",
      "count              31626   \n",
      "unique             31559   \n",
      "top     25474 Kamran Cir   \n",
      "freq                   2   \n",
      "\n",
      "                                                                                                    Summary  \\\n",
      "count                                                                                                 31137   \n",
      "unique                                                                                                31019   \n",
      "top     Aspire at River Terrace in Stockton, CA offers 2 designs of single family new homes up to 1,935 ...   \n",
      "freq                                                                                                      7   \n",
      "\n",
      "                Type  Heating      Cooling            Parking Bedrooms  \\\n",
      "count          31626    26578        27139              30858    29900   \n",
      "unique            56     1430          641               6181      120   \n",
      "top     SingleFamily  Central  Central Air  Garage - Attached        3   \n",
      "freq           22197     9778        12651               4060    12284   \n",
      "\n",
      "             Region             Elementary School              Middle School  \\\n",
      "count         31626                         27875                      20053   \n",
      "unique         1028                          3415                        800   \n",
      "top     Los Angeles  Washington Elementary School  Alder Creek Middle School   \n",
      "freq           1935                           173                        210   \n",
      "\n",
      "                       High School      Flooring Heating features  \\\n",
      "count                        29452         21263            26243   \n",
      "unique                         891           997             1134   \n",
      "top     Fairfax Senior High School  Carpet, Tile          Central   \n",
      "freq                           264          1953             7989   \n",
      "\n",
      "       Cooling features Appliances included Laundry features  \\\n",
      "count             26775               21719            25768   \n",
      "unique              467                8119             1947   \n",
      "top         Central Air          Dishwasher        In Garage   \n",
      "freq              11261                 481             3419   \n",
      "\n",
      "         Parking features   Listed On Last Sold On         City  State  \n",
      "count               29306       31626        19847        31626  31626  \n",
      "unique               6048        1390         5844          940      2  \n",
      "top     Garage - Attached  2021-01-13   2020-10-30  Los Angeles     CA  \n",
      "freq                 4063        2022           22         1672  31568  \n",
      "\n",
      "DATATYPES:\n",
      "Id                               int64\n",
      "Zip                              int64\n",
      "High School Score              float64\n",
      "Middle School Distance         float64\n",
      "Middle School Score            float64\n",
      "Elementary School Distance     float64\n",
      "Elementary School Score        float64\n",
      "Garage spaces                  float64\n",
      "Total spaces                   float64\n",
      "High School Distance           float64\n",
      "Full bathrooms                 float64\n",
      "Total interior livable area    float64\n",
      "Tax assessed value             float64\n",
      "Lot                            float64\n",
      "Annual tax amount              float64\n",
      "Listed Price                   float64\n",
      "Year built                     float64\n",
      "Last Sold Price                float64\n",
      "Bathrooms                      float64\n",
      "Parking features                object\n",
      "Laundry features                object\n",
      "Listed On                       object\n",
      "Last Sold On                    object\n",
      "Appliances included             object\n",
      "City                            object\n",
      "Cooling features                object\n",
      "Middle School                   object\n",
      "Flooring                        object\n",
      "High School                     object\n",
      "Elementary School               object\n",
      "Region                          object\n",
      "Bedrooms                        object\n",
      "Parking                         object\n",
      "Cooling                         object\n",
      "Heating                         object\n",
      "Type                            object\n",
      "Summary                         object\n",
      "Address                         object\n",
      "Heating features                object\n",
      "State                           object\n",
      "dtype: object\n",
      "\n",
      "NULL VALUES:\n",
      "Id                                 0\n",
      "Address                            0\n",
      "Summary                          489\n",
      "Type                               0\n",
      "Year built                       897\n",
      "Heating                         5048\n",
      "Cooling                         4487\n",
      "Parking                          768\n",
      "Lot                             8808\n",
      "Bedrooms                        1726\n",
      "Bathrooms                       1945\n",
      "Full bathrooms                  5063\n",
      "Total interior livable area     1352\n",
      "Total spaces                     751\n",
      "Garage spaces                    750\n",
      "Region                             0\n",
      "Elementary School               3751\n",
      "Elementary School Score         3839\n",
      "Elementary School Distance      3751\n",
      "Middle School                  11573\n",
      "Middle School Score            11574\n",
      "Middle School Distance         11573\n",
      "High School                     2174\n",
      "High School Score               2565\n",
      "High School Distance            2174\n",
      "Flooring                       10363\n",
      "Heating features                5383\n",
      "Cooling features                4851\n",
      "Appliances included             9907\n",
      "Laundry features                5858\n",
      "Parking features                2320\n",
      "Tax assessed value              2671\n",
      "Annual tax amount               2899\n",
      "Listed On                          0\n",
      "Listed Price                       0\n",
      "Last Sold On                   11779\n",
      "Last Sold Price                11779\n",
      "City                               0\n",
      "Zip                                0\n",
      "State                              0\n",
      "dtype: int64\n",
      "\n"
     ]
    }
   ],
   "source": [
    "mt.eda.glance(test)"
   ]
  },
  {
   "cell_type": "code",
   "execution_count": 1078,
   "id": "e7f54115",
   "metadata": {},
   "outputs": [
    {
     "data": {
      "text/plain": [
       "<AxesSubplot:>"
      ]
     },
     "execution_count": 1078,
     "metadata": {},
     "output_type": "execute_result"
    },
    {
     "data": {
      "image/png": "[encoded data removed]",
      "text/plain": [
       "<Figure size 640x480 with 1 Axes>"
      ]
     },
     "metadata": {},
     "output_type": "display_data"
    }
   ],
   "source": [
    "plot_na(test)"
   ]
  },
  {
   "cell_type": "markdown",
   "id": "3a03400f",
   "metadata": {},
   "source": [
    "## Clean-up"
   ]
  },
  {
   "cell_type": "markdown",
   "id": "da1f0b86",
   "metadata": {},
   "source": [
    "### Removing useless information"
   ]
  },
  {
   "cell_type": "code",
   "execution_count": 1079,
   "id": "e8665373",
   "metadata": {},
   "outputs": [],
   "source": [
    "tt = tt[['Id', 'Address', 'Sold Price', 'Summary', 'Type', 'Year built',\n",
    "       'Heating', 'Cooling', 'Parking', 'Lot', 'Bedrooms', 'Bathrooms',\n",
    "       'Full bathrooms', 'Total interior livable area', 'Total spaces',\n",
    "       'Garage spaces', 'Region', \n",
    "        #'Elementary School',\n",
    "       'Elementary School Score', 'Elementary School Distance',\n",
    "       #'Middle School', \n",
    "        'Middle School Score', 'Middle School Distance',\n",
    "       #'High School', \n",
    "        'High School Score', 'High School Distance', 'Flooring',\n",
    "       #'Heating features', 'Cooling features',\n",
    "        'Appliances included',\n",
    "       'Laundry features', 'Parking features', 'Tax assessed value',\n",
    "       'Annual tax amount', 'Listed On', 'Listed Price', 'Last Sold On',\n",
    "       'Last Sold Price', 'City', 'Zip', 'State']].copy()"
   ]
  },
  {
   "cell_type": "markdown",
   "id": "111e1c89",
   "metadata": {},
   "source": [
    "### Columns names"
   ]
  },
  {
   "cell_type": "markdown",
   "id": "9b23a0b3",
   "metadata": {},
   "source": [
    "Replace all ' ' in column names with '_'"
   ]
  },
  {
   "cell_type": "code",
   "execution_count": 1080,
   "id": "af9515a4",
   "metadata": {},
   "outputs": [],
   "source": [
    "tt.columns = tt.columns.str.replace(' ', '_')"
   ]
  },
  {
   "cell_type": "code",
   "execution_count": 1081,
   "id": "755f6ea5",
   "metadata": {},
   "outputs": [
    {
     "data": {
      "text/plain": [
       "Index(['Id', 'Address', 'Sold_Price', 'Summary', 'Type', 'Year_built',\n",
       "       'Heating', 'Cooling', 'Parking', 'Lot', 'Bedrooms', 'Bathrooms',\n",
       "       'Full_bathrooms', 'Total_interior_livable_area', 'Total_spaces',\n",
       "       'Garage_spaces', 'Region', 'Elementary_School_Score',\n",
       "       'Elementary_School_Distance', 'Middle_School_Score',\n",
       "       'Middle_School_Distance', 'High_School_Score', 'High_School_Distance',\n",
       "       'Flooring', 'Appliances_included', 'Laundry_features',\n",
       "       'Parking_features', 'Tax_assessed_value', 'Annual_tax_amount',\n",
       "       'Listed_On', 'Listed_Price', 'Last_Sold_On', 'Last_Sold_Price', 'City',\n",
       "       'Zip', 'State'],\n",
       "      dtype='object')"
      ]
     },
     "execution_count": 1081,
     "metadata": {},
     "output_type": "execute_result"
    }
   ],
   "source": [
    "tt.columns"
   ]
  },
  {
   "cell_type": "markdown",
   "id": "17518175",
   "metadata": {},
   "source": [
    "### Dates"
   ]
  },
  {
   "cell_type": "code",
   "execution_count": 1082,
   "id": "5df8b8bf",
   "metadata": {},
   "outputs": [
    {
     "data": {
      "text/plain": [
       "Year_built      float64\n",
       "Listed_On        object\n",
       "Last_Sold_On     object\n",
       "dtype: object"
      ]
     },
     "execution_count": 1082,
     "metadata": {},
     "output_type": "execute_result"
    }
   ],
   "source": [
    "tt[['Year_built', 'Listed_On', 'Last_Sold_On']].dtypes"
   ]
  },
  {
   "cell_type": "markdown",
   "id": "22c9d7f4",
   "metadata": {},
   "source": [
    "days, years etc from present?"
   ]
  },
  {
   "cell_type": "code",
   "execution_count": 1083,
   "id": "3e689321",
   "metadata": {},
   "outputs": [],
   "source": [
    "tt['Listed_On'] = pd.to_datetime(tt['Listed_On'], format='%Y-%m-%d')"
   ]
  },
  {
   "cell_type": "code",
   "execution_count": 1084,
   "id": "3ea3c12b",
   "metadata": {},
   "outputs": [],
   "source": [
    "tt['Last_Sold_On'] = pd.to_datetime(tt['Last_Sold_On'], format='%Y-%m-%d')"
   ]
  },
  {
   "cell_type": "markdown",
   "id": "4d5631d3",
   "metadata": {},
   "source": [
    "Linear regression algorithm can't make direct use of a datetime or str object. We're going to convert Listed_On and Last_Sold_On to datetime64 objects, calculate the number of days from the present and then use a function to insert those values in the place of the date time object."
   ]
  },
  {
   "cell_type": "markdown",
   "id": "1a85df42",
   "metadata": {},
   "source": [
    "#### Function for calcuating days from present"
   ]
  },
  {
   "cell_type": "code",
   "execution_count": 1085,
   "id": "646e9c22",
   "metadata": {},
   "outputs": [],
   "source": [
    "listed_present = tt.Listed_On.max().date() + datetime.timedelta(days=1)\n",
    "last_sold_present = tt.Last_Sold_On.max().date() + datetime.timedelta(days=1)"
   ]
  },
  {
   "cell_type": "code",
   "execution_count": 1086,
   "id": "f68af7d3",
   "metadata": {},
   "outputs": [],
   "source": [
    "def days_ago(x):\n",
    "    if pd.isnull(x) is False:\n",
    "        x = listed_present - x.date()\n",
    "        x = x.days\n",
    "        return x\n",
    "    else:\n",
    "        return 'NaT'"
   ]
  },
  {
   "cell_type": "code",
   "execution_count": 1087,
   "id": "94f744ab",
   "metadata": {},
   "outputs": [],
   "source": [
    "tt['Days_Listed'] = tt.Listed_On.apply(days_ago)"
   ]
  },
  {
   "cell_type": "code",
   "execution_count": 1088,
   "id": "79c089c2",
   "metadata": {},
   "outputs": [],
   "source": [
    "tt['Days_Sold'] = tt.Last_Sold_On.apply(days_ago)"
   ]
  },
  {
   "cell_type": "code",
   "execution_count": 1089,
   "id": "aa165a26",
   "metadata": {},
   "outputs": [],
   "source": [
    "tt= tt.drop(['Listed_On', 'Last_Sold_On'], axis=1).copy()"
   ]
  },
  {
   "cell_type": "code",
   "execution_count": 1090,
   "id": "b4d39378",
   "metadata": {},
   "outputs": [
    {
     "data": {
      "text/plain": [
       "Index(['Id', 'Address', 'Sold_Price', 'Summary', 'Type', 'Year_built',\n",
       "       'Heating', 'Cooling', 'Parking', 'Lot', 'Bedrooms', 'Bathrooms',\n",
       "       'Full_bathrooms', 'Total_interior_livable_area', 'Total_spaces',\n",
       "       'Garage_spaces', 'Region', 'Elementary_School_Score',\n",
       "       'Elementary_School_Distance', 'Middle_School_Score',\n",
       "       'Middle_School_Distance', 'High_School_Score', 'High_School_Distance',\n",
       "       'Flooring', 'Appliances_included', 'Laundry_features',\n",
       "       'Parking_features', 'Tax_assessed_value', 'Annual_tax_amount',\n",
       "       'Listed_Price', 'Last_Sold_Price', 'City', 'Zip', 'State',\n",
       "       'Days_Listed', 'Days_Sold'],\n",
       "      dtype='object')"
      ]
     },
     "execution_count": 1090,
     "metadata": {},
     "output_type": "execute_result"
    }
   ],
   "source": [
    "tt.columns"
   ]
  },
  {
   "cell_type": "markdown",
   "id": "36b0f752",
   "metadata": {},
   "source": [
    "### Getting useful information"
   ]
  },
  {
   "cell_type": "markdown",
   "id": "d154b948",
   "metadata": {},
   "source": [
    "#### Address"
   ]
  },
  {
   "cell_type": "markdown",
   "id": "bf59bd3b",
   "metadata": {},
   "source": [
    "number, length of numbers, type of road"
   ]
  },
  {
   "cell_type": "code",
   "execution_count": 1091,
   "id": "c70ff457",
   "metadata": {},
   "outputs": [],
   "source": [
    "tt['Address_Number'] = tt.Address.apply(lambda x: x.split()[0])"
   ]
  },
  {
   "cell_type": "code",
   "execution_count": 1092,
   "id": "afed4517",
   "metadata": {},
   "outputs": [],
   "source": [
    "tt['Address_RdType'] = tt.Address.apply(lambda x: x.split()[-1])"
   ]
  },
  {
   "cell_type": "code",
   "execution_count": 1093,
   "id": "9c605918",
   "metadata": {},
   "outputs": [],
   "source": [
    "tt['Address_NoLen'] = tt.Address_Number.apply(lambda x: len(x))"
   ]
  },
  {
   "cell_type": "markdown",
   "id": "c9e5c494",
   "metadata": {},
   "source": [
    "##### Address_RdType"
   ]
  },
  {
   "cell_type": "markdown",
   "id": "db6adff3",
   "metadata": {},
   "source": [
    "The single letters and numbers appear to refers to apartments/units. The #A, #B, and #1 appear to be related to condos, apartments or large buildings subdividied into multiple salable properties. This information is better captured by 'Type'."
   ]
  },
  {
   "cell_type": "code",
   "execution_count": 1094,
   "id": "2fb77f32",
   "metadata": {},
   "outputs": [],
   "source": [
    "road_types = ['Ave', 'St', 'Dr', 'Rd', 'Ct', 'Way', 'Ln', 'Pl', 'Cir', 'Blvd', 'Ter', 'Trl', 'Loop']"
   ]
  },
  {
   "cell_type": "code",
   "execution_count": 1095,
   "id": "edae57a0",
   "metadata": {},
   "outputs": [],
   "source": [
    "tt[\"Address_RdType\"] = tt.Address_RdType.apply(lambda x: x if x in road_types else 'NaN').copy()"
   ]
  },
  {
   "cell_type": "code",
   "execution_count": 1096,
   "id": "7af5cbc4",
   "metadata": {},
   "outputs": [
    {
     "data": {
      "text/plain": [
       "NaN     16377\n",
       "Ave     15094\n",
       "St      12725\n",
       "Dr      11397\n",
       "Rd       5888\n",
       "Ct       4171\n",
       "Way      4018\n",
       "Ln       3779\n",
       "Pl       1931\n",
       "Cir      1502\n",
       "Blvd     1228\n",
       "Ter       503\n",
       "Trl       249\n",
       "Loop      203\n",
       "Name: Address_RdType, dtype: int64"
      ]
     },
     "execution_count": 1096,
     "metadata": {},
     "output_type": "execute_result"
    }
   ],
   "source": [
    "tt.Address_RdType.value_counts()"
   ]
  },
  {
   "cell_type": "code",
   "execution_count": 1097,
   "id": "004bfd65",
   "metadata": {},
   "outputs": [],
   "source": [
    "tt = tt.drop('Address_Number', axis=1).copy()"
   ]
  },
  {
   "cell_type": "markdown",
   "id": "a15b1cbd",
   "metadata": {},
   "source": [
    "##### Address_NoLen"
   ]
  },
  {
   "cell_type": "code",
   "execution_count": 1098,
   "id": "e056c4c0",
   "metadata": {},
   "outputs": [
    {
     "data": {
      "text/plain": [
       "4     39498\n",
       "3     22704\n",
       "5     12457\n",
       "2      3153\n",
       "1       894\n",
       "7       174\n",
       "9       105\n",
       "6        57\n",
       "8         8\n",
       "11        8\n",
       "10        6\n",
       "15        1\n",
       "Name: Address_NoLen, dtype: int64"
      ]
     },
     "execution_count": 1098,
     "metadata": {},
     "output_type": "execute_result"
    }
   ],
   "source": [
    "tt.Address_NoLen.value_counts()"
   ]
  },
  {
   "cell_type": "markdown",
   "id": "819b1809",
   "metadata": {},
   "source": [
    "#### Summary"
   ]
  },
  {
   "cell_type": "markdown",
   "id": "2449c181",
   "metadata": {},
   "source": [
    "Could also do capital letters and exclamtion, sentiment? "
   ]
  },
  {
   "cell_type": "markdown",
   "id": "2cadb77a",
   "metadata": {},
   "source": [
    "##### Length"
   ]
  },
  {
   "cell_type": "code",
   "execution_count": 1099,
   "id": "5083ac16",
   "metadata": {},
   "outputs": [],
   "source": [
    "tt['Summary_Len']= tt.Summary.apply(lambda x: len(x) if type(x) == str else 'NaN').copy()"
   ]
  },
  {
   "cell_type": "markdown",
   "id": "b14fa9ac",
   "metadata": {},
   "source": [
    "#### Type"
   ]
  },
  {
   "cell_type": "code",
   "execution_count": 1100,
   "id": "ca0a918f",
   "metadata": {},
   "outputs": [],
   "source": [
    "def val_count_unique(x, n): #x is the data, n is how many counts for inclusion\n",
    "    x = x.value_counts().loc[lambda x: x > n].rename_axis('Unique_Value').reset_index(name='Count')\n",
    "    return list(x['Unique_Value'])"
   ]
  },
  {
   "cell_type": "code",
   "execution_count": 1101,
   "id": "348ef412",
   "metadata": {},
   "outputs": [
    {
     "data": {
      "text/plain": [
       "['SingleFamily',\n",
       " 'Condo',\n",
       " 'Townhouse',\n",
       " 'MultiFamily',\n",
       " 'Unknown',\n",
       " 'MobileManufactured',\n",
       " 'VacantLand',\n",
       " 'Single Family',\n",
       " 'Apartment',\n",
       " 'Cooperative',\n",
       " 'Residential Lot',\n",
       " 'MFD-F',\n",
       " '2 Story',\n",
       " 'Acreage',\n",
       " 'Condominium',\n",
       " 'Duplex',\n",
       " '3 Story',\n",
       " 'Manufactured Home']"
      ]
     },
     "execution_count": 1101,
     "metadata": {},
     "output_type": "execute_result"
    }
   ],
   "source": [
    "val_count_unique(tt.Type, 10)"
   ]
  },
  {
   "cell_type": "code",
   "execution_count": 1102,
   "id": "529e956f",
   "metadata": {},
   "outputs": [],
   "source": [
    "tt['Type'] =  tt.Type.map({'SingleFamily': 'SingleFamily',\n",
    " 'Condo': 'Condo',\n",
    " 'Townhouse': 'Townhouse',\n",
    " 'MultiFamily': 'MultiFamily',\n",
    " 'Unknown': 'NaN',\n",
    " 'MobileManufactured': 'MobileManufactured',\n",
    " 'VacantLand': 'VacantLand',\n",
    " 'Single Family': 'SingleFamily' ,\n",
    " 'Apartment': 'Apartment',\n",
    " 'Cooperative': 'Cooperative',\n",
    " 'Residential Lot': 'ResidentialLot',\n",
    " 'MFD-F': 'MultiFamily',\n",
    " '2 Story': '2 Story',\n",
    " 'Acreage': 'VacantLand',\n",
    " 'Condominium': 'Condo',\n",
    " 'Duplex': '2 Story',\n",
    " '3 Story': '3 Story',\n",
    " 'Manufactured Home': 'ManufacturedHome'}).copy()"
   ]
  },
  {
   "cell_type": "code",
   "execution_count": 1103,
   "id": "657a9ecf",
   "metadata": {},
   "outputs": [
    {
     "data": {
      "text/plain": [
       "SingleFamily          53883\n",
       "Condo                 12813\n",
       "Townhouse              4096\n",
       "MultiFamily            2296\n",
       "NaN                    2168\n",
       "MobileManufactured     1577\n",
       "VacantLand             1529\n",
       "Apartment               191\n",
       "Cooperative             100\n",
       "ResidentialLot           59\n",
       "2 Story                  36\n",
       "3 Story                  12\n",
       "ManufacturedHome         12\n",
       "Name: Type, dtype: int64"
      ]
     },
     "execution_count": 1103,
     "metadata": {},
     "output_type": "execute_result"
    }
   ],
   "source": [
    "tt.Type.value_counts()"
   ]
  },
  {
   "cell_type": "markdown",
   "id": "a48b2bec",
   "metadata": {},
   "source": [
    "#### Heating"
   ]
  },
  {
   "cell_type": "markdown",
   "id": "f5cb19a7",
   "metadata": {},
   "source": [
    "At the highest level, can be divided into Central (Heatpumps, Boilers, Furnace) or Direct (Space Heater, Stove, Fireplaces) or or State-Of-The_Art (Radiant, Ductless, CHP) or None."
   ]
  },
  {
   "cell_type": "markdown",
   "id": "92f891bc",
   "metadata": {},
   "source": [
    "If has Central, and others, Central must be dominant."
   ]
  },
  {
   "cell_type": "markdown",
   "id": "e18c556a",
   "metadata": {},
   "source": [
    "I did attempt use of Regex, which worked in an online Regex validator but not here."
   ]
  },
  {
   "cell_type": "code",
   "execution_count": 1104,
   "id": "fa77e6be",
   "metadata": {},
   "outputs": [],
   "source": [
    "tt['Heating'] = np.where(tt.Heating.str.contains(\"Central|Heatmap|Boiler|Furnace|Forced\", case=False, regex=True), 'Central', tt['Heating']).copy()"
   ]
  },
  {
   "cell_type": "code",
   "execution_count": 1105,
   "id": "c3419818",
   "metadata": {},
   "outputs": [],
   "source": [
    "tt['Heating'] = np.where(tt.Heating.str.contains(\"Heater|Stove|Fireplace|Fireplaces\", case=False, regex=True), 'Direct', tt['Heating']).copy()"
   ]
  },
  {
   "cell_type": "code",
   "execution_count": 1106,
   "id": "037a3c17",
   "metadata": {},
   "outputs": [],
   "source": [
    "tt['Heating'] = np.where(tt.Heating.str.contains(\"Radiant|Ductless|CHP\", case=False, regex=True), 'Advanced', tt['Heating']).copy()"
   ]
  },
  {
   "cell_type": "code",
   "execution_count": 1107,
   "id": "22802fc0",
   "metadata": {},
   "outputs": [
    {
     "data": {
      "text/plain": [
       "['Central',\n",
       " 'Other',\n",
       " 'Direct',\n",
       " 'Advanced',\n",
       " 'Electric',\n",
       " 'None',\n",
       " 'Gas',\n",
       " 'Natural Gas',\n",
       " 'Baseboard',\n",
       " 'Wall',\n",
       " 'Zoned',\n",
       " 'Heat Pump',\n",
       " 'Other, Gas',\n",
       " 'See Remarks',\n",
       " 'Gravity',\n",
       " 'Baseboard, Electric',\n",
       " 'None, Other',\n",
       " 'Propane',\n",
       " 'Electric, Baseboard',\n",
       " 'Heating - 2+ Zones',\n",
       " 'Steam',\n",
       " 'Zoned, Natural Gas',\n",
       " 'Wall, Gas',\n",
       " 'Natural Gas, CFAH',\n",
       " 'Combination']"
      ]
     },
     "execution_count": 1107,
     "metadata": {},
     "output_type": "execute_result"
    }
   ],
   "source": [
    "val_count_unique(tt.Heating, 50)"
   ]
  },
  {
   "cell_type": "code",
   "execution_count": 1108,
   "id": "9a678285",
   "metadata": {},
   "outputs": [],
   "source": [
    "tt['Heating'] =  tt.Heating.map({'Central': 'Central',\n",
    " 'Other': 'Other',\n",
    " 'Direct': 'Direct',\n",
    " 'Advanced': 'Advanced',\n",
    " 'Electric': 'Central',\n",
    " 'None': 'None',                                \n",
    " 'Gas': 'Central',\n",
    " 'Natural Gas': 'Central',\n",
    " 'Baseboard': 'Advanced',\n",
    " 'Wall': 'Advanced',\n",
    " 'Zoned': 'Advanced',\n",
    " 'Heat Pump': 'Central', \n",
    " 'Other, Gas': 'Central', \n",
    " 'See Remarks': 'Central',\n",
    " 'Gravity': 'Central',\n",
    " 'Baseboard, Electric': 'Advanced', \n",
    " 'None, Other': 'None' , \n",
    " 'Propane': 'Central',\n",
    " 'Electric, Baseboard': 'Advanced',\n",
    " 'Heating - 2+ Zones': 'Advanced',\n",
    " 'Steam': 'Central',\n",
    " 'Zoned, Natural Gas': 'Advanced',\n",
    " 'Wall, Gas': 'Advanced',\n",
    " 'Natural Gas, CFAH': 'Central',\n",
    " 'Combination': 'Central'}).copy()"
   ]
  },
  {
   "cell_type": "code",
   "execution_count": 1109,
   "id": "8df7c213",
   "metadata": {},
   "outputs": [
    {
     "data": {
      "text/plain": [
       "Central     70871\n",
       "Advanced     2638\n",
       "Other        2074\n",
       "Direct       1258\n",
       "None          813\n",
       "Name: Heating, dtype: int64"
      ]
     },
     "execution_count": 1109,
     "metadata": {},
     "output_type": "execute_result"
    }
   ],
   "source": [
    "tt.Heating.value_counts()"
   ]
  },
  {
   "cell_type": "markdown",
   "id": "62b555b8",
   "metadata": {},
   "source": [
    "#### Cooling"
   ]
  },
  {
   "cell_type": "markdown",
   "id": "0c821c42",
   "metadata": {},
   "source": [
    "Divide into Central, Room, Evaporative, Advanced and None."
   ]
  },
  {
   "cell_type": "code",
   "execution_count": 1110,
   "id": "7ca0a71c",
   "metadata": {},
   "outputs": [],
   "source": [
    "tt['Cooling'] = np.where(tt.Cooling.str.contains(\"Central|Heatpump|Heat Pump\", case=False, regex=True), 'Central', tt['Cooling']).copy()"
   ]
  },
  {
   "cell_type": "code",
   "execution_count": 1111,
   "id": "ed3dba7e",
   "metadata": {},
   "outputs": [],
   "source": [
    "tt['Cooling'] = np.where(tt.Cooling.str.contains(\"Ceiling|Window|Wall\", case=False, regex=True), 'Room', tt['Cooling']).copy()"
   ]
  },
  {
   "cell_type": "code",
   "execution_count": 1112,
   "id": "c9fa31d8",
   "metadata": {},
   "outputs": [
    {
     "data": {
      "text/plain": [
       "['Central',\n",
       " 'None',\n",
       " 'Room',\n",
       " 'Other',\n",
       " 'See Remarks',\n",
       " 'Evaporative Cooling',\n",
       " 'Zoned',\n",
       " 'No Air Conditioning',\n",
       " 'Evaporative',\n",
       " 'Whole House / Attic Fan',\n",
       " 'Air Conditioning',\n",
       " 'Dual',\n",
       " 'Electric',\n",
       " 'Refrigerator',\n",
       " 'Other-Rmks',\n",
       " 'Multi-Zone',\n",
       " 'CFAC']"
      ]
     },
     "execution_count": 1112,
     "metadata": {},
     "output_type": "execute_result"
    }
   ],
   "source": [
    "val_count_unique(tt.Cooling, 50)"
   ]
  },
  {
   "cell_type": "code",
   "execution_count": 1113,
   "id": "24d1e8e4",
   "metadata": {},
   "outputs": [],
   "source": [
    "tt['Cooling'] = tt.Cooling.map({'Central': 'Central',\n",
    " 'None': 'None',\n",
    " 'Room': 'Room',\n",
    " 'Other': 'Other',\n",
    " 'See Remarks': 'Central',\n",
    " 'Evaporative Cooling': 'Evaporative',\n",
    " 'Zoned': 'Advanced',\n",
    " 'No Air Conditioning': 'None',\n",
    " 'Evaporative': 'Evaporative',\n",
    " 'Whole House / Attic Fan': 'Central',\n",
    " 'Air Conditioning': 'Central',\n",
    " 'Dual': 'Central',\n",
    " 'Electric': 'Central',\n",
    " 'Refrigerator': 'Central',\n",
    " 'Other-Rmks': 'Central',\n",
    " 'Multi-Zone': 'Advanced',\n",
    " 'CFAC': 'Central'}).copy()"
   ]
  },
  {
   "cell_type": "code",
   "execution_count": 1114,
   "id": "c589573b",
   "metadata": {},
   "outputs": [
    {
     "data": {
      "text/plain": [
       "Central        56233\n",
       "None           15315\n",
       "Room            4884\n",
       "Other           1157\n",
       "Evaporative      518\n",
       "Advanced         353\n",
       "Name: Cooling, dtype: int64"
      ]
     },
     "execution_count": 1114,
     "metadata": {},
     "output_type": "execute_result"
    }
   ],
   "source": [
    "tt.Cooling.value_counts()"
   ]
  },
  {
   "cell_type": "markdown",
   "id": "714d58bf",
   "metadata": {},
   "source": [
    "#### Garage"
   ]
  },
  {
   "cell_type": "code",
   "execution_count": 1115,
   "id": "de7898fa",
   "metadata": {},
   "outputs": [],
   "source": [
    "tt['Parking'] = np.where(tt.Parking.str.contains(\"Garage|Carport|Structure|Attached|Private|Covered|Gated|Controlled|RV|Interior|Valet|Gar\", case=False, regex=True), 'Garage', tt['Parking']).copy()"
   ]
  },
  {
   "cell_type": "code",
   "execution_count": 1116,
   "id": "d8298662",
   "metadata": {},
   "outputs": [],
   "source": [
    "tt['Parking'] = np.where(tt.Parking.str.contains(\"Street|Driveway|Concrete|Detached|Side|Underground|Independent|Open|Tandem|Gravel\", case=False, regex=True), 'No_Garage', tt['Parking']).copy()"
   ]
  },
  {
   "cell_type": "code",
   "execution_count": 1117,
   "id": "b156ccc3",
   "metadata": {},
   "outputs": [
    {
     "data": {
      "text/plain": [
       "['Garage',\n",
       " 'No_Garage',\n",
       " '0 spaces',\n",
       " 'None',\n",
       " 'Assigned',\n",
       " 'Direct Access',\n",
       " 'On Site (Single Family Only)',\n",
       " 'Other',\n",
       " 'Parking Space']"
      ]
     },
     "execution_count": 1117,
     "metadata": {},
     "output_type": "execute_result"
    }
   ],
   "source": [
    "val_count_unique(tt.Parking, 40)"
   ]
  },
  {
   "cell_type": "code",
   "execution_count": 1118,
   "id": "436e6936",
   "metadata": {},
   "outputs": [],
   "source": [
    "tt['Parking'] = tt.Parking.map({'Garage': 'Garage',\n",
    " 'No_Garage': 'No_Garage',\n",
    " '0 spaces': 'None',\n",
    " 'None': 'None',\n",
    " 'Assigned': 'No_Garage',\n",
    " 'Direct Access': 'No_Garage',\n",
    " 'On Site (Single Family Only)': 'No_Garage',\n",
    " 'Other': 'No_Garage',\n",
    " 'Parking Space': 'No_Garage'}).copy()"
   ]
  },
  {
   "cell_type": "code",
   "execution_count": 1119,
   "id": "221bfc95",
   "metadata": {},
   "outputs": [
    {
     "data": {
      "text/plain": [
       "Garage       66518\n",
       "No_Garage     6644\n",
       "None          5316\n",
       "Name: Parking, dtype: int64"
      ]
     },
     "execution_count": 1119,
     "metadata": {},
     "output_type": "execute_result"
    }
   ],
   "source": [
    "tt.Parking.value_counts()"
   ]
  },
  {
   "cell_type": "markdown",
   "id": "7cd6d2d6",
   "metadata": {},
   "source": [
    "#### Bedrooms"
   ]
  },
  {
   "cell_type": "markdown",
   "id": "0d07b90e",
   "metadata": {},
   "source": [
    "Count occurences of commas + 1, use that as proxy for number of bedrooms."
   ]
  },
  {
   "cell_type": "code",
   "execution_count": 1120,
   "id": "b1e1eb13",
   "metadata": {},
   "outputs": [],
   "source": [
    "tt['Bedrooms'] = tt.Bedrooms.astype('str').copy()"
   ]
  },
  {
   "cell_type": "code",
   "execution_count": 1121,
   "id": "cc1c68b5",
   "metadata": {},
   "outputs": [],
   "source": [
    "tt['Bedrooms']= tt.Bedrooms.apply(lambda x: x.count(',')+1 if len(x) > 1 else x).copy()"
   ]
  },
  {
   "cell_type": "code",
   "execution_count": 1122,
   "id": "0fdafd38",
   "metadata": {},
   "outputs": [
    {
     "data": {
      "text/plain": [
       "3    27227\n",
       "2    15835\n",
       "4    14058\n",
       "1     8311\n",
       "5     4004\n",
       "1     3436\n",
       "2     2504\n",
       "3     1256\n",
       "6      888\n",
       "4      492\n",
       "0      455\n",
       "7      217\n",
       "5      176\n",
       "8      112\n",
       "Name: Bedrooms, dtype: int64"
      ]
     },
     "execution_count": 1122,
     "metadata": {},
     "output_type": "execute_result"
    }
   ],
   "source": [
    "tt.Bedrooms.value_counts().loc[lambda x: x > 100]"
   ]
  },
  {
   "cell_type": "code",
   "execution_count": 1123,
   "id": "384ca231",
   "metadata": {},
   "outputs": [
    {
     "data": {
      "text/plain": [
       "Los Angeles      12273\n",
       "San Jose          7298\n",
       "San Francisco     5743\n",
       "San Diego         1100\n",
       "San Mateo          910\n",
       "                 ...  \n",
       "Palmdale           103\n",
       "Downey             103\n",
       "Covina             102\n",
       "Urban              101\n",
       "Thousand Oaks      101\n",
       "Name: Region, Length: 105, dtype: int64"
      ]
     },
     "execution_count": 1123,
     "metadata": {},
     "output_type": "execute_result"
    }
   ],
   "source": [
    "tt.Region.value_counts().loc[lambda x: x > 100]"
   ]
  },
  {
   "cell_type": "markdown",
   "id": "5e27bebd",
   "metadata": {},
   "source": [
    "#### School Score"
   ]
  },
  {
   "cell_type": "code",
   "execution_count": 1124,
   "id": "1290f27c",
   "metadata": {},
   "outputs": [],
   "source": [
    "def avg_score(row):\n",
    "    x = [row['Elementary_School_Score'], row['Middle_School_Score'], row['High_School_Score']]\n",
    "    count = 3 - x.count(0)\n",
    "    total = sum(x)\n",
    "    if count == 0:\n",
    "        return 0\n",
    "    else:\n",
    "        return total/count"
   ]
  },
  {
   "cell_type": "code",
   "execution_count": 1125,
   "id": "be7b501a",
   "metadata": {},
   "outputs": [],
   "source": [
    "tt = tt.fillna({'Elementary_School_Score': 0, 'Middle_School_Score': 0, 'High_School_Score': 0}).copy()"
   ]
  },
  {
   "cell_type": "code",
   "execution_count": 1126,
   "id": "4467f177",
   "metadata": {},
   "outputs": [],
   "source": [
    "tt['Schools_Score'] = tt.apply(avg_score, axis=1)"
   ]
  },
  {
   "cell_type": "code",
   "execution_count": 1127,
   "id": "05bcab41",
   "metadata": {},
   "outputs": [],
   "source": [
    "tt = tt.drop(['Elementary_School_Score', 'Middle_School_Score', 'High_School_Score'], axis=1).copy()"
   ]
  },
  {
   "cell_type": "markdown",
   "id": "36df0d86",
   "metadata": {},
   "source": [
    "#### School Distance"
   ]
  },
  {
   "cell_type": "code",
   "execution_count": 1128,
   "id": "28cfd992",
   "metadata": {},
   "outputs": [],
   "source": [
    "def avg_distance(row):\n",
    "    x = [row['Elementary_School_Distance'], row['Middle_School_Distance'], row['High_School_Distance']]\n",
    "    count = 3 - x.count(0)\n",
    "    total = sum(x)\n",
    "    if count == 0:\n",
    "        return 0\n",
    "    else:\n",
    "        return total/count"
   ]
  },
  {
   "cell_type": "code",
   "execution_count": 1129,
   "id": "1ab2cbf4",
   "metadata": {},
   "outputs": [],
   "source": [
    "tt = tt.fillna({'Elementary_School_Distance': 0, 'Middle_School_Distance': 0, 'High_School_Distance': 0}).copy()"
   ]
  },
  {
   "cell_type": "code",
   "execution_count": 1130,
   "id": "d021f7d7",
   "metadata": {},
   "outputs": [],
   "source": [
    "tt['Schools_Distance'] = tt.apply(avg_distance, axis=1)"
   ]
  },
  {
   "cell_type": "code",
   "execution_count": 1131,
   "id": "07bc5e92",
   "metadata": {},
   "outputs": [
    {
     "data": {
      "text/html": [
       "<div>\n",
       "<style scoped>\n",
       "    .dataframe tbody tr th:only-of-type {\n",
       "        vertical-align: middle;\n",
       "    }\n",
       "\n",
       "    .dataframe tbody tr th {\n",
       "        vertical-align: top;\n",
       "    }\n",
       "\n",
       "    .dataframe thead th {\n",
       "        text-align: right;\n",
       "    }\n",
       "</style>\n",
       "<table border=\"1\" class=\"dataframe\">\n",
       "  <thead>\n",
       "    <tr style=\"text-align: right;\">\n",
       "      <th></th>\n",
       "      <th>Elementary_School_Distance</th>\n",
       "      <th>Middle_School_Distance</th>\n",
       "      <th>High_School_Distance</th>\n",
       "      <th>Schools_Distance</th>\n",
       "    </tr>\n",
       "  </thead>\n",
       "  <tbody>\n",
       "    <tr>\n",
       "      <th>0</th>\n",
       "      <td>0.4</td>\n",
       "      <td>0.0</td>\n",
       "      <td>1.3</td>\n",
       "      <td>0.850000</td>\n",
       "    </tr>\n",
       "    <tr>\n",
       "      <th>1</th>\n",
       "      <td>0.8</td>\n",
       "      <td>1.1</td>\n",
       "      <td>1.3</td>\n",
       "      <td>1.066667</td>\n",
       "    </tr>\n",
       "    <tr>\n",
       "      <th>2</th>\n",
       "      <td>0.0</td>\n",
       "      <td>0.0</td>\n",
       "      <td>10.1</td>\n",
       "      <td>10.100000</td>\n",
       "    </tr>\n",
       "    <tr>\n",
       "      <th>3</th>\n",
       "      <td>0.2</td>\n",
       "      <td>0.2</td>\n",
       "      <td>0.2</td>\n",
       "      <td>0.200000</td>\n",
       "    </tr>\n",
       "    <tr>\n",
       "      <th>4</th>\n",
       "      <td>8.5</td>\n",
       "      <td>10.2</td>\n",
       "      <td>10.6</td>\n",
       "      <td>9.766667</td>\n",
       "    </tr>\n",
       "    <tr>\n",
       "      <th>...</th>\n",
       "      <td>...</td>\n",
       "      <td>...</td>\n",
       "      <td>...</td>\n",
       "      <td>...</td>\n",
       "    </tr>\n",
       "    <tr>\n",
       "      <th>31621</th>\n",
       "      <td>5.5</td>\n",
       "      <td>4.6</td>\n",
       "      <td>5.3</td>\n",
       "      <td>5.133333</td>\n",
       "    </tr>\n",
       "    <tr>\n",
       "      <th>31622</th>\n",
       "      <td>0.8</td>\n",
       "      <td>0.9</td>\n",
       "      <td>0.9</td>\n",
       "      <td>0.866667</td>\n",
       "    </tr>\n",
       "    <tr>\n",
       "      <th>31623</th>\n",
       "      <td>2.6</td>\n",
       "      <td>2.5</td>\n",
       "      <td>3.7</td>\n",
       "      <td>2.933333</td>\n",
       "    </tr>\n",
       "    <tr>\n",
       "      <th>31624</th>\n",
       "      <td>1.0</td>\n",
       "      <td>0.9</td>\n",
       "      <td>1.7</td>\n",
       "      <td>1.200000</td>\n",
       "    </tr>\n",
       "    <tr>\n",
       "      <th>31625</th>\n",
       "      <td>0.4</td>\n",
       "      <td>0.0</td>\n",
       "      <td>0.4</td>\n",
       "      <td>0.400000</td>\n",
       "    </tr>\n",
       "  </tbody>\n",
       "</table>\n",
       "<p>79065 rows × 4 columns</p>\n",
       "</div>"
      ],
      "text/plain": [
       "       Elementary_School_Distance  Middle_School_Distance  \\\n",
       "0                             0.4                     0.0   \n",
       "1                             0.8                     1.1   \n",
       "2                             0.0                     0.0   \n",
       "3                             0.2                     0.2   \n",
       "4                             8.5                    10.2   \n",
       "...                           ...                     ...   \n",
       "31621                         5.5                     4.6   \n",
       "31622                         0.8                     0.9   \n",
       "31623                         2.6                     2.5   \n",
       "31624                         1.0                     0.9   \n",
       "31625                         0.4                     0.0   \n",
       "\n",
       "       High_School_Distance  Schools_Distance  \n",
       "0                       1.3          0.850000  \n",
       "1                       1.3          1.066667  \n",
       "2                      10.1         10.100000  \n",
       "3                       0.2          0.200000  \n",
       "4                      10.6          9.766667  \n",
       "...                     ...               ...  \n",
       "31621                   5.3          5.133333  \n",
       "31622                   0.9          0.866667  \n",
       "31623                   3.7          2.933333  \n",
       "31624                   1.7          1.200000  \n",
       "31625                   0.4          0.400000  \n",
       "\n",
       "[79065 rows x 4 columns]"
      ]
     },
     "execution_count": 1131,
     "metadata": {},
     "output_type": "execute_result"
    }
   ],
   "source": [
    "tt.loc[:, ['Elementary_School_Distance', 'Middle_School_Distance', 'High_School_Distance', 'Schools_Distance']]"
   ]
  },
  {
   "cell_type": "code",
   "execution_count": 1132,
   "id": "b1a353c6",
   "metadata": {},
   "outputs": [],
   "source": [
    "tt = tt.drop(['Elementary_School_Distance', 'Middle_School_Distance', 'High_School_Distance'], axis=1).copy()"
   ]
  },
  {
   "cell_type": "markdown",
   "id": "f53bb429",
   "metadata": {},
   "source": [
    "#### Flooring"
   ]
  },
  {
   "cell_type": "markdown",
   "id": "e97afa2b",
   "metadata": {},
   "source": [
    "Wood, Hardwood, Laminate, Carpet, Tile."
   ]
  },
  {
   "cell_type": "code",
   "execution_count": 1133,
   "id": "779136aa",
   "metadata": {},
   "outputs": [],
   "source": [
    "tt['Flooring'] = np.where(tt.Flooring.str.contains(\",\", case=False, regex=True), 'Mixed', tt['Flooring']).copy()"
   ]
  },
  {
   "cell_type": "code",
   "execution_count": 1134,
   "id": "aec83d2f",
   "metadata": {},
   "outputs": [],
   "source": [
    "tt.Flooring = tt.Flooring.map({'Mixed': 'Mixed',\n",
    " 'Wood': 'Wood',\n",
    " 'Laminate': 'Laminate',\n",
    " 'Hardwood': 'Hardwood',\n",
    " 'Carpet': 'Carpet',\n",
    " 'Tile': 'Tile',\n",
    " 'Vinyl': 'Vinyl',\n",
    " 'Other': 'Mixed',\n",
    " 'Concrete': 'Concrete',\n",
    " 'See Remarks': 'Mixed',\n",
    " 'Bamboo': 'Wood',\n",
    " 'Ceramic Tile': 'Tile',\n",
    " 'Linoleum / Vinyl': 'Vinyl',\n",
    " 'Hardwood Flrs Throughout': 'Hardwood',\n",
    " 'Stone': 'Tile',\n",
    " 'Vinyl / Linoleum': 'Vinyl',\n",
    " 'Simulated Wood': 'Wood',\n",
    " 'Engineered Wood': 'Wood',\n",
    " 'Other-Rmks': 'Mixed',\n",
    " 'Linoleum/Vinyl': 'Vinyl',\n",
    " 'Cement': 'Concrete',\n",
    " 'None': 'Concrete',\n",
    " 'Linoleum': 'Vinyl',\n",
    " 'Parquet': 'Hardwood', \n",
    " 'Marble': 'Mixed',\n",
    " 'Combination': 'Mixed',\n",
    " 'Vinyl/Linoleum': 'Vinyl',\n",
    " 'Softwood': 'Wood',\n",
    " 'Brick': 'Concrete',\n",
    " 'Mexican Tile': 'Tile',\n",
    " 'Travertine': 'Tile',\n",
    " 'Wood/Wood Like': 'Wood',\n",
    " 'Vinyl Tile': 'Vinyl',\n",
    " 'Other-Attch': 'Mixed',\n",
    " 'Slate': 'Tile',\n",
    " 'Laminated': 'Vinyl',\n",
    " 'Sustainable Materials': 'Mixed',\n",
    " 'Carpeted': 'Carpet',\n",
    " 'Plank': 'Wood',\n",
    " 'Varies by Unit': 'Mixed',\n",
    " 'Cork': 'Wood',\n",
    " 'Partial Carpeting': 'Mixed',\n",
    " 'Travertine And Wood': 'Mixed',\n",
    " 'Brazilian Tile': 'Tile',\n",
    " 'laminate': 'Vinyl',\n",
    " 'Partial Carpet': 'Mixed',\n",
    " 'Unfinished': 'Concrete',\n",
    " 'Natural Stone': 'Tile',\n",
    " 'Custom Concrete': 'Concrete',\n",
    " 'Varies': 'Mixed',\n",
    " 'Needs To Be Replaced': 'Concrete',\n",
    " 'Painted/Stained': 'Mixed',\n",
    " 'Tbd': 'Concrete',\n",
    " 'CRI Green Label Plus Certified Carpet': 'Carpet',\n",
    " 'Reclaimed': 'Wood',\n",
    " 'Prem. Wood Based Lam': 'Wood',\n",
    " 'Reclaimed Wood': 'Wood'}).copy()"
   ]
  },
  {
   "cell_type": "code",
   "execution_count": 1135,
   "id": "b3133fec",
   "metadata": {},
   "outputs": [
    {
     "data": {
      "text/plain": [
       "Mixed       62782\n",
       "Wood         5950\n",
       "Laminate     3183\n",
       "Hardwood     2989\n",
       "Tile         1580\n",
       "Carpet       1564\n",
       "Vinyl         669\n",
       "Concrete      348\n",
       "Name: Flooring, dtype: int64"
      ]
     },
     "execution_count": 1135,
     "metadata": {},
     "output_type": "execute_result"
    }
   ],
   "source": [
    "tt.Flooring.value_counts()"
   ]
  },
  {
   "cell_type": "markdown",
   "id": "cb512ad2",
   "metadata": {},
   "source": [
    "#### Appliances_included"
   ]
  },
  {
   "cell_type": "code",
   "execution_count": 1136,
   "id": "7b9987df",
   "metadata": {},
   "outputs": [],
   "source": [
    "tt.Appliances_included = tt.Appliances_included.fillna(0).copy()"
   ]
  },
  {
   "cell_type": "code",
   "execution_count": 1137,
   "id": "e27f8513",
   "metadata": {},
   "outputs": [],
   "source": [
    "def row_elements(row):\n",
    "    if type(row) == int:\n",
    "        return row\n",
    "    else:\n",
    "        return row.count(',') + 1"
   ]
  },
  {
   "cell_type": "code",
   "execution_count": 1138,
   "id": "7b712221",
   "metadata": {},
   "outputs": [],
   "source": [
    "tt['Total_Appliances'] = tt.Appliances_included.apply(row_elements)"
   ]
  },
  {
   "cell_type": "code",
   "execution_count": 1139,
   "id": "a16714be",
   "metadata": {},
   "outputs": [
    {
     "data": {
      "text/html": [
       "<div>\n",
       "<style scoped>\n",
       "    .dataframe tbody tr th:only-of-type {\n",
       "        vertical-align: middle;\n",
       "    }\n",
       "\n",
       "    .dataframe tbody tr th {\n",
       "        vertical-align: top;\n",
       "    }\n",
       "\n",
       "    .dataframe thead th {\n",
       "        text-align: right;\n",
       "    }\n",
       "</style>\n",
       "<table border=\"1\" class=\"dataframe\">\n",
       "  <thead>\n",
       "    <tr style=\"text-align: right;\">\n",
       "      <th></th>\n",
       "      <th>Appliances_included</th>\n",
       "      <th>Total_Appliances</th>\n",
       "    </tr>\n",
       "  </thead>\n",
       "  <tbody>\n",
       "    <tr>\n",
       "      <th>0</th>\n",
       "      <td>Dishwasher, Dryer, Garbage disposal, Microwave, Refrigerator, Washer</td>\n",
       "      <td>6</td>\n",
       "    </tr>\n",
       "    <tr>\n",
       "      <th>1</th>\n",
       "      <td>0</td>\n",
       "      <td>0</td>\n",
       "    </tr>\n",
       "    <tr>\n",
       "      <th>2</th>\n",
       "      <td>0</td>\n",
       "      <td>0</td>\n",
       "    </tr>\n",
       "    <tr>\n",
       "      <th>3</th>\n",
       "      <td>Dishwasher</td>\n",
       "      <td>1</td>\n",
       "    </tr>\n",
       "    <tr>\n",
       "      <th>4</th>\n",
       "      <td>0</td>\n",
       "      <td>0</td>\n",
       "    </tr>\n",
       "    <tr>\n",
       "      <th>...</th>\n",
       "      <td>...</td>\n",
       "      <td>...</td>\n",
       "    </tr>\n",
       "    <tr>\n",
       "      <th>31621</th>\n",
       "      <td>Dishwasher, Disposal, Dryer, Microwave, Oven, Range, Refrigerator, Washer</td>\n",
       "      <td>8</td>\n",
       "    </tr>\n",
       "    <tr>\n",
       "      <th>31622</th>\n",
       "      <td>Dishwasher, Electric Oven, Disposal, Gas Water Heater</td>\n",
       "      <td>4</td>\n",
       "    </tr>\n",
       "    <tr>\n",
       "      <th>31623</th>\n",
       "      <td>0</td>\n",
       "      <td>0</td>\n",
       "    </tr>\n",
       "    <tr>\n",
       "      <th>31624</th>\n",
       "      <td>Dishwasher, Disposal, Microwave</td>\n",
       "      <td>3</td>\n",
       "    </tr>\n",
       "    <tr>\n",
       "      <th>31625</th>\n",
       "      <td>0</td>\n",
       "      <td>0</td>\n",
       "    </tr>\n",
       "  </tbody>\n",
       "</table>\n",
       "<p>79065 rows × 2 columns</p>\n",
       "</div>"
      ],
      "text/plain": [
       "                                                             Appliances_included  \\\n",
       "0           Dishwasher, Dryer, Garbage disposal, Microwave, Refrigerator, Washer   \n",
       "1                                                                              0   \n",
       "2                                                                              0   \n",
       "3                                                                     Dishwasher   \n",
       "4                                                                              0   \n",
       "...                                                                          ...   \n",
       "31621  Dishwasher, Disposal, Dryer, Microwave, Oven, Range, Refrigerator, Washer   \n",
       "31622                      Dishwasher, Electric Oven, Disposal, Gas Water Heater   \n",
       "31623                                                                          0   \n",
       "31624                                            Dishwasher, Disposal, Microwave   \n",
       "31625                                                                          0   \n",
       "\n",
       "       Total_Appliances  \n",
       "0                     6  \n",
       "1                     0  \n",
       "2                     0  \n",
       "3                     1  \n",
       "4                     0  \n",
       "...                 ...  \n",
       "31621                 8  \n",
       "31622                 4  \n",
       "31623                 0  \n",
       "31624                 3  \n",
       "31625                 0  \n",
       "\n",
       "[79065 rows x 2 columns]"
      ]
     },
     "execution_count": 1139,
     "metadata": {},
     "output_type": "execute_result"
    }
   ],
   "source": [
    "tt.loc[:, ['Appliances_included', 'Total_Appliances']]"
   ]
  },
  {
   "cell_type": "code",
   "execution_count": 1140,
   "id": "4dcf6f6a",
   "metadata": {},
   "outputs": [],
   "source": [
    "tt = tt.drop('Appliances_included', axis=1).copy()"
   ]
  },
  {
   "cell_type": "markdown",
   "id": "c437fa89",
   "metadata": {},
   "source": [
    "#### Laundry_features"
   ]
  },
  {
   "cell_type": "markdown",
   "id": "0c17f4ca",
   "metadata": {},
   "source": [
    "Hookup vs no hookup."
   ]
  },
  {
   "cell_type": "code",
   "execution_count": 1141,
   "id": "d32c9344",
   "metadata": {},
   "outputs": [],
   "source": [
    "tt['Hookups'] = np.where(tt.Laundry_features.str.contains(r\"hook\", case=False, regex=True), 'Y', tt['Laundry_features']).copy()"
   ]
  },
  {
   "cell_type": "code",
   "execution_count": 1142,
   "id": "54d1bc72",
   "metadata": {},
   "outputs": [],
   "source": [
    "tt['Hookups'] = np.where(tt.Hookups != 'Y', 'N', tt['Hookups']).copy()"
   ]
  },
  {
   "cell_type": "code",
   "execution_count": 1143,
   "id": "fa787563",
   "metadata": {},
   "outputs": [
    {
     "data": {
      "text/plain": [
       "N    45366\n",
       "Y    33699\n",
       "Name: Hookups, dtype: int64"
      ]
     },
     "execution_count": 1143,
     "metadata": {},
     "output_type": "execute_result"
    }
   ],
   "source": [
    "tt.Hookups.value_counts()"
   ]
  },
  {
   "cell_type": "code",
   "execution_count": 1144,
   "id": "cdb2b48a",
   "metadata": {},
   "outputs": [],
   "source": [
    "tt = tt.drop('Laundry_features', axis=1).copy()"
   ]
  },
  {
   "cell_type": "markdown",
   "id": "1804ae97",
   "metadata": {},
   "source": [
    "#### Zip"
   ]
  },
  {
   "cell_type": "markdown",
   "id": "d733f2b4",
   "metadata": {},
   "source": [
    "Opening three digits give region."
   ]
  },
  {
   "cell_type": "code",
   "execution_count": 1145,
   "id": "f8590c87",
   "metadata": {},
   "outputs": [],
   "source": [
    "tt['Zip'] = tt.Zip.apply(lambda x: str(x)[:3]).copy()"
   ]
  },
  {
   "cell_type": "code",
   "execution_count": 1146,
   "id": "07638d32",
   "metadata": {},
   "outputs": [
    {
     "data": {
      "text/plain": [
       "900    12824\n",
       "950     7101\n",
       "951     7032\n",
       "941     5744\n",
       "940     5111\n",
       "945     2449\n",
       "902     2348\n",
       "956     1922\n",
       "917     1621\n",
       "953     1544\n",
       "923     1401\n",
       "926     1394\n",
       "920     1366\n",
       "913     1306\n",
       "925     1302\n",
       "954     1234\n",
       "921     1171\n",
       "928     1155\n",
       "944     1125\n",
       "959     1098\n",
       "932      963\n",
       "936      951\n",
       "922      945\n",
       "960      935\n",
       "934      906\n",
       "958      871\n",
       "952      837\n",
       "949      787\n",
       "930      729\n",
       "919      679\n",
       "907      671\n",
       "906      613\n",
       "935      598\n",
       "961      554\n",
       "943      551\n",
       "939      520\n",
       "856      506\n",
       "955      496\n",
       "946      494\n",
       "957      487\n",
       "937      486\n",
       "910      416\n",
       "933      393\n",
       "908      392\n",
       "927      319\n",
       "912      302\n",
       "947      299\n",
       "914      286\n",
       "931      276\n",
       "911      247\n",
       "924      214\n",
       "916      214\n",
       "905      176\n",
       "915      174\n",
       "903      165\n",
       "948      151\n",
       "904      139\n",
       "918       75\n",
       "Name: Zip, dtype: int64"
      ]
     },
     "execution_count": 1146,
     "metadata": {},
     "output_type": "execute_result"
    }
   ],
   "source": [
    "tt.Zip.value_counts()"
   ]
  },
  {
   "cell_type": "markdown",
   "id": "0c3aed33",
   "metadata": {},
   "source": [
    "#### Removing useless columns"
   ]
  },
  {
   "cell_type": "markdown",
   "id": "90da632b",
   "metadata": {},
   "source": [
    "Useful information has been extracted from Address and Summary. Parking_features is accounted for by Parking. Region and city accounted for by Zip."
   ]
  },
  {
   "cell_type": "code",
   "execution_count": 1147,
   "id": "47f8775c",
   "metadata": {},
   "outputs": [],
   "source": [
    "tt = tt.drop(['Address', 'Region', 'Parking_features', 'City', 'Summary'], axis=1).copy()"
   ]
  },
  {
   "cell_type": "markdown",
   "id": "7189fa3e",
   "metadata": {},
   "source": [
    "### Distribution of Sold_Price"
   ]
  },
  {
   "cell_type": "markdown",
   "id": "5286adf8",
   "metadata": {},
   "source": [
    "We will need a series of normally distributed prices for at least the OLS model.\n",
    "\n",
    "https://machinelearningmastery.com/a-gentle-introduction-to-normality-tests-in-python/"
   ]
  },
  {
   "cell_type": "markdown",
   "id": "1fea1a64",
   "metadata": {},
   "source": [
    "#### Histogram"
   ]
  },
  {
   "cell_type": "code",
   "execution_count": 1154,
   "id": "2ca72891",
   "metadata": {},
   "outputs": [
    {
     "data": {
      "text/plain": [
       "<AxesSubplot:xlabel='Sold_Price', ylabel='Count'>"
      ]
     },
     "execution_count": 1154,
     "metadata": {},
     "output_type": "execute_result"
    },
    {
     "data": {
      "image/png": "[encoded data removed]",
      "text/plain": [
       "<Figure size 640x480 with 1 Axes>"
      ]
     },
     "metadata": {},
     "output_type": "display_data"
    }
   ],
   "source": [
    "sns.histplot(data=tt.Sold_Price)"
   ]
  },
  {
   "cell_type": "markdown",
   "id": "1c19c858",
   "metadata": {},
   "source": [
    "#### QQ Plot"
   ]
  },
  {
   "cell_type": "code",
   "execution_count": 1165,
   "id": "d6ac87d6",
   "metadata": {},
   "outputs": [
    {
     "ename": "TypeError",
     "evalue": "'Figure' object is not subscriptable",
     "output_type": "error",
     "traceback": [
      "\u001b[1;31m---------------------------------------------------------------------------\u001b[0m",
      "\u001b[1;31mTypeError\u001b[0m                                 Traceback (most recent call last)",
      "\u001b[1;32m~\\AppData\\Local\\Temp\\ipykernel_1936\\2519652994.py\u001b[0m in \u001b[0;36m<module>\u001b[1;34m\u001b[0m\n\u001b[1;32m----> 1\u001b[1;33m \u001b[0mqqplot\u001b[0m\u001b[1;33m(\u001b[0m\u001b[0mtt\u001b[0m\u001b[1;33m.\u001b[0m\u001b[0mSold_Price\u001b[0m\u001b[1;33m,\u001b[0m \u001b[0mline\u001b[0m\u001b[1;33m=\u001b[0m\u001b[1;34m'45'\u001b[0m\u001b[1;33m)\u001b[0m\u001b[1;33m[\u001b[0m\u001b[1;36m0\u001b[0m\u001b[1;33m]\u001b[0m\u001b[1;33m\u001b[0m\u001b[1;33m\u001b[0m\u001b[0m\n\u001b[0m",
      "\u001b[1;31mTypeError\u001b[0m: 'Figure' object is not subscriptable"
     ]
    },
    {
     "data": {
      "image/png": "[encoded data removed]",
      "text/plain": [
       "<Figure size 640x480 with 1 Axes>"
      ]
     },
     "metadata": {},
     "output_type": "display_data"
    }
   ],
   "source": [
    "qqplot(tt.Sold_Price, line='45')[0]"
   ]
  },
  {
   "cell_type": "markdown",
   "id": "ff9ed046",
   "metadata": {},
   "source": [
    "#### Shapiro-Wilk test"
   ]
  },
  {
   "cell_type": "code",
   "execution_count": 1168,
   "id": "9df7c99e",
   "metadata": {},
   "outputs": [
    {
     "name": "stdout",
     "output_type": "stream",
     "text": [
      "nan 1.0\n",
      "Statistics=nan, p=1.000\n",
      "Sample looks Gaussian (fail to reject H0)\n"
     ]
    }
   ],
   "source": [
    "stat, p = shapiro(tt.Sold_Price)\n",
    "print('Statistics=%.3f, p=%.3f' % (stat, p))\n",
    "# interpret\n",
    "alpha = 0.05\n",
    "if p > alpha:\n",
    "\tprint('Sample looks Gaussian (fail to reject H0)')\n",
    "else:\n",
    "\tprint('Sample does not look Gaussian (reject H0)')"
   ]
  },
  {
   "cell_type": "markdown",
   "id": "af9f1327",
   "metadata": {},
   "source": [
    "#### D'Agostino's K^2 test"
   ]
  },
  {
   "cell_type": "code",
   "execution_count": 1171,
   "id": "1f99ae90",
   "metadata": {},
   "outputs": [
    {
     "name": "stdout",
     "output_type": "stream",
     "text": [
      "Statistics=nan, p=nan\n",
      "Sample does not look Gaussian (reject H0)\n"
     ]
    }
   ],
   "source": [
    "stat, p = normaltest(tt.Sold_Price)\n",
    "print('Statistics=%.3f, p=%.3f' % (stat, p))\n",
    "# interpret\n",
    "alpha = 0.05\n",
    "if p > alpha:\n",
    "\tprint('Sample looks Gaussian (fail to reject H0)')\n",
    "else:\n",
    "\tprint('Sample does not look Gaussian (reject H0)')"
   ]
  },
  {
   "cell_type": "markdown",
   "id": "87674fbd",
   "metadata": {},
   "source": [
    "#### Anderson-Darling test"
   ]
  },
  {
   "cell_type": "code",
   "execution_count": 1173,
   "id": "2ac93aa3",
   "metadata": {},
   "outputs": [
    {
     "name": "stdout",
     "output_type": "stream",
     "text": [
      "Statistic: nan\n",
      "15.000: 0.576, data does not look normal (reject H0)\n",
      "10.000: 0.656, data does not look normal (reject H0)\n",
      "5.000: 0.787, data does not look normal (reject H0)\n",
      "2.500: 0.918, data does not look normal (reject H0)\n",
      "1.000: 1.092, data does not look normal (reject H0)\n"
     ]
    }
   ],
   "source": [
    "result = anderson(tt.Sold_Price)\n",
    "print('Statistic: %.3f' % result.statistic)\n",
    "p = 0\n",
    "for i in range(len(result.critical_values)):\n",
    "\tsl, cv = result.significance_level[i], result.critical_values[i]\n",
    "\tif result.statistic < result.critical_values[i]:\n",
    "\t\tprint('%.3f: %.3f, data looks normal (fail to reject H0)' % (sl, cv))\n",
    "\telse:\n",
    "\t\tprint('%.3f: %.3f, data does not look normal (reject H0)' % (sl, cv))"
   ]
  },
  {
   "cell_type": "markdown",
   "id": "98f4bae0",
   "metadata": {},
   "source": [
    "Hard fail. Let's transform the data."
   ]
  },
  {
   "cell_type": "code",
   "execution_count": 1178,
   "id": "173a5e13",
   "metadata": {
    "scrolled": true
   },
   "outputs": [
    {
     "data": {
      "text/plain": [
       "<AxesSubplot:xlabel='Sold_Price'>"
      ]
     },
     "execution_count": 1178,
     "metadata": {},
     "output_type": "execute_result"
    },
    {
     "data": {
      "image/png": "[encoded data removed]",
      "text/plain": [
       "<Figure size 640x480 with 1 Axes>"
      ]
     },
     "metadata": {},
     "output_type": "display_data"
    }
   ],
   "source": [
    "sns.distplot(tt.Sold_Price, kde=False, fit=stats.lognorm)"
   ]
  },
  {
   "cell_type": "markdown",
   "id": "f9aaade9",
   "metadata": {},
   "source": [
    "Before we do any transforming, lets check dtypes, correlation and do some EDA."
   ]
  },
  {
   "cell_type": "markdown",
   "id": "d700aada",
   "metadata": {},
   "source": [
    "### Data types"
   ]
  },
  {
   "cell_type": "markdown",
   "id": "78d2d807",
   "metadata": {},
   "source": [
    "Divide into qualitative and quantitative."
   ]
  },
  {
   "cell_type": "code",
   "execution_count": 1216,
   "id": "aa282faa",
   "metadata": {},
   "outputs": [],
   "source": [
    "quantitative = [f for f in tt.columns if tt.dtypes[f] != 'object']\n",
    "quantitative.remove('Sold_Price')\n",
    "quantitative.remove('Id')\n",
    "qualitative = [f for f in tt.columns if tt.dtypes[f] == 'object']"
   ]
  },
  {
   "cell_type": "code",
   "execution_count": 1217,
   "id": "259df9c6",
   "metadata": {},
   "outputs": [
    {
     "data": {
      "text/plain": [
       "(['Year_built',\n",
       "  'Lot',\n",
       "  'Bathrooms',\n",
       "  'Full_bathrooms',\n",
       "  'Total_interior_livable_area',\n",
       "  'Total_spaces',\n",
       "  'Garage_spaces',\n",
       "  'Tax_assessed_value',\n",
       "  'Annual_tax_amount',\n",
       "  'Listed_Price',\n",
       "  'Last_Sold_Price',\n",
       "  'Days_Listed',\n",
       "  'Days_Sold',\n",
       "  'Address_NoLen',\n",
       "  'Summary_Len',\n",
       "  'Schools_Score',\n",
       "  'Schools_Distance',\n",
       "  'Total_Appliances'],\n",
       " ['Type',\n",
       "  'Heating',\n",
       "  'Cooling',\n",
       "  'Parking',\n",
       "  'Bedrooms',\n",
       "  'Flooring',\n",
       "  'Zip',\n",
       "  'State',\n",
       "  'Address_RdType',\n",
       "  'Hookups'])"
      ]
     },
     "execution_count": 1217,
     "metadata": {},
     "output_type": "execute_result"
    }
   ],
   "source": [
    "quantitative, qualitative"
   ]
  },
  {
   "cell_type": "code",
   "execution_count": 1219,
   "id": "9c9ca405",
   "metadata": {},
   "outputs": [],
   "source": [
    "tt.to_csv('tt.csv', index=False)"
   ]
  },
  {
   "cell_type": "code",
   "execution_count": 620,
   "id": "44ecf314",
   "metadata": {},
   "outputs": [],
   "source": [
    "import seaborn as sns"
   ]
  },
  {
   "cell_type": "code",
   "execution_count": 621,
   "id": "4162b9b6",
   "metadata": {},
   "outputs": [],
   "source": [
    "missing = train.isna().sum()"
   ]
  },
  {
   "cell_type": "code",
   "execution_count": 622,
   "id": "2ee6196c",
   "metadata": {},
   "outputs": [],
   "source": [
    "missing = missing[missing>0]"
   ]
  },
  {
   "cell_type": "code",
   "execution_count": 623,
   "id": "d5904b41",
   "metadata": {},
   "outputs": [],
   "source": [
    "missing.sort_values(inplace=True)"
   ]
  },
  {
   "cell_type": "code",
   "execution_count": 624,
   "id": "9065bd75",
   "metadata": {},
   "outputs": [],
   "source": [
    "a = train.Summary\n",
    "new_Summary = np.where(a == '.', \"NaN\", a)"
   ]
  },
  {
   "cell_type": "code",
   "execution_count": 625,
   "id": "935c1b7d",
   "metadata": {},
   "outputs": [],
   "source": [
    "train['Summary'] = new_Summary.copy()"
   ]
  },
  {
   "cell_type": "code",
   "execution_count": 626,
   "id": "b2f64ec0",
   "metadata": {},
   "outputs": [
    {
     "data": {
      "text/html": [
       "<div>\n",
       "<style scoped>\n",
       "    .dataframe tbody tr th:only-of-type {\n",
       "        vertical-align: middle;\n",
       "    }\n",
       "\n",
       "    .dataframe tbody tr th {\n",
       "        vertical-align: top;\n",
       "    }\n",
       "\n",
       "    .dataframe thead th {\n",
       "        text-align: right;\n",
       "    }\n",
       "</style>\n",
       "<table border=\"1\" class=\"dataframe\">\n",
       "  <thead>\n",
       "    <tr style=\"text-align: right;\">\n",
       "      <th></th>\n",
       "      <th>Id</th>\n",
       "      <th>Address</th>\n",
       "      <th>Sold Price</th>\n",
       "      <th>Summary</th>\n",
       "      <th>Type</th>\n",
       "      <th>Year built</th>\n",
       "      <th>Heating</th>\n",
       "      <th>Cooling</th>\n",
       "      <th>Parking</th>\n",
       "      <th>Lot</th>\n",
       "      <th>Bedrooms</th>\n",
       "      <th>Bathrooms</th>\n",
       "      <th>Full bathrooms</th>\n",
       "      <th>Total interior livable area</th>\n",
       "      <th>Total spaces</th>\n",
       "      <th>Garage spaces</th>\n",
       "      <th>Region</th>\n",
       "      <th>Elementary School</th>\n",
       "      <th>Elementary School Score</th>\n",
       "      <th>Elementary School Distance</th>\n",
       "      <th>Middle School</th>\n",
       "      <th>Middle School Score</th>\n",
       "      <th>Middle School Distance</th>\n",
       "      <th>High School</th>\n",
       "      <th>High School Score</th>\n",
       "      <th>High School Distance</th>\n",
       "      <th>Flooring</th>\n",
       "      <th>Heating features</th>\n",
       "      <th>Cooling features</th>\n",
       "      <th>Appliances included</th>\n",
       "      <th>Laundry features</th>\n",
       "      <th>Parking features</th>\n",
       "      <th>Tax assessed value</th>\n",
       "      <th>Annual tax amount</th>\n",
       "      <th>Listed On</th>\n",
       "      <th>Listed Price</th>\n",
       "      <th>Last Sold On</th>\n",
       "      <th>Last Sold Price</th>\n",
       "      <th>City</th>\n",
       "      <th>Zip</th>\n",
       "      <th>State</th>\n",
       "    </tr>\n",
       "  </thead>\n",
       "  <tbody>\n",
       "  </tbody>\n",
       "</table>\n",
       "</div>"
      ],
      "text/plain": [
       "Empty DataFrame\n",
       "Columns: [Id, Address, Sold Price, Summary, Type, Year built, Heating, Cooling, Parking, Lot, Bedrooms, Bathrooms, Full bathrooms, Total interior livable area, Total spaces, Garage spaces, Region, Elementary School, Elementary School Score, Elementary School Distance, Middle School, Middle School Score, Middle School Distance, High School, High School Score, High School Distance, Flooring, Heating features, Cooling features, Appliances included, Laundry features, Parking features, Tax assessed value, Annual tax amount, Listed On, Listed Price, Last Sold On, Last Sold Price, City, Zip, State]\n",
       "Index: []"
      ]
     },
     "execution_count": 626,
     "metadata": {},
     "output_type": "execute_result"
    }
   ],
   "source": [
    "train.query(\"Summary == '.'\")"
   ]
  }
 ],
 "metadata": {
  "kernelspec": {
   "display_name": "Python 3 (ipykernel)",
   "language": "python",
   "name": "python3"
  },
  "language_info": {
   "codemirror_mode": {
    "name": "ipython",
    "version": 3
   },
   "file_extension": ".py",
   "mimetype": "text/x-python",
   "name": "python",
   "nbconvert_exporter": "python",
   "pygments_lexer": "ipython3",
   "version": "3.9.13"
  }
 },
 "nbformat": 4,
 "nbformat_minor": 5
}
