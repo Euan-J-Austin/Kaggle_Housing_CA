{
 "cells": [
  {
   "cell_type": "code",
   "execution_count": 119,
   "metadata": {
    "_cell_guid": "b1076dfc-b9ad-4769-8c92-a6c4dae69d19",
    "_uuid": "8f2839f25d086af736a60e9eeb907d3b93b6e0e5",
    "execution": {
     "iopub.execute_input": "2023-07-19T20:17:56.412489Z",
     "iopub.status.busy": "2023-07-19T20:17:56.412102Z",
     "iopub.status.idle": "2023-07-19T20:17:56.901353Z",
     "shell.execute_reply": "2023-07-19T20:17:56.900186Z",
     "shell.execute_reply.started": "2023-07-19T20:17:56.412460Z"
    }
   },
   "outputs": [],
   "source": [
    "import numpy as np #installed vers 1.23.0 for compatability with SciPy\n",
    "from numpy import percentile\n",
    "import pandas as pd\n",
    "import sklearn as sk\n",
    "import os\n",
    "import sys\n",
    "import scipy\n",
    "from scipy.stats import shapiro\n",
    "from scipy.stats import normaltest\n",
    "from scipy.stats import anderson\n",
    "from matplotlib import pyplot as plt\n",
    "from statsmodels.graphics.gofplots import qqplot\n",
    "from pandas import read_csv\n",
    "from sklearn.model_selection import train_test_split\n",
    "from sklearn.linear_model import LinearRegression\n",
    "from sklearn.metrics import mean_absolute_error\n",
    "from sklearn.metrics import mean_squared_error\n",
    "import sklearn.neighbors._base\n",
    "sys.modules['sklearn.neighbors.base'] = sklearn.neighbors._base #for missingpy, name in most recent sklearn doesn't match\n",
    "from missingpy import MissForest"
   ]
  },
  {
   "cell_type": "code",
   "execution_count": 120,
   "metadata": {
    "execution": {
     "iopub.execute_input": "2023-07-19T20:17:56.910542Z",
     "iopub.status.busy": "2023-07-19T20:17:56.910208Z",
     "iopub.status.idle": "2023-07-19T20:17:57.412612Z",
     "shell.execute_reply": "2023-07-19T20:17:57.411502Z",
     "shell.execute_reply.started": "2023-07-19T20:17:56.910507Z"
    }
   },
   "outputs": [],
   "source": [
    "tt = pd.read_csv('tt.csv')"
   ]
  },
  {
   "cell_type": "code",
   "execution_count": 121,
   "metadata": {
    "execution": {
     "iopub.execute_input": "2023-07-19T20:17:57.415162Z",
     "iopub.status.busy": "2023-07-19T20:17:57.414813Z",
     "iopub.status.idle": "2023-07-19T20:17:57.514227Z",
     "shell.execute_reply": "2023-07-19T20:17:57.513132Z",
     "shell.execute_reply.started": "2023-07-19T20:17:57.415131Z"
    }
   },
   "outputs": [],
   "source": [
    "tt = tt.drop('State', axis=1).copy()\n",
    "tt = tt.astype({'Zip': 'object'}).copy()"
   ]
  },
  {
   "cell_type": "code",
   "execution_count": 122,
   "metadata": {
    "execution": {
     "iopub.execute_input": "2023-07-19T20:17:57.515962Z",
     "iopub.status.busy": "2023-07-19T20:17:57.515597Z",
     "iopub.status.idle": "2023-07-19T20:17:57.523372Z",
     "shell.execute_reply": "2023-07-19T20:17:57.522397Z",
     "shell.execute_reply.started": "2023-07-19T20:17:57.515932Z"
    }
   },
   "outputs": [],
   "source": [
    "train = tt.loc[:47438].copy()"
   ]
  },
  {
   "cell_type": "markdown",
   "metadata": {},
   "source": [
    "# split train to prevent data leakage, split here or for every new dataset using CV?"
   ]
  },
  {
   "cell_type": "code",
   "execution_count": 123,
   "metadata": {},
   "outputs": [
    {
     "data": {
      "text/plain": [
       "Index(['Id', 'Sold_Price', 'Type', 'Year_built', 'Heating', 'Cooling',\n",
       "       'Parking', 'Lot', 'Bedrooms', 'Bathrooms', 'Full_bathrooms',\n",
       "       'Total_interior_livable_area', 'Total_spaces', 'Garage_spaces',\n",
       "       'Flooring', 'Tax_assessed_value', 'Annual_tax_amount', 'Listed_Price',\n",
       "       'Last_Sold_Price', 'Zip', 'Days_Listed', 'Days_Sold', 'Address_RdType',\n",
       "       'Address_NoLen', 'Summary_Len', 'Schools_Score', 'Schools_Distance',\n",
       "       'Total_Appliances', 'Hookups'],\n",
       "      dtype='object')"
      ]
     },
     "execution_count": 123,
     "metadata": {},
     "output_type": "execute_result"
    }
   ],
   "source": [
    "train.columns"
   ]
  },
  {
   "cell_type": "code",
   "execution_count": 124,
   "metadata": {},
   "outputs": [],
   "source": [
    "train = train.drop('Id', axis=1).copy()"
   ]
  },
  {
   "cell_type": "markdown",
   "metadata": {},
   "source": [
    "# Identifying quantitative and qualitative "
   ]
  },
  {
   "cell_type": "code",
   "execution_count": 125,
   "metadata": {},
   "outputs": [],
   "source": [
    "quantitative = [f for f in train.columns if train.dtypes[f] != 'object']\n",
    "quantitative.remove('Sold_Price')\n",
    "qualitative = [f for f in train.columns if train.dtypes[f] == 'object']"
   ]
  },
  {
   "cell_type": "code",
   "execution_count": 126,
   "metadata": {},
   "outputs": [
    {
     "data": {
      "text/plain": [
       "['Year_built',\n",
       " 'Lot',\n",
       " 'Bedrooms',\n",
       " 'Bathrooms',\n",
       " 'Full_bathrooms',\n",
       " 'Total_interior_livable_area',\n",
       " 'Total_spaces',\n",
       " 'Garage_spaces',\n",
       " 'Tax_assessed_value',\n",
       " 'Annual_tax_amount',\n",
       " 'Listed_Price',\n",
       " 'Last_Sold_Price',\n",
       " 'Days_Listed',\n",
       " 'Days_Sold',\n",
       " 'Address_NoLen',\n",
       " 'Summary_Len',\n",
       " 'Schools_Score',\n",
       " 'Schools_Distance',\n",
       " 'Total_Appliances']"
      ]
     },
     "execution_count": 126,
     "metadata": {},
     "output_type": "execute_result"
    }
   ],
   "source": [
    "quantitative"
   ]
  },
  {
   "cell_type": "code",
   "execution_count": 127,
   "metadata": {},
   "outputs": [
    {
     "data": {
      "text/plain": [
       "['Type',\n",
       " 'Heating',\n",
       " 'Cooling',\n",
       " 'Parking',\n",
       " 'Flooring',\n",
       " 'Zip',\n",
       " 'Address_RdType',\n",
       " 'Hookups']"
      ]
     },
     "execution_count": 127,
     "metadata": {},
     "output_type": "execute_result"
    }
   ],
   "source": [
    "qualitative"
   ]
  },
  {
   "cell_type": "markdown",
   "metadata": {},
   "source": [
    "# Baseline model peformance"
   ]
  },
  {
   "cell_type": "code",
   "execution_count": 175,
   "metadata": {},
   "outputs": [],
   "source": [
    "def assess_regression(df_list, name_list):\n",
    "    out_cells =[]\n",
    "    i = 0\n",
    "    for df in df_list:\n",
    "        mae_total = 0\n",
    "        mse_total = 0\n",
    "        X, y = df.drop('Sold_Price', axis=1).copy(), df.Sold_Price.copy()\n",
    "        X_train, X_test, y_train, y_test = train_test_split(X, y, test_size=0.2, random_state=1)\n",
    "        model = LinearRegression()\n",
    "        model.fit(X_train, y_train)\n",
    "        yhat = model.predict(X_test)\n",
    "        name = name_list[i]\n",
    "        shape = df.shape\n",
    "        for x in range(0,5): #divide final result by 5 to account for stochastic randomness\n",
    "            mae_total+= mean_absolute_error(y_test, yhat)\n",
    "            mse_total+= mean_squared_error(y_test, yhat)\n",
    "        out_cells.append([name, f'{mae_total/5:.3f}', f'{mse_total/5:.3f}', shape])\n",
    "        i+=1\n",
    "    out = pd.DataFrame(out_cells, columns=['Data', 'MAE', 'MSE', 'Shape']).copy()\n",
    "    return out"
   ]
  },
  {
   "cell_type": "code",
   "execution_count": 129,
   "metadata": {},
   "outputs": [],
   "source": [
    "train_bl1 = train.copy()\n",
    "train_bl1 = train_bl1.dropna().copy()\n",
    "train_bl1.name = 'train_bl1'"
   ]
  },
  {
   "cell_type": "code",
   "execution_count": 134,
   "metadata": {},
   "outputs": [
    {
     "data": {
      "text/plain": [
       "0"
      ]
     },
     "execution_count": 134,
     "metadata": {},
     "output_type": "execute_result"
    }
   ],
   "source": [
    "train_bl1.isna().sum().sum()"
   ]
  },
  {
   "cell_type": "code",
   "execution_count": 132,
   "metadata": {},
   "outputs": [
    {
     "name": "stderr",
     "output_type": "stream",
     "text": [
      "C:\\Users\\euana\\anaconda3\\lib\\site-packages\\pandas\\core\\algorithms.py:798: FutureWarning: In a future version, the Index constructor will not infer numeric dtypes when passed object-dtype sequences (matching Series behavior)\n",
      "  uniques = Index(uniques)\n"
     ]
    }
   ],
   "source": [
    "train_bl1 = pd.get_dummies(data=train_bl1, columns=qualitative, drop_first=True).copy()"
   ]
  },
  {
   "cell_type": "markdown",
   "metadata": {},
   "source": [
    "## Baseline Model 2 -- all NaNs imputed with MissForest and categories one-hot encoded"
   ]
  },
  {
   "cell_type": "code",
   "execution_count": 137,
   "metadata": {},
   "outputs": [],
   "source": [
    "train_bl2 = train.copy()"
   ]
  },
  {
   "cell_type": "code",
   "execution_count": 138,
   "metadata": {},
   "outputs": [
    {
     "data": {
      "text/plain": [
       "69433"
      ]
     },
     "execution_count": 138,
     "metadata": {},
     "output_type": "execute_result"
    }
   ],
   "source": [
    "train_bl2.isna().sum().sum()"
   ]
  },
  {
   "cell_type": "code",
   "execution_count": 139,
   "metadata": {},
   "outputs": [
    {
     "name": "stderr",
     "output_type": "stream",
     "text": [
      "C:\\Users\\euana\\anaconda3\\lib\\site-packages\\pandas\\core\\algorithms.py:798: FutureWarning: In a future version, the Index constructor will not infer numeric dtypes when passed object-dtype sequences (matching Series behavior)\n",
      "  uniques = Index(uniques)\n"
     ]
    }
   ],
   "source": [
    "train_bl2 = pd.get_dummies(data=train_bl2, columns=qualitative, drop_first=True).copy()"
   ]
  },
  {
   "cell_type": "code",
   "execution_count": 140,
   "metadata": {},
   "outputs": [],
   "source": [
    "imputer = MissForest()"
   ]
  },
  {
   "cell_type": "code",
   "execution_count": 141,
   "metadata": {},
   "outputs": [
    {
     "name": "stderr",
     "output_type": "stream",
     "text": [
      "C:\\Users\\euana\\anaconda3\\lib\\site-packages\\sklearn\\ensemble\\_forest.py:396: FutureWarning: Criterion 'mse' was deprecated in v1.0 and will be removed in version 1.2. Use `criterion='squared_error'` which is equivalent.\n",
      "  warn(\n",
      "C:\\Users\\euana\\anaconda3\\lib\\site-packages\\sklearn\\ensemble\\_forest.py:396: FutureWarning: Criterion 'mse' was deprecated in v1.0 and will be removed in version 1.2. Use `criterion='squared_error'` which is equivalent.\n",
      "  warn(\n",
      "C:\\Users\\euana\\anaconda3\\lib\\site-packages\\sklearn\\ensemble\\_forest.py:396: FutureWarning: Criterion 'mse' was deprecated in v1.0 and will be removed in version 1.2. Use `criterion='squared_error'` which is equivalent.\n",
      "  warn(\n",
      "C:\\Users\\euana\\anaconda3\\lib\\site-packages\\sklearn\\ensemble\\_forest.py:396: FutureWarning: Criterion 'mse' was deprecated in v1.0 and will be removed in version 1.2. Use `criterion='squared_error'` which is equivalent.\n",
      "  warn(\n",
      "C:\\Users\\euana\\anaconda3\\lib\\site-packages\\sklearn\\ensemble\\_forest.py:396: FutureWarning: Criterion 'mse' was deprecated in v1.0 and will be removed in version 1.2. Use `criterion='squared_error'` which is equivalent.\n",
      "  warn(\n",
      "C:\\Users\\euana\\anaconda3\\lib\\site-packages\\sklearn\\ensemble\\_forest.py:396: FutureWarning: Criterion 'mse' was deprecated in v1.0 and will be removed in version 1.2. Use `criterion='squared_error'` which is equivalent.\n",
      "  warn(\n",
      "C:\\Users\\euana\\anaconda3\\lib\\site-packages\\sklearn\\ensemble\\_forest.py:396: FutureWarning: Criterion 'mse' was deprecated in v1.0 and will be removed in version 1.2. Use `criterion='squared_error'` which is equivalent.\n",
      "  warn(\n",
      "C:\\Users\\euana\\anaconda3\\lib\\site-packages\\sklearn\\ensemble\\_forest.py:396: FutureWarning: Criterion 'mse' was deprecated in v1.0 and will be removed in version 1.2. Use `criterion='squared_error'` which is equivalent.\n",
      "  warn(\n",
      "C:\\Users\\euana\\anaconda3\\lib\\site-packages\\sklearn\\ensemble\\_forest.py:396: FutureWarning: Criterion 'mse' was deprecated in v1.0 and will be removed in version 1.2. Use `criterion='squared_error'` which is equivalent.\n",
      "  warn(\n",
      "C:\\Users\\euana\\anaconda3\\lib\\site-packages\\sklearn\\ensemble\\_forest.py:396: FutureWarning: Criterion 'mse' was deprecated in v1.0 and will be removed in version 1.2. Use `criterion='squared_error'` which is equivalent.\n",
      "  warn(\n"
     ]
    },
    {
     "name": "stdout",
     "output_type": "stream",
     "text": [
      "Iteration: 0\n"
     ]
    },
    {
     "name": "stderr",
     "output_type": "stream",
     "text": [
      "C:\\Users\\euana\\anaconda3\\lib\\site-packages\\sklearn\\ensemble\\_forest.py:396: FutureWarning: Criterion 'mse' was deprecated in v1.0 and will be removed in version 1.2. Use `criterion='squared_error'` which is equivalent.\n",
      "  warn(\n",
      "C:\\Users\\euana\\anaconda3\\lib\\site-packages\\sklearn\\ensemble\\_forest.py:396: FutureWarning: Criterion 'mse' was deprecated in v1.0 and will be removed in version 1.2. Use `criterion='squared_error'` which is equivalent.\n",
      "  warn(\n",
      "C:\\Users\\euana\\anaconda3\\lib\\site-packages\\sklearn\\ensemble\\_forest.py:396: FutureWarning: Criterion 'mse' was deprecated in v1.0 and will be removed in version 1.2. Use `criterion='squared_error'` which is equivalent.\n",
      "  warn(\n",
      "C:\\Users\\euana\\anaconda3\\lib\\site-packages\\sklearn\\ensemble\\_forest.py:396: FutureWarning: Criterion 'mse' was deprecated in v1.0 and will be removed in version 1.2. Use `criterion='squared_error'` which is equivalent.\n",
      "  warn(\n",
      "C:\\Users\\euana\\anaconda3\\lib\\site-packages\\sklearn\\ensemble\\_forest.py:396: FutureWarning: Criterion 'mse' was deprecated in v1.0 and will be removed in version 1.2. Use `criterion='squared_error'` which is equivalent.\n",
      "  warn(\n",
      "C:\\Users\\euana\\anaconda3\\lib\\site-packages\\sklearn\\ensemble\\_forest.py:396: FutureWarning: Criterion 'mse' was deprecated in v1.0 and will be removed in version 1.2. Use `criterion='squared_error'` which is equivalent.\n",
      "  warn(\n",
      "C:\\Users\\euana\\anaconda3\\lib\\site-packages\\sklearn\\ensemble\\_forest.py:396: FutureWarning: Criterion 'mse' was deprecated in v1.0 and will be removed in version 1.2. Use `criterion='squared_error'` which is equivalent.\n",
      "  warn(\n",
      "C:\\Users\\euana\\anaconda3\\lib\\site-packages\\sklearn\\ensemble\\_forest.py:396: FutureWarning: Criterion 'mse' was deprecated in v1.0 and will be removed in version 1.2. Use `criterion='squared_error'` which is equivalent.\n",
      "  warn(\n",
      "C:\\Users\\euana\\anaconda3\\lib\\site-packages\\sklearn\\ensemble\\_forest.py:396: FutureWarning: Criterion 'mse' was deprecated in v1.0 and will be removed in version 1.2. Use `criterion='squared_error'` which is equivalent.\n",
      "  warn(\n",
      "C:\\Users\\euana\\anaconda3\\lib\\site-packages\\sklearn\\ensemble\\_forest.py:396: FutureWarning: Criterion 'mse' was deprecated in v1.0 and will be removed in version 1.2. Use `criterion='squared_error'` which is equivalent.\n",
      "  warn(\n"
     ]
    },
    {
     "name": "stdout",
     "output_type": "stream",
     "text": [
      "Iteration: 1\n"
     ]
    },
    {
     "name": "stderr",
     "output_type": "stream",
     "text": [
      "C:\\Users\\euana\\anaconda3\\lib\\site-packages\\sklearn\\ensemble\\_forest.py:396: FutureWarning: Criterion 'mse' was deprecated in v1.0 and will be removed in version 1.2. Use `criterion='squared_error'` which is equivalent.\n",
      "  warn(\n",
      "C:\\Users\\euana\\anaconda3\\lib\\site-packages\\sklearn\\ensemble\\_forest.py:396: FutureWarning: Criterion 'mse' was deprecated in v1.0 and will be removed in version 1.2. Use `criterion='squared_error'` which is equivalent.\n",
      "  warn(\n",
      "C:\\Users\\euana\\anaconda3\\lib\\site-packages\\sklearn\\ensemble\\_forest.py:396: FutureWarning: Criterion 'mse' was deprecated in v1.0 and will be removed in version 1.2. Use `criterion='squared_error'` which is equivalent.\n",
      "  warn(\n",
      "C:\\Users\\euana\\anaconda3\\lib\\site-packages\\sklearn\\ensemble\\_forest.py:396: FutureWarning: Criterion 'mse' was deprecated in v1.0 and will be removed in version 1.2. Use `criterion='squared_error'` which is equivalent.\n",
      "  warn(\n",
      "C:\\Users\\euana\\anaconda3\\lib\\site-packages\\sklearn\\ensemble\\_forest.py:396: FutureWarning: Criterion 'mse' was deprecated in v1.0 and will be removed in version 1.2. Use `criterion='squared_error'` which is equivalent.\n",
      "  warn(\n",
      "C:\\Users\\euana\\anaconda3\\lib\\site-packages\\sklearn\\ensemble\\_forest.py:396: FutureWarning: Criterion 'mse' was deprecated in v1.0 and will be removed in version 1.2. Use `criterion='squared_error'` which is equivalent.\n",
      "  warn(\n",
      "C:\\Users\\euana\\anaconda3\\lib\\site-packages\\sklearn\\ensemble\\_forest.py:396: FutureWarning: Criterion 'mse' was deprecated in v1.0 and will be removed in version 1.2. Use `criterion='squared_error'` which is equivalent.\n",
      "  warn(\n",
      "C:\\Users\\euana\\anaconda3\\lib\\site-packages\\sklearn\\ensemble\\_forest.py:396: FutureWarning: Criterion 'mse' was deprecated in v1.0 and will be removed in version 1.2. Use `criterion='squared_error'` which is equivalent.\n",
      "  warn(\n",
      "C:\\Users\\euana\\anaconda3\\lib\\site-packages\\sklearn\\ensemble\\_forest.py:396: FutureWarning: Criterion 'mse' was deprecated in v1.0 and will be removed in version 1.2. Use `criterion='squared_error'` which is equivalent.\n",
      "  warn(\n",
      "C:\\Users\\euana\\anaconda3\\lib\\site-packages\\sklearn\\ensemble\\_forest.py:396: FutureWarning: Criterion 'mse' was deprecated in v1.0 and will be removed in version 1.2. Use `criterion='squared_error'` which is equivalent.\n",
      "  warn(\n"
     ]
    },
    {
     "name": "stdout",
     "output_type": "stream",
     "text": [
      "Iteration: 2\n"
     ]
    },
    {
     "name": "stderr",
     "output_type": "stream",
     "text": [
      "C:\\Users\\euana\\anaconda3\\lib\\site-packages\\sklearn\\ensemble\\_forest.py:396: FutureWarning: Criterion 'mse' was deprecated in v1.0 and will be removed in version 1.2. Use `criterion='squared_error'` which is equivalent.\n",
      "  warn(\n",
      "C:\\Users\\euana\\anaconda3\\lib\\site-packages\\sklearn\\ensemble\\_forest.py:396: FutureWarning: Criterion 'mse' was deprecated in v1.0 and will be removed in version 1.2. Use `criterion='squared_error'` which is equivalent.\n",
      "  warn(\n",
      "C:\\Users\\euana\\anaconda3\\lib\\site-packages\\sklearn\\ensemble\\_forest.py:396: FutureWarning: Criterion 'mse' was deprecated in v1.0 and will be removed in version 1.2. Use `criterion='squared_error'` which is equivalent.\n",
      "  warn(\n",
      "C:\\Users\\euana\\anaconda3\\lib\\site-packages\\sklearn\\ensemble\\_forest.py:396: FutureWarning: Criterion 'mse' was deprecated in v1.0 and will be removed in version 1.2. Use `criterion='squared_error'` which is equivalent.\n",
      "  warn(\n",
      "C:\\Users\\euana\\anaconda3\\lib\\site-packages\\sklearn\\ensemble\\_forest.py:396: FutureWarning: Criterion 'mse' was deprecated in v1.0 and will be removed in version 1.2. Use `criterion='squared_error'` which is equivalent.\n",
      "  warn(\n",
      "C:\\Users\\euana\\anaconda3\\lib\\site-packages\\sklearn\\ensemble\\_forest.py:396: FutureWarning: Criterion 'mse' was deprecated in v1.0 and will be removed in version 1.2. Use `criterion='squared_error'` which is equivalent.\n",
      "  warn(\n",
      "C:\\Users\\euana\\anaconda3\\lib\\site-packages\\sklearn\\ensemble\\_forest.py:396: FutureWarning: Criterion 'mse' was deprecated in v1.0 and will be removed in version 1.2. Use `criterion='squared_error'` which is equivalent.\n",
      "  warn(\n",
      "C:\\Users\\euana\\anaconda3\\lib\\site-packages\\sklearn\\ensemble\\_forest.py:396: FutureWarning: Criterion 'mse' was deprecated in v1.0 and will be removed in version 1.2. Use `criterion='squared_error'` which is equivalent.\n",
      "  warn(\n",
      "C:\\Users\\euana\\anaconda3\\lib\\site-packages\\sklearn\\ensemble\\_forest.py:396: FutureWarning: Criterion 'mse' was deprecated in v1.0 and will be removed in version 1.2. Use `criterion='squared_error'` which is equivalent.\n",
      "  warn(\n",
      "C:\\Users\\euana\\anaconda3\\lib\\site-packages\\sklearn\\ensemble\\_forest.py:396: FutureWarning: Criterion 'mse' was deprecated in v1.0 and will be removed in version 1.2. Use `criterion='squared_error'` which is equivalent.\n",
      "  warn(\n"
     ]
    },
    {
     "name": "stdout",
     "output_type": "stream",
     "text": [
      "Iteration: 3\n"
     ]
    },
    {
     "name": "stderr",
     "output_type": "stream",
     "text": [
      "C:\\Users\\euana\\anaconda3\\lib\\site-packages\\sklearn\\ensemble\\_forest.py:396: FutureWarning: Criterion 'mse' was deprecated in v1.0 and will be removed in version 1.2. Use `criterion='squared_error'` which is equivalent.\n",
      "  warn(\n",
      "C:\\Users\\euana\\anaconda3\\lib\\site-packages\\sklearn\\ensemble\\_forest.py:396: FutureWarning: Criterion 'mse' was deprecated in v1.0 and will be removed in version 1.2. Use `criterion='squared_error'` which is equivalent.\n",
      "  warn(\n",
      "C:\\Users\\euana\\anaconda3\\lib\\site-packages\\sklearn\\ensemble\\_forest.py:396: FutureWarning: Criterion 'mse' was deprecated in v1.0 and will be removed in version 1.2. Use `criterion='squared_error'` which is equivalent.\n",
      "  warn(\n",
      "C:\\Users\\euana\\anaconda3\\lib\\site-packages\\sklearn\\ensemble\\_forest.py:396: FutureWarning: Criterion 'mse' was deprecated in v1.0 and will be removed in version 1.2. Use `criterion='squared_error'` which is equivalent.\n",
      "  warn(\n",
      "C:\\Users\\euana\\anaconda3\\lib\\site-packages\\sklearn\\ensemble\\_forest.py:396: FutureWarning: Criterion 'mse' was deprecated in v1.0 and will be removed in version 1.2. Use `criterion='squared_error'` which is equivalent.\n",
      "  warn(\n",
      "C:\\Users\\euana\\anaconda3\\lib\\site-packages\\sklearn\\ensemble\\_forest.py:396: FutureWarning: Criterion 'mse' was deprecated in v1.0 and will be removed in version 1.2. Use `criterion='squared_error'` which is equivalent.\n",
      "  warn(\n",
      "C:\\Users\\euana\\anaconda3\\lib\\site-packages\\sklearn\\ensemble\\_forest.py:396: FutureWarning: Criterion 'mse' was deprecated in v1.0 and will be removed in version 1.2. Use `criterion='squared_error'` which is equivalent.\n",
      "  warn(\n",
      "C:\\Users\\euana\\anaconda3\\lib\\site-packages\\sklearn\\ensemble\\_forest.py:396: FutureWarning: Criterion 'mse' was deprecated in v1.0 and will be removed in version 1.2. Use `criterion='squared_error'` which is equivalent.\n",
      "  warn(\n",
      "C:\\Users\\euana\\anaconda3\\lib\\site-packages\\sklearn\\ensemble\\_forest.py:396: FutureWarning: Criterion 'mse' was deprecated in v1.0 and will be removed in version 1.2. Use `criterion='squared_error'` which is equivalent.\n",
      "  warn(\n",
      "C:\\Users\\euana\\anaconda3\\lib\\site-packages\\sklearn\\ensemble\\_forest.py:396: FutureWarning: Criterion 'mse' was deprecated in v1.0 and will be removed in version 1.2. Use `criterion='squared_error'` which is equivalent.\n",
      "  warn(\n"
     ]
    },
    {
     "name": "stdout",
     "output_type": "stream",
     "text": [
      "Iteration: 4\n"
     ]
    }
   ],
   "source": [
    "X_imputed = imputer.fit_transform(train_bl2)\n",
    "X_imputed = pd.DataFrame(X_imputed, columns=train_bl2.columns).round(2)"
   ]
  },
  {
   "cell_type": "code",
   "execution_count": 158,
   "metadata": {},
   "outputs": [
    {
     "data": {
      "text/html": [
       "<div>\n",
       "<style scoped>\n",
       "    .dataframe tbody tr th:only-of-type {\n",
       "        vertical-align: middle;\n",
       "    }\n",
       "\n",
       "    .dataframe tbody tr th {\n",
       "        vertical-align: top;\n",
       "    }\n",
       "\n",
       "    .dataframe thead th {\n",
       "        text-align: right;\n",
       "    }\n",
       "</style>\n",
       "<table border=\"1\" class=\"dataframe\">\n",
       "  <thead>\n",
       "    <tr style=\"text-align: right;\">\n",
       "      <th></th>\n",
       "      <th>Data</th>\n",
       "      <th>MAE</th>\n",
       "      <th>MSE</th>\n",
       "    </tr>\n",
       "  </thead>\n",
       "  <tbody>\n",
       "    <tr>\n",
       "      <th>0</th>\n",
       "      <td>train_bl1</td>\n",
       "      <td>218546.008</td>\n",
       "      <td>1514185846084.687</td>\n",
       "    </tr>\n",
       "    <tr>\n",
       "      <th>1</th>\n",
       "      <td>train_bl2</td>\n",
       "      <td>241649.962</td>\n",
       "      <td>7405277711995.724</td>\n",
       "    </tr>\n",
       "  </tbody>\n",
       "</table>\n",
       "</div>"
      ],
      "text/plain": [
       "        Data         MAE                MSE\n",
       "0  train_bl1  218546.008  1514185846084.687\n",
       "1  train_bl2  241649.962  7405277711995.724"
      ]
     },
     "execution_count": 158,
     "metadata": {},
     "output_type": "execute_result"
    }
   ],
   "source": [
    "assess_regression([train_bl1, X_imputed], ['train_bl1', 'train_bl2'])"
   ]
  },
  {
   "cell_type": "markdown",
   "metadata": {},
   "source": [
    "# Demark quantitative and qualitative"
   ]
  },
  {
   "cell_type": "code",
   "execution_count": 19,
   "metadata": {
    "execution": {
     "iopub.execute_input": "2023-07-19T20:17:57.559833Z",
     "iopub.status.busy": "2023-07-19T20:17:57.559543Z",
     "iopub.status.idle": "2023-07-19T20:17:57.569109Z",
     "shell.execute_reply": "2023-07-19T20:17:57.568211Z",
     "shell.execute_reply.started": "2023-07-19T20:17:57.559808Z"
    }
   },
   "outputs": [],
   "source": [
    "quantitative = [f for f in train.columns if train.dtypes[f] != 'object']\n",
    "quantitative.remove('Sold_Price')\n",
    "# quantitative.remove('Id')\n",
    "qualitative = [f for f in train.columns if train.dtypes[f] == 'object']"
   ]
  },
  {
   "cell_type": "code",
   "execution_count": 20,
   "metadata": {
    "execution": {
     "iopub.execute_input": "2023-07-19T20:17:57.572171Z",
     "iopub.status.busy": "2023-07-19T20:17:57.571776Z",
     "iopub.status.idle": "2023-07-19T20:17:57.584243Z",
     "shell.execute_reply": "2023-07-19T20:17:57.583263Z",
     "shell.execute_reply.started": "2023-07-19T20:17:57.572140Z"
    }
   },
   "outputs": [
    {
     "data": {
      "text/plain": [
       "(['Year_built',\n",
       "  'Lot',\n",
       "  'Bedrooms',\n",
       "  'Bathrooms',\n",
       "  'Full_bathrooms',\n",
       "  'Total_interior_livable_area',\n",
       "  'Total_spaces',\n",
       "  'Garage_spaces',\n",
       "  'Tax_assessed_value',\n",
       "  'Annual_tax_amount',\n",
       "  'Listed_Price',\n",
       "  'Last_Sold_Price',\n",
       "  'Days_Listed',\n",
       "  'Days_Sold',\n",
       "  'Address_NoLen',\n",
       "  'Summary_Len',\n",
       "  'Schools_Score',\n",
       "  'Schools_Distance',\n",
       "  'Total_Appliances'],\n",
       " ['Type',\n",
       "  'Heating',\n",
       "  'Cooling',\n",
       "  'Parking',\n",
       "  'Flooring',\n",
       "  'Zip',\n",
       "  'Address_RdType',\n",
       "  'Hookups'])"
      ]
     },
     "execution_count": 20,
     "metadata": {},
     "output_type": "execute_result"
    }
   ],
   "source": [
    "quantitative, qualitative"
   ]
  },
  {
   "cell_type": "markdown",
   "metadata": {},
   "source": [
    "# Testing for normality"
   ]
  },
  {
   "cell_type": "code",
   "execution_count": 21,
   "metadata": {
    "execution": {
     "iopub.execute_input": "2023-07-19T20:17:57.586193Z",
     "iopub.status.busy": "2023-07-19T20:17:57.585799Z",
     "iopub.status.idle": "2023-07-19T20:17:57.598366Z",
     "shell.execute_reply": "2023-07-19T20:17:57.597445Z",
     "shell.execute_reply.started": "2023-07-19T20:17:57.586162Z"
    }
   },
   "outputs": [],
   "source": [
    "def normality_tests(df, quantitative):\n",
    "    Feature = []\n",
    "    Shapiro_Wilk = []\n",
    "    K2_Test = []\n",
    "    Anderson_Darling = []\n",
    "    for x in quantitative:\n",
    "        Feature.append(x)\n",
    "        Shapiro_Wilk.append(shapiro(df[x].dropna())[1])\n",
    "        K2_Test.append(normaltest(df[x].dropna())[1])\n",
    "        result = anderson(df[x].dropna())\n",
    "        Anderson_Darling.append('Reject H0' if result.statistic < result.critical_values[2] else 'Failed to reject H0')\n",
    "    print(f\"H0: Distribution is Gaussian. If p > 0.05 means it is very likely, not certain, the distribution is Gaussian.\\nShapiro-Wilk p-value may not be accurate when N > 5000. The DataFrame has {train.shape[0]} values.\\nAnderson-Darling at 0.05 signifigance level.\")\n",
    "    out = pd.DataFrame(data=[Shapiro_Wilk, K2_Test, Anderson_Darling], index=['Shapiro-Wilk','K^2 Test','Anderson-Darling'], columns=Feature)\n",
    "    out = out.transpose().copy()\n",
    "    out = out.style.applymap(lambda x: \"background-color: red\" if type(x) != str and x<0.05 or type(x) == str and x =='Reject H0' else \"background-color: green\")\n",
    "    return out"
   ]
  },
  {
   "cell_type": "code",
   "execution_count": 22,
   "metadata": {
    "execution": {
     "iopub.execute_input": "2023-07-19T20:17:57.670467Z",
     "iopub.status.busy": "2023-07-19T20:17:57.670111Z",
     "iopub.status.idle": "2023-07-19T20:17:57.995319Z",
     "shell.execute_reply": "2023-07-19T20:17:57.994099Z",
     "shell.execute_reply.started": "2023-07-19T20:17:57.670439Z"
    }
   },
   "outputs": [
    {
     "name": "stderr",
     "output_type": "stream",
     "text": [
      "C:\\Users\\euana\\anaconda3\\lib\\site-packages\\scipy\\stats\\_morestats.py:1800: UserWarning: p-value may not be accurate for N > 5000.\n",
      "  warnings.warn(\"p-value may not be accurate for N > 5000.\")\n"
     ]
    },
    {
     "name": "stdout",
     "output_type": "stream",
     "text": [
      "H0: Distribution is Gaussian. If p > 0.05 means it is very likely, not certain, the distribution is Gaussian.\n",
      "Shapiro-Wilk p-value may not be accurate when N > 5000. The DataFrame has 47439 values.\n",
      "Anderson-Darling at 0.05 signifigance level.\n"
     ]
    },
    {
     "data": {
      "text/html": [
       "<style type=\"text/css\">\n",
       "#T_a4ac6_row0_col0, #T_a4ac6_row0_col1, #T_a4ac6_row1_col0, #T_a4ac6_row1_col1, #T_a4ac6_row2_col0, #T_a4ac6_row2_col1, #T_a4ac6_row3_col0, #T_a4ac6_row3_col1, #T_a4ac6_row4_col0, #T_a4ac6_row4_col1, #T_a4ac6_row5_col0, #T_a4ac6_row5_col1, #T_a4ac6_row6_col0, #T_a4ac6_row6_col1, #T_a4ac6_row7_col0, #T_a4ac6_row7_col1, #T_a4ac6_row8_col0, #T_a4ac6_row8_col1, #T_a4ac6_row9_col0, #T_a4ac6_row9_col1, #T_a4ac6_row10_col0, #T_a4ac6_row10_col1, #T_a4ac6_row11_col0, #T_a4ac6_row11_col1, #T_a4ac6_row12_col0, #T_a4ac6_row12_col1, #T_a4ac6_row13_col0, #T_a4ac6_row13_col1, #T_a4ac6_row14_col0, #T_a4ac6_row14_col1, #T_a4ac6_row15_col0, #T_a4ac6_row15_col1, #T_a4ac6_row16_col0, #T_a4ac6_row16_col1, #T_a4ac6_row17_col0, #T_a4ac6_row17_col1, #T_a4ac6_row18_col0, #T_a4ac6_row18_col1 {\n",
       "  background-color: red;\n",
       "}\n",
       "#T_a4ac6_row0_col2, #T_a4ac6_row1_col2, #T_a4ac6_row2_col2, #T_a4ac6_row3_col2, #T_a4ac6_row4_col2, #T_a4ac6_row5_col2, #T_a4ac6_row6_col2, #T_a4ac6_row7_col2, #T_a4ac6_row8_col2, #T_a4ac6_row9_col2, #T_a4ac6_row10_col2, #T_a4ac6_row11_col2, #T_a4ac6_row12_col2, #T_a4ac6_row13_col2, #T_a4ac6_row14_col2, #T_a4ac6_row15_col2, #T_a4ac6_row16_col2, #T_a4ac6_row17_col2, #T_a4ac6_row18_col2 {\n",
       "  background-color: green;\n",
       "}\n",
       "</style>\n",
       "<table id=\"T_a4ac6\">\n",
       "  <thead>\n",
       "    <tr>\n",
       "      <th class=\"blank level0\" >&nbsp;</th>\n",
       "      <th id=\"T_a4ac6_level0_col0\" class=\"col_heading level0 col0\" >Shapiro-Wilk</th>\n",
       "      <th id=\"T_a4ac6_level0_col1\" class=\"col_heading level0 col1\" >K^2 Test</th>\n",
       "      <th id=\"T_a4ac6_level0_col2\" class=\"col_heading level0 col2\" >Anderson-Darling</th>\n",
       "    </tr>\n",
       "  </thead>\n",
       "  <tbody>\n",
       "    <tr>\n",
       "      <th id=\"T_a4ac6_level0_row0\" class=\"row_heading level0 row0\" >Year_built</th>\n",
       "      <td id=\"T_a4ac6_row0_col0\" class=\"data row0 col0\" >0.000000</td>\n",
       "      <td id=\"T_a4ac6_row0_col1\" class=\"data row0 col1\" >0.000000</td>\n",
       "      <td id=\"T_a4ac6_row0_col2\" class=\"data row0 col2\" >Failed to reject H0</td>\n",
       "    </tr>\n",
       "    <tr>\n",
       "      <th id=\"T_a4ac6_level0_row1\" class=\"row_heading level0 row1\" >Lot</th>\n",
       "      <td id=\"T_a4ac6_row1_col0\" class=\"data row1 col0\" >0.000000</td>\n",
       "      <td id=\"T_a4ac6_row1_col1\" class=\"data row1 col1\" >0.000000</td>\n",
       "      <td id=\"T_a4ac6_row1_col2\" class=\"data row1 col2\" >Failed to reject H0</td>\n",
       "    </tr>\n",
       "    <tr>\n",
       "      <th id=\"T_a4ac6_level0_row2\" class=\"row_heading level0 row2\" >Bedrooms</th>\n",
       "      <td id=\"T_a4ac6_row2_col0\" class=\"data row2 col0\" >0.000000</td>\n",
       "      <td id=\"T_a4ac6_row2_col1\" class=\"data row2 col1\" >0.000000</td>\n",
       "      <td id=\"T_a4ac6_row2_col2\" class=\"data row2 col2\" >Failed to reject H0</td>\n",
       "    </tr>\n",
       "    <tr>\n",
       "      <th id=\"T_a4ac6_level0_row3\" class=\"row_heading level0 row3\" >Bathrooms</th>\n",
       "      <td id=\"T_a4ac6_row3_col0\" class=\"data row3 col0\" >0.000000</td>\n",
       "      <td id=\"T_a4ac6_row3_col1\" class=\"data row3 col1\" >0.000000</td>\n",
       "      <td id=\"T_a4ac6_row3_col2\" class=\"data row3 col2\" >Failed to reject H0</td>\n",
       "    </tr>\n",
       "    <tr>\n",
       "      <th id=\"T_a4ac6_level0_row4\" class=\"row_heading level0 row4\" >Full_bathrooms</th>\n",
       "      <td id=\"T_a4ac6_row4_col0\" class=\"data row4 col0\" >0.000000</td>\n",
       "      <td id=\"T_a4ac6_row4_col1\" class=\"data row4 col1\" >0.000000</td>\n",
       "      <td id=\"T_a4ac6_row4_col2\" class=\"data row4 col2\" >Failed to reject H0</td>\n",
       "    </tr>\n",
       "    <tr>\n",
       "      <th id=\"T_a4ac6_level0_row5\" class=\"row_heading level0 row5\" >Total_interior_livable_area</th>\n",
       "      <td id=\"T_a4ac6_row5_col0\" class=\"data row5 col0\" >0.000000</td>\n",
       "      <td id=\"T_a4ac6_row5_col1\" class=\"data row5 col1\" >0.000000</td>\n",
       "      <td id=\"T_a4ac6_row5_col2\" class=\"data row5 col2\" >Failed to reject H0</td>\n",
       "    </tr>\n",
       "    <tr>\n",
       "      <th id=\"T_a4ac6_level0_row6\" class=\"row_heading level0 row6\" >Total_spaces</th>\n",
       "      <td id=\"T_a4ac6_row6_col0\" class=\"data row6 col0\" >0.000000</td>\n",
       "      <td id=\"T_a4ac6_row6_col1\" class=\"data row6 col1\" >0.000000</td>\n",
       "      <td id=\"T_a4ac6_row6_col2\" class=\"data row6 col2\" >Failed to reject H0</td>\n",
       "    </tr>\n",
       "    <tr>\n",
       "      <th id=\"T_a4ac6_level0_row7\" class=\"row_heading level0 row7\" >Garage_spaces</th>\n",
       "      <td id=\"T_a4ac6_row7_col0\" class=\"data row7 col0\" >0.000000</td>\n",
       "      <td id=\"T_a4ac6_row7_col1\" class=\"data row7 col1\" >0.000000</td>\n",
       "      <td id=\"T_a4ac6_row7_col2\" class=\"data row7 col2\" >Failed to reject H0</td>\n",
       "    </tr>\n",
       "    <tr>\n",
       "      <th id=\"T_a4ac6_level0_row8\" class=\"row_heading level0 row8\" >Tax_assessed_value</th>\n",
       "      <td id=\"T_a4ac6_row8_col0\" class=\"data row8 col0\" >0.000000</td>\n",
       "      <td id=\"T_a4ac6_row8_col1\" class=\"data row8 col1\" >0.000000</td>\n",
       "      <td id=\"T_a4ac6_row8_col2\" class=\"data row8 col2\" >Failed to reject H0</td>\n",
       "    </tr>\n",
       "    <tr>\n",
       "      <th id=\"T_a4ac6_level0_row9\" class=\"row_heading level0 row9\" >Annual_tax_amount</th>\n",
       "      <td id=\"T_a4ac6_row9_col0\" class=\"data row9 col0\" >0.000000</td>\n",
       "      <td id=\"T_a4ac6_row9_col1\" class=\"data row9 col1\" >0.000000</td>\n",
       "      <td id=\"T_a4ac6_row9_col2\" class=\"data row9 col2\" >Failed to reject H0</td>\n",
       "    </tr>\n",
       "    <tr>\n",
       "      <th id=\"T_a4ac6_level0_row10\" class=\"row_heading level0 row10\" >Listed_Price</th>\n",
       "      <td id=\"T_a4ac6_row10_col0\" class=\"data row10 col0\" >0.000000</td>\n",
       "      <td id=\"T_a4ac6_row10_col1\" class=\"data row10 col1\" >0.000000</td>\n",
       "      <td id=\"T_a4ac6_row10_col2\" class=\"data row10 col2\" >Failed to reject H0</td>\n",
       "    </tr>\n",
       "    <tr>\n",
       "      <th id=\"T_a4ac6_level0_row11\" class=\"row_heading level0 row11\" >Last_Sold_Price</th>\n",
       "      <td id=\"T_a4ac6_row11_col0\" class=\"data row11 col0\" >0.000000</td>\n",
       "      <td id=\"T_a4ac6_row11_col1\" class=\"data row11 col1\" >0.000000</td>\n",
       "      <td id=\"T_a4ac6_row11_col2\" class=\"data row11 col2\" >Failed to reject H0</td>\n",
       "    </tr>\n",
       "    <tr>\n",
       "      <th id=\"T_a4ac6_level0_row12\" class=\"row_heading level0 row12\" >Days_Listed</th>\n",
       "      <td id=\"T_a4ac6_row12_col0\" class=\"data row12 col0\" >0.000000</td>\n",
       "      <td id=\"T_a4ac6_row12_col1\" class=\"data row12 col1\" >0.000000</td>\n",
       "      <td id=\"T_a4ac6_row12_col2\" class=\"data row12 col2\" >Failed to reject H0</td>\n",
       "    </tr>\n",
       "    <tr>\n",
       "      <th id=\"T_a4ac6_level0_row13\" class=\"row_heading level0 row13\" >Days_Sold</th>\n",
       "      <td id=\"T_a4ac6_row13_col0\" class=\"data row13 col0\" >0.000000</td>\n",
       "      <td id=\"T_a4ac6_row13_col1\" class=\"data row13 col1\" >0.000000</td>\n",
       "      <td id=\"T_a4ac6_row13_col2\" class=\"data row13 col2\" >Failed to reject H0</td>\n",
       "    </tr>\n",
       "    <tr>\n",
       "      <th id=\"T_a4ac6_level0_row14\" class=\"row_heading level0 row14\" >Address_NoLen</th>\n",
       "      <td id=\"T_a4ac6_row14_col0\" class=\"data row14 col0\" >0.000000</td>\n",
       "      <td id=\"T_a4ac6_row14_col1\" class=\"data row14 col1\" >0.000000</td>\n",
       "      <td id=\"T_a4ac6_row14_col2\" class=\"data row14 col2\" >Failed to reject H0</td>\n",
       "    </tr>\n",
       "    <tr>\n",
       "      <th id=\"T_a4ac6_level0_row15\" class=\"row_heading level0 row15\" >Summary_Len</th>\n",
       "      <td id=\"T_a4ac6_row15_col0\" class=\"data row15 col0\" >0.000000</td>\n",
       "      <td id=\"T_a4ac6_row15_col1\" class=\"data row15 col1\" >0.000000</td>\n",
       "      <td id=\"T_a4ac6_row15_col2\" class=\"data row15 col2\" >Failed to reject H0</td>\n",
       "    </tr>\n",
       "    <tr>\n",
       "      <th id=\"T_a4ac6_level0_row16\" class=\"row_heading level0 row16\" >Schools_Score</th>\n",
       "      <td id=\"T_a4ac6_row16_col0\" class=\"data row16 col0\" >0.000000</td>\n",
       "      <td id=\"T_a4ac6_row16_col1\" class=\"data row16 col1\" >0.000000</td>\n",
       "      <td id=\"T_a4ac6_row16_col2\" class=\"data row16 col2\" >Failed to reject H0</td>\n",
       "    </tr>\n",
       "    <tr>\n",
       "      <th id=\"T_a4ac6_level0_row17\" class=\"row_heading level0 row17\" >Schools_Distance</th>\n",
       "      <td id=\"T_a4ac6_row17_col0\" class=\"data row17 col0\" >0.000000</td>\n",
       "      <td id=\"T_a4ac6_row17_col1\" class=\"data row17 col1\" >0.000000</td>\n",
       "      <td id=\"T_a4ac6_row17_col2\" class=\"data row17 col2\" >Failed to reject H0</td>\n",
       "    </tr>\n",
       "    <tr>\n",
       "      <th id=\"T_a4ac6_level0_row18\" class=\"row_heading level0 row18\" >Total_Appliances</th>\n",
       "      <td id=\"T_a4ac6_row18_col0\" class=\"data row18 col0\" >0.000000</td>\n",
       "      <td id=\"T_a4ac6_row18_col1\" class=\"data row18 col1\" >0.000000</td>\n",
       "      <td id=\"T_a4ac6_row18_col2\" class=\"data row18 col2\" >Failed to reject H0</td>\n",
       "    </tr>\n",
       "  </tbody>\n",
       "</table>\n"
      ],
      "text/plain": [
       "<pandas.io.formats.style.Styler at 0x2032c742190>"
      ]
     },
     "execution_count": 22,
     "metadata": {},
     "output_type": "execute_result"
    }
   ],
   "source": [
    "normality_tests(train, quantitative)"
   ]
  },
  {
   "cell_type": "code",
   "execution_count": 23,
   "metadata": {
    "execution": {
     "iopub.execute_input": "2023-07-19T20:17:57.999385Z",
     "iopub.status.busy": "2023-07-19T20:17:57.998442Z",
     "iopub.status.idle": "2023-07-19T20:17:58.005286Z",
     "shell.execute_reply": "2023-07-19T20:17:58.004261Z",
     "shell.execute_reply.started": "2023-07-19T20:17:57.999336Z"
    }
   },
   "outputs": [],
   "source": [
    "def normality_graphic(x):\n",
    "    h= plt.hist(x, bins='auto')\n",
    "    qq=qqplot(x, line='45')\n",
    "    return h[2], qq\n",
    "\n",
    "#need to expand hist to show full range of values ... take total number of unique values and divide by x? some function of unique and range?"
   ]
  },
  {
   "cell_type": "markdown",
   "metadata": {},
   "source": [
    "# Detecting and removing outliers"
   ]
  },
  {
   "cell_type": "markdown",
   "metadata": {},
   "source": [
    "We can't assume a Gaussian distribution as Hard Fail for all quantiative features. "
   ]
  },
  {
   "cell_type": "markdown",
   "metadata": {},
   "source": [
    "## Assumptions"
   ]
  },
  {
   "cell_type": "markdown",
   "metadata": {},
   "source": [
    "* Non-parametric, the distribution is not Gaussian"
   ]
  },
  {
   "cell_type": "markdown",
   "metadata": {},
   "source": [
    "## IQR"
   ]
  },
  {
   "cell_type": "markdown",
   "metadata": {
    "execution": {
     "iopub.execute_input": "2023-07-19T07:48:53.365961Z",
     "iopub.status.busy": "2023-07-19T07:48:53.365437Z",
     "iopub.status.idle": "2023-07-19T07:48:53.374258Z",
     "shell.execute_reply": "2023-07-19T07:48:53.372969Z",
     "shell.execute_reply.started": "2023-07-19T07:48:53.365925Z"
    }
   },
   "source": [
    "https://machinelearningmastery.com/how-to-use-statistics-to-identify-outliers-in-data/\n",
    "\n",
    "https://www.geeksforgeeks.org/box-plot-in-python-using-matplotlib/"
   ]
  },
  {
   "cell_type": "code",
   "execution_count": 24,
   "metadata": {
    "execution": {
     "iopub.execute_input": "2023-07-19T20:17:58.006975Z",
     "iopub.status.busy": "2023-07-19T20:17:58.006550Z",
     "iopub.status.idle": "2023-07-19T20:17:58.018017Z",
     "shell.execute_reply": "2023-07-19T20:17:58.017108Z",
     "shell.execute_reply.started": "2023-07-19T20:17:58.006936Z"
    }
   },
   "outputs": [],
   "source": [
    "def iqr(x, k, w, h):\n",
    "    #k is for k factor, above what factor of IQR do we define value as being an outlier\n",
    "    q25, q75 = percentile(x, 25), percentile(x, 75)\n",
    "    iqr = q75 - q25\n",
    "    cut_off = iqr*k\n",
    "    lower, upper = q25 - cut_off, q75 + cut_off\n",
    "    outliers = [v for v in x if v < lower or v > upper]\n",
    "    non_outliers = [v for v in x if v >= lower and v <= upper]\n",
    "    print(f\"\"\"\n",
    "    Percentiles: 25th={round(q25,2)}, 75th={round(q75, 2)}, IQR={round(iqr, 2)}\n",
    "    Identified outliers: {len(outliers)}\n",
    "    Non-outliers: {len(non_outliers)}\n",
    "    \"\"\")\n",
    "    fig = plt.figure(figsize=(w,h))\n",
    "    plt.boxplot(x)\n",
    "    return plt.show()"
   ]
  },
  {
   "cell_type": "code",
   "execution_count": 25,
   "metadata": {
    "execution": {
     "iopub.execute_input": "2023-07-19T20:17:58.021066Z",
     "iopub.status.busy": "2023-07-19T20:17:58.020607Z",
     "iopub.status.idle": "2023-07-19T20:17:58.328554Z",
     "shell.execute_reply": "2023-07-19T20:17:58.327421Z",
     "shell.execute_reply.started": "2023-07-19T20:17:58.021023Z"
    }
   },
   "outputs": [
    {
     "name": "stdout",
     "output_type": "stream",
     "text": [
      "\n",
      "    Percentiles: 25th=565000.0, 75th=1525000.0, IQR=960000.0\n",
      "    Identified outliers: 2814\n",
      "    Non-outliers: 44625\n",
      "    \n"
     ]
    },
    {
     "data": {
      "image/png": "[encoded data removed]",
      "text/plain": [
       "<Figure size 1000x2000 with 1 Axes>"
      ]
     },
     "metadata": {},
     "output_type": "display_data"
    }
   ],
   "source": [
    "iqr(train.Sold_Price, 1.5, 10,20)"
   ]
  },
  {
   "cell_type": "markdown",
   "metadata": {},
   "source": [
    "# Identify and modify outliers"
   ]
  },
  {
   "cell_type": "markdown",
   "metadata": {},
   "source": [
    "We're using IQR as we know train is not Gaussian"
   ]
  },
  {
   "cell_type": "code",
   "execution_count": 160,
   "metadata": {
    "execution": {
     "iopub.execute_input": "2023-07-19T20:39:18.049198Z",
     "iopub.status.busy": "2023-07-19T20:39:18.048824Z",
     "iopub.status.idle": "2023-07-19T20:39:18.057196Z",
     "shell.execute_reply": "2023-07-19T20:39:18.056239Z",
     "shell.execute_reply.started": "2023-07-19T20:39:18.049170Z"
    }
   },
   "outputs": [
    {
     "data": {
      "text/plain": [
       "1989.0"
      ]
     },
     "execution_count": 160,
     "metadata": {},
     "output_type": "execute_result"
    }
   ],
   "source": [
    "np.nanpercentile(train.Year_built, 75)"
   ]
  },
  {
   "cell_type": "code",
   "execution_count": 161,
   "metadata": {
    "execution": {
     "iopub.execute_input": "2023-07-19T20:53:45.977030Z",
     "iopub.status.busy": "2023-07-19T20:53:45.976560Z",
     "iopub.status.idle": "2023-07-19T20:53:45.984737Z",
     "shell.execute_reply": "2023-07-19T20:53:45.983479Z",
     "shell.execute_reply.started": "2023-07-19T20:53:45.976990Z"
    }
   },
   "outputs": [],
   "source": [
    "def remove_outliers(df, quantitative, k):\n",
    "    df = df.copy()\n",
    "    quantitative.append('Sold_Price')\n",
    "    for x in quantitative:\n",
    "        q25, q75 = np.nanpercentile(df[x], 25), np.nanpercentile(df[x], 75)\n",
    "        iqr = q75 - q25\n",
    "        cut_off = iqr*k\n",
    "        lower, upper = q25 - cut_off, q75 + cut_off\n",
    "        df[x] = np.where(df[x] < lower, np.nan, df[x]).copy()\n",
    "        df[x] = np.where(df[x] > upper, np.nan, df[x]).copy()\n",
    "    return df"
   ]
  },
  {
   "cell_type": "code",
   "execution_count": 164,
   "metadata": {},
   "outputs": [],
   "source": [
    "train_iqr = remove_outliers(train, quantitative, 1.5)"
   ]
  },
  {
   "cell_type": "code",
   "execution_count": 167,
   "metadata": {},
   "outputs": [
    {
     "name": "stderr",
     "output_type": "stream",
     "text": [
      "C:\\Users\\euana\\anaconda3\\lib\\site-packages\\pandas\\core\\algorithms.py:798: FutureWarning: In a future version, the Index constructor will not infer numeric dtypes when passed object-dtype sequences (matching Series behavior)\n",
      "  uniques = Index(uniques)\n"
     ]
    }
   ],
   "source": [
    "train_iqr = pd.get_dummies(data=train_iqr, columns=qualitative, drop_first=True).copy()"
   ]
  },
  {
   "cell_type": "code",
   "execution_count": 177,
   "metadata": {},
   "outputs": [],
   "source": [
    "train_iqr_dropped = train_iqr.dropna().copy()"
   ]
  },
  {
   "cell_type": "code",
   "execution_count": 178,
   "metadata": {},
   "outputs": [
    {
     "data": {
      "text/plain": [
       "(5953, 119)"
      ]
     },
     "execution_count": 178,
     "metadata": {},
     "output_type": "execute_result"
    }
   ],
   "source": [
    "train_iqr_dropped.shape"
   ]
  },
  {
   "cell_type": "markdown",
   "metadata": {},
   "source": [
    "and for Miss Forest? "
   ]
  },
  {
   "cell_type": "code",
   "execution_count": 180,
   "metadata": {},
   "outputs": [
    {
     "data": {
      "text/html": [
       "<div>\n",
       "<style scoped>\n",
       "    .dataframe tbody tr th:only-of-type {\n",
       "        vertical-align: middle;\n",
       "    }\n",
       "\n",
       "    .dataframe tbody tr th {\n",
       "        vertical-align: top;\n",
       "    }\n",
       "\n",
       "    .dataframe thead th {\n",
       "        text-align: right;\n",
       "    }\n",
       "</style>\n",
       "<table border=\"1\" class=\"dataframe\">\n",
       "  <thead>\n",
       "    <tr style=\"text-align: right;\">\n",
       "      <th></th>\n",
       "      <th>Data</th>\n",
       "      <th>MAE</th>\n",
       "      <th>MSE</th>\n",
       "      <th>Shape</th>\n",
       "    </tr>\n",
       "  </thead>\n",
       "  <tbody>\n",
       "    <tr>\n",
       "      <th>0</th>\n",
       "      <td>train_bl1</td>\n",
       "      <td>218546.008</td>\n",
       "      <td>1514185846084.687</td>\n",
       "      <td>(16651, 113)</td>\n",
       "    </tr>\n",
       "    <tr>\n",
       "      <th>1</th>\n",
       "      <td>train_bl2</td>\n",
       "      <td>241649.962</td>\n",
       "      <td>7405277711995.724</td>\n",
       "      <td>(47439, 119)</td>\n",
       "    </tr>\n",
       "    <tr>\n",
       "      <th>2</th>\n",
       "      <td>iqr_dropped</td>\n",
       "      <td>67835.659</td>\n",
       "      <td>12252800558.532</td>\n",
       "      <td>(5953, 119)</td>\n",
       "    </tr>\n",
       "  </tbody>\n",
       "</table>\n",
       "</div>"
      ],
      "text/plain": [
       "          Data         MAE                MSE         Shape\n",
       "0    train_bl1  218546.008  1514185846084.687  (16651, 113)\n",
       "1    train_bl2  241649.962  7405277711995.724  (47439, 119)\n",
       "2  iqr_dropped   67835.659    12252800558.532   (5953, 119)"
      ]
     },
     "execution_count": 180,
     "metadata": {},
     "output_type": "execute_result"
    }
   ],
   "source": [
    "assess_regression([train_bl1, X_imputed, train_iqr_dropped], ['train_bl1', 'train_bl2', 'iqr_dropped'])"
   ]
  },
  {
   "cell_type": "markdown",
   "metadata": {},
   "source": [
    "Using IQR resulted in a Hard Fail for all, other options are to use automatic outlier detection or transform the data to a normal distribution ... will need to compare non-parametric and parametric models"
   ]
  },
  {
   "cell_type": "markdown",
   "metadata": {},
   "source": [
    "## Automatic outlier detection"
   ]
  },
  {
   "cell_type": "markdown",
   "metadata": {},
   "source": [
    "https://machinelearningmastery.com/model-based-outlier-detection-and-removal-in-python/\n",
    "\n",
    "Isolation Forest "
   ]
  },
  {
   "cell_type": "markdown",
   "metadata": {},
   "source": [
    "## Assessing the methods"
   ]
  },
  {
   "cell_type": "markdown",
   "metadata": {},
   "source": [
    "will need to create and run the model for this?"
   ]
  }
 ],
 "metadata": {
  "kernelspec": {
   "display_name": "Python 3 (ipykernel)",
   "language": "python",
   "name": "python3"
  },
  "language_info": {
   "codemirror_mode": {
    "name": "ipython",
    "version": 3
   },
   "file_extension": ".py",
   "mimetype": "text/x-python",
   "name": "python",
   "nbconvert_exporter": "python",
   "pygments_lexer": "ipython3",
   "version": "3.9.13"
  }
 },
 "nbformat": 4,
 "nbformat_minor": 4
}
