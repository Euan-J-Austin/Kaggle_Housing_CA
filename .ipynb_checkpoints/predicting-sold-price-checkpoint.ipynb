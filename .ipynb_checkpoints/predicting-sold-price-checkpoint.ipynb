{
 "cells": [
  {
   "cell_type": "markdown",
   "metadata": {},
   "source": [
    "PIPELINE\n",
    "\n",
    "\n",
    "0. Basline with no outliers removed\n",
    "\n",
    "1. a. baseline with outliers removed\n",
    "\n",
    "1. Remove outliers \n",
    "\n",
    "2. Divide to parametric and non-parametric distribution  --- TEST ASSUMPTIONS!\n",
    "\n",
    "3. Run parametric and non-parametric models\n",
    "\n",
    "4. Table to comapre RSME (used in the competition) ... RF seems to perform best"
   ]
  },
  {
   "cell_type": "code",
   "execution_count": 2,
   "metadata": {
    "_cell_guid": "b1076dfc-b9ad-4769-8c92-a6c4dae69d19",
    "_uuid": "8f2839f25d086af736a60e9eeb907d3b93b6e0e5",
    "execution": {
     "iopub.execute_input": "2023-07-19T20:17:56.412489Z",
     "iopub.status.busy": "2023-07-19T20:17:56.412102Z",
     "iopub.status.idle": "2023-07-19T20:17:56.901353Z",
     "shell.execute_reply": "2023-07-19T20:17:56.900186Z",
     "shell.execute_reply.started": "2023-07-19T20:17:56.412460Z"
    }
   },
   "outputs": [],
   "source": [
    "import numpy as np #installed vers 1.23.0 for compatability with SciPy\n",
    "from numpy import percentile\n",
    "import pandas as pd\n",
    "import sklearn as sk\n",
    "import os\n",
    "import sys\n",
    "import scipy\n",
    "from scipy.stats import shapiro\n",
    "from scipy.stats import normaltest\n",
    "from scipy.stats import anderson\n",
    "from matplotlib import pyplot as plt\n",
    "from statsmodels.graphics.gofplots import qqplot\n",
    "from pandas import read_csv\n",
    "from sklearn.model_selection import train_test_split\n",
    "from sklearn.linear_model import LinearRegression\n",
    "from sklearn.metrics import mean_absolute_error\n",
    "from sklearn.metrics import mean_squared_error\n",
    "import sklearn.neighbors._base\n",
    "sys.modules['sklearn.neighbors.base'] = sklearn.neighbors._base #for missingpy, name in most recent sklearn doesn't match\n",
    "from missingpy import MissForest"
   ]
  },
  {
   "cell_type": "code",
   "execution_count": 3,
   "metadata": {
    "execution": {
     "iopub.execute_input": "2023-07-19T20:17:56.910542Z",
     "iopub.status.busy": "2023-07-19T20:17:56.910208Z",
     "iopub.status.idle": "2023-07-19T20:17:57.412612Z",
     "shell.execute_reply": "2023-07-19T20:17:57.411502Z",
     "shell.execute_reply.started": "2023-07-19T20:17:56.910507Z"
    }
   },
   "outputs": [],
   "source": [
    "tt = pd.read_csv('tt.csv')"
   ]
  },
  {
   "cell_type": "code",
   "execution_count": 4,
   "metadata": {
    "execution": {
     "iopub.execute_input": "2023-07-19T20:17:57.415162Z",
     "iopub.status.busy": "2023-07-19T20:17:57.414813Z",
     "iopub.status.idle": "2023-07-19T20:17:57.514227Z",
     "shell.execute_reply": "2023-07-19T20:17:57.513132Z",
     "shell.execute_reply.started": "2023-07-19T20:17:57.415131Z"
    }
   },
   "outputs": [],
   "source": [
    "tt = tt.drop('State', axis=1).copy()\n",
    "tt = tt.astype({'Zip': 'object'}).copy()"
   ]
  },
  {
   "cell_type": "code",
   "execution_count": 5,
   "metadata": {
    "execution": {
     "iopub.execute_input": "2023-07-19T20:17:57.515962Z",
     "iopub.status.busy": "2023-07-19T20:17:57.515597Z",
     "iopub.status.idle": "2023-07-19T20:17:57.523372Z",
     "shell.execute_reply": "2023-07-19T20:17:57.522397Z",
     "shell.execute_reply.started": "2023-07-19T20:17:57.515932Z"
    }
   },
   "outputs": [],
   "source": [
    "train = tt.loc[:47438].copy()"
   ]
  },
  {
   "cell_type": "code",
   "execution_count": 6,
   "metadata": {},
   "outputs": [
    {
     "data": {
      "text/plain": [
       "Index(['Id', 'Sold_Price', 'Type', 'Year_built', 'Heating', 'Cooling',\n",
       "       'Parking', 'Lot', 'Bedrooms', 'Bathrooms', 'Full_bathrooms',\n",
       "       'Total_interior_livable_area', 'Total_spaces', 'Garage_spaces',\n",
       "       'Flooring', 'Tax_assessed_value', 'Annual_tax_amount', 'Listed_Price',\n",
       "       'Last_Sold_Price', 'Zip', 'Days_Listed', 'Days_Sold', 'Address_RdType',\n",
       "       'Address_NoLen', 'Summary_Len', 'Schools_Score', 'Schools_Distance',\n",
       "       'Total_Appliances', 'Hookups'],\n",
       "      dtype='object')"
      ]
     },
     "execution_count": 6,
     "metadata": {},
     "output_type": "execute_result"
    }
   ],
   "source": [
    "train.columns"
   ]
  },
  {
   "cell_type": "code",
   "execution_count": 7,
   "metadata": {},
   "outputs": [],
   "source": [
    "train = train.drop('Id', axis=1).copy()"
   ]
  },
  {
   "cell_type": "markdown",
   "metadata": {},
   "source": [
    "# Identifying quantitative and qualitative "
   ]
  },
  {
   "cell_type": "code",
   "execution_count": 8,
   "metadata": {},
   "outputs": [],
   "source": [
    "quantitative = [f for f in train.columns if train.dtypes[f] != 'object']\n",
    "quantitative.remove('Sold_Price')\n",
    "qualitative = [f for f in train.columns if train.dtypes[f] == 'object']"
   ]
  },
  {
   "cell_type": "code",
   "execution_count": 9,
   "metadata": {},
   "outputs": [
    {
     "data": {
      "text/plain": [
       "['Year_built',\n",
       " 'Lot',\n",
       " 'Bedrooms',\n",
       " 'Bathrooms',\n",
       " 'Full_bathrooms',\n",
       " 'Total_interior_livable_area',\n",
       " 'Total_spaces',\n",
       " 'Garage_spaces',\n",
       " 'Tax_assessed_value',\n",
       " 'Annual_tax_amount',\n",
       " 'Listed_Price',\n",
       " 'Last_Sold_Price',\n",
       " 'Days_Listed',\n",
       " 'Days_Sold',\n",
       " 'Address_NoLen',\n",
       " 'Summary_Len',\n",
       " 'Schools_Score',\n",
       " 'Schools_Distance',\n",
       " 'Total_Appliances']"
      ]
     },
     "execution_count": 9,
     "metadata": {},
     "output_type": "execute_result"
    }
   ],
   "source": [
    "quantitative"
   ]
  },
  {
   "cell_type": "code",
   "execution_count": 10,
   "metadata": {},
   "outputs": [
    {
     "data": {
      "text/plain": [
       "['Type',\n",
       " 'Heating',\n",
       " 'Cooling',\n",
       " 'Parking',\n",
       " 'Flooring',\n",
       " 'Zip',\n",
       " 'Address_RdType',\n",
       " 'Hookups']"
      ]
     },
     "execution_count": 10,
     "metadata": {},
     "output_type": "execute_result"
    }
   ],
   "source": [
    "qualitative"
   ]
  },
  {
   "cell_type": "markdown",
   "metadata": {},
   "source": [
    "# Baseline model peformance"
   ]
  },
  {
   "cell_type": "code",
   "execution_count": 214,
   "metadata": {},
   "outputs": [],
   "source": [
    "def assess_regression(df_list, name_list):\n",
    "    out_cells =[]\n",
    "    i = 0\n",
    "    for df in df_list:\n",
    "        mae_total = 0\n",
    "        mse_total = 0\n",
    "        X, y = df.drop('Sold_Price', axis=1).copy(), df.Sold_Price.copy()\n",
    "        X_train, X_test, y_train, y_test = train_test_split(X, y, test_size=0.2, random_state=1)\n",
    "        model = LinearRegression()\n",
    "        model.fit(X_train, y_train)\n",
    "        yhat = model.predict(X_test)\n",
    "        name = name_list[i]\n",
    "        shape = df.shape\n",
    "        for x in range(0,5): #divide final result by 5 to account for stochastic randomness\n",
    "            mae_total+= mean_absolute_error(y_test, yhat)\n",
    "            mse_total+= mean_squared_error(y_test, yhat)\n",
    "        out_cells.append([name, f'{mae_total/5:.3f}', f'{mse_total/5:.3f}', shape])\n",
    "        i+=1\n",
    "    out = pd.DataFrame(out_cells, columns=['Data', 'MAE', 'MSE', 'Shape']).copy()\n",
    "    return out"
   ]
  },
  {
   "cell_type": "markdown",
   "metadata": {},
   "source": [
    "# TTS before modification ... NaN columns must not be dropped but maintained for use "
   ]
  },
  {
   "cell_type": "code",
   "execution_count": 55,
   "metadata": {},
   "outputs": [
    {
     "name": "stderr",
     "output_type": "stream",
     "text": [
      "C:\\Users\\euana\\anaconda3\\lib\\site-packages\\pandas\\core\\algorithms.py:798: FutureWarning: In a future version, the Index constructor will not infer numeric dtypes when passed object-dtype sequences (matching Series behavior)\n",
      "  uniques = Index(uniques)\n"
     ]
    }
   ],
   "source": [
    "bl1 = train.copy()\n",
    "bl1 = pd.get_dummies(data=bl1, columns=qualitative, drop_first=True)\n",
    "bl1_X = bl1.drop('Sold_Price', axis=1).copy()\n",
    "bl1_y = bl1.Sold_Price.copy()\n",
    "bl1_X_train, bl1_X_test, bl1_y_train, bl1_y_test = train_test_split(bl1_X, bl1_y, test_size=0.2, random_state=1)"
   ]
  },
  {
   "cell_type": "code",
   "execution_count": 56,
   "metadata": {},
   "outputs": [],
   "source": [
    "frames = [bl1_X_train, bl1_y_train]"
   ]
  },
  {
   "cell_type": "code",
   "execution_count": 57,
   "metadata": {},
   "outputs": [],
   "source": [
    "out = pd.concat(frames)"
   ]
  },
  {
   "cell_type": "code",
   "execution_count": 58,
   "metadata": {},
   "outputs": [],
   "source": [
    "out = out.rename(columns={0: 'Sold_Price'}).copy()"
   ]
  },
  {
   "cell_type": "markdown",
   "metadata": {},
   "source": [
    "Drop NaN does not work as all rows are dropped, so replace with 0"
   ]
  },
  {
   "cell_type": "code",
   "execution_count": 61,
   "metadata": {},
   "outputs": [],
   "source": [
    "out = out.fillna(0).copy()"
   ]
  },
  {
   "cell_type": "code",
   "execution_count": 65,
   "metadata": {},
   "outputs": [],
   "source": [
    "bl1_X_train = out.drop('Sold_Price', axis=1)\n",
    "bl1_y_train = out['Sold_Price'].copy()"
   ]
  },
  {
   "cell_type": "markdown",
   "metadata": {},
   "source": [
    "The actual test data for competition does not have NaN values, to avoid data leakeage here we will fillna with the median value of each column in the test data"
   ]
  },
  {
   "cell_type": "code",
   "execution_count": 72,
   "metadata": {},
   "outputs": [
    {
     "data": {
      "text/plain": [
       "Year_built             224\n",
       "Lot                   2896\n",
       "Bedrooms                 0\n",
       "Bathrooms              722\n",
       "Full_bathrooms        1578\n",
       "                      ... \n",
       "Address_RdType_St        0\n",
       "Address_RdType_Ter       0\n",
       "Address_RdType_Trl       0\n",
       "Address_RdType_Way       0\n",
       "Hookups_Y                0\n",
       "Length: 118, dtype: int64"
      ]
     },
     "execution_count": 72,
     "metadata": {},
     "output_type": "execute_result"
    }
   ],
   "source": [
    "bl1_X_test.isna().sum()"
   ]
  },
  {
   "cell_type": "code",
   "execution_count": 68,
   "metadata": {},
   "outputs": [
    {
     "ename": "ValueError",
     "evalue": "Input contains NaN, infinity or a value too large for dtype('float64').",
     "output_type": "error",
     "traceback": [
      "\u001b[1;31m---------------------------------------------------------------------------\u001b[0m",
      "\u001b[1;31mValueError\u001b[0m                                Traceback (most recent call last)",
      "\u001b[1;32m~\\AppData\\Local\\Temp\\ipykernel_17936\\3116153588.py\u001b[0m in \u001b[0;36m<module>\u001b[1;34m\u001b[0m\n\u001b[0;32m      1\u001b[0m \u001b[0mmodel\u001b[0m \u001b[1;33m=\u001b[0m \u001b[0mLinearRegression\u001b[0m\u001b[1;33m(\u001b[0m\u001b[1;33m)\u001b[0m\u001b[1;33m\u001b[0m\u001b[1;33m\u001b[0m\u001b[0m\n\u001b[0;32m      2\u001b[0m \u001b[0mmodel\u001b[0m\u001b[1;33m.\u001b[0m\u001b[0mfit\u001b[0m\u001b[1;33m(\u001b[0m\u001b[0mbl1_X_train\u001b[0m\u001b[1;33m,\u001b[0m \u001b[0mbl1_y_train\u001b[0m\u001b[1;33m)\u001b[0m\u001b[1;33m\u001b[0m\u001b[1;33m\u001b[0m\u001b[0m\n\u001b[1;32m----> 3\u001b[1;33m \u001b[0myhat\u001b[0m \u001b[1;33m=\u001b[0m \u001b[0mmodel\u001b[0m\u001b[1;33m.\u001b[0m\u001b[0mpredict\u001b[0m\u001b[1;33m(\u001b[0m\u001b[0mbl1_X_test\u001b[0m\u001b[1;33m)\u001b[0m\u001b[1;33m\u001b[0m\u001b[1;33m\u001b[0m\u001b[0m\n\u001b[0m\u001b[0;32m      4\u001b[0m \u001b[0mbl1_mae\u001b[0m \u001b[1;33m=\u001b[0m \u001b[1;36m0\u001b[0m\u001b[1;33m\u001b[0m\u001b[1;33m\u001b[0m\u001b[0m\n\u001b[0;32m      5\u001b[0m \u001b[0mbl1_mse\u001b[0m \u001b[1;33m=\u001b[0m \u001b[1;36m0\u001b[0m\u001b[1;33m\u001b[0m\u001b[1;33m\u001b[0m\u001b[0m\n",
      "\u001b[1;32m~\\anaconda3\\lib\\site-packages\\sklearn\\linear_model\\_base.py\u001b[0m in \u001b[0;36mpredict\u001b[1;34m(self, X)\u001b[0m\n\u001b[0;32m    360\u001b[0m             \u001b[0mReturns\u001b[0m \u001b[0mpredicted\u001b[0m \u001b[0mvalues\u001b[0m\u001b[1;33m.\u001b[0m\u001b[1;33m\u001b[0m\u001b[1;33m\u001b[0m\u001b[0m\n\u001b[0;32m    361\u001b[0m         \"\"\"\n\u001b[1;32m--> 362\u001b[1;33m         \u001b[1;32mreturn\u001b[0m \u001b[0mself\u001b[0m\u001b[1;33m.\u001b[0m\u001b[0m_decision_function\u001b[0m\u001b[1;33m(\u001b[0m\u001b[0mX\u001b[0m\u001b[1;33m)\u001b[0m\u001b[1;33m\u001b[0m\u001b[1;33m\u001b[0m\u001b[0m\n\u001b[0m\u001b[0;32m    363\u001b[0m \u001b[1;33m\u001b[0m\u001b[0m\n\u001b[0;32m    364\u001b[0m     \u001b[0m_preprocess_data\u001b[0m \u001b[1;33m=\u001b[0m \u001b[0mstaticmethod\u001b[0m\u001b[1;33m(\u001b[0m\u001b[0m_preprocess_data\u001b[0m\u001b[1;33m)\u001b[0m\u001b[1;33m\u001b[0m\u001b[1;33m\u001b[0m\u001b[0m\n",
      "\u001b[1;32m~\\anaconda3\\lib\\site-packages\\sklearn\\linear_model\\_base.py\u001b[0m in \u001b[0;36m_decision_function\u001b[1;34m(self, X)\u001b[0m\n\u001b[0;32m    343\u001b[0m         \u001b[0mcheck_is_fitted\u001b[0m\u001b[1;33m(\u001b[0m\u001b[0mself\u001b[0m\u001b[1;33m)\u001b[0m\u001b[1;33m\u001b[0m\u001b[1;33m\u001b[0m\u001b[0m\n\u001b[0;32m    344\u001b[0m \u001b[1;33m\u001b[0m\u001b[0m\n\u001b[1;32m--> 345\u001b[1;33m         \u001b[0mX\u001b[0m \u001b[1;33m=\u001b[0m \u001b[0mself\u001b[0m\u001b[1;33m.\u001b[0m\u001b[0m_validate_data\u001b[0m\u001b[1;33m(\u001b[0m\u001b[0mX\u001b[0m\u001b[1;33m,\u001b[0m \u001b[0maccept_sparse\u001b[0m\u001b[1;33m=\u001b[0m\u001b[1;33m[\u001b[0m\u001b[1;34m\"csr\"\u001b[0m\u001b[1;33m,\u001b[0m \u001b[1;34m\"csc\"\u001b[0m\u001b[1;33m,\u001b[0m \u001b[1;34m\"coo\"\u001b[0m\u001b[1;33m]\u001b[0m\u001b[1;33m,\u001b[0m \u001b[0mreset\u001b[0m\u001b[1;33m=\u001b[0m\u001b[1;32mFalse\u001b[0m\u001b[1;33m)\u001b[0m\u001b[1;33m\u001b[0m\u001b[1;33m\u001b[0m\u001b[0m\n\u001b[0m\u001b[0;32m    346\u001b[0m         \u001b[1;32mreturn\u001b[0m \u001b[0msafe_sparse_dot\u001b[0m\u001b[1;33m(\u001b[0m\u001b[0mX\u001b[0m\u001b[1;33m,\u001b[0m \u001b[0mself\u001b[0m\u001b[1;33m.\u001b[0m\u001b[0mcoef_\u001b[0m\u001b[1;33m.\u001b[0m\u001b[0mT\u001b[0m\u001b[1;33m,\u001b[0m \u001b[0mdense_output\u001b[0m\u001b[1;33m=\u001b[0m\u001b[1;32mTrue\u001b[0m\u001b[1;33m)\u001b[0m \u001b[1;33m+\u001b[0m \u001b[0mself\u001b[0m\u001b[1;33m.\u001b[0m\u001b[0mintercept_\u001b[0m\u001b[1;33m\u001b[0m\u001b[1;33m\u001b[0m\u001b[0m\n\u001b[0;32m    347\u001b[0m \u001b[1;33m\u001b[0m\u001b[0m\n",
      "\u001b[1;32m~\\anaconda3\\lib\\site-packages\\sklearn\\base.py\u001b[0m in \u001b[0;36m_validate_data\u001b[1;34m(self, X, y, reset, validate_separately, **check_params)\u001b[0m\n\u001b[0;32m    564\u001b[0m             \u001b[1;32mraise\u001b[0m \u001b[0mValueError\u001b[0m\u001b[1;33m(\u001b[0m\u001b[1;34m\"Validation should be done on X, y or both.\"\u001b[0m\u001b[1;33m)\u001b[0m\u001b[1;33m\u001b[0m\u001b[1;33m\u001b[0m\u001b[0m\n\u001b[0;32m    565\u001b[0m         \u001b[1;32melif\u001b[0m \u001b[1;32mnot\u001b[0m \u001b[0mno_val_X\u001b[0m \u001b[1;32mand\u001b[0m \u001b[0mno_val_y\u001b[0m\u001b[1;33m:\u001b[0m\u001b[1;33m\u001b[0m\u001b[1;33m\u001b[0m\u001b[0m\n\u001b[1;32m--> 566\u001b[1;33m             \u001b[0mX\u001b[0m \u001b[1;33m=\u001b[0m \u001b[0mcheck_array\u001b[0m\u001b[1;33m(\u001b[0m\u001b[0mX\u001b[0m\u001b[1;33m,\u001b[0m \u001b[1;33m**\u001b[0m\u001b[0mcheck_params\u001b[0m\u001b[1;33m)\u001b[0m\u001b[1;33m\u001b[0m\u001b[1;33m\u001b[0m\u001b[0m\n\u001b[0m\u001b[0;32m    567\u001b[0m             \u001b[0mout\u001b[0m \u001b[1;33m=\u001b[0m \u001b[0mX\u001b[0m\u001b[1;33m\u001b[0m\u001b[1;33m\u001b[0m\u001b[0m\n\u001b[0;32m    568\u001b[0m         \u001b[1;32melif\u001b[0m \u001b[0mno_val_X\u001b[0m \u001b[1;32mand\u001b[0m \u001b[1;32mnot\u001b[0m \u001b[0mno_val_y\u001b[0m\u001b[1;33m:\u001b[0m\u001b[1;33m\u001b[0m\u001b[1;33m\u001b[0m\u001b[0m\n",
      "\u001b[1;32m~\\anaconda3\\lib\\site-packages\\sklearn\\utils\\validation.py\u001b[0m in \u001b[0;36mcheck_array\u001b[1;34m(array, accept_sparse, accept_large_sparse, dtype, order, copy, force_all_finite, ensure_2d, allow_nd, ensure_min_samples, ensure_min_features, estimator)\u001b[0m\n\u001b[0;32m    798\u001b[0m \u001b[1;33m\u001b[0m\u001b[0m\n\u001b[0;32m    799\u001b[0m         \u001b[1;32mif\u001b[0m \u001b[0mforce_all_finite\u001b[0m\u001b[1;33m:\u001b[0m\u001b[1;33m\u001b[0m\u001b[1;33m\u001b[0m\u001b[0m\n\u001b[1;32m--> 800\u001b[1;33m             \u001b[0m_assert_all_finite\u001b[0m\u001b[1;33m(\u001b[0m\u001b[0marray\u001b[0m\u001b[1;33m,\u001b[0m \u001b[0mallow_nan\u001b[0m\u001b[1;33m=\u001b[0m\u001b[0mforce_all_finite\u001b[0m \u001b[1;33m==\u001b[0m \u001b[1;34m\"allow-nan\"\u001b[0m\u001b[1;33m)\u001b[0m\u001b[1;33m\u001b[0m\u001b[1;33m\u001b[0m\u001b[0m\n\u001b[0m\u001b[0;32m    801\u001b[0m \u001b[1;33m\u001b[0m\u001b[0m\n\u001b[0;32m    802\u001b[0m     \u001b[1;32mif\u001b[0m \u001b[0mensure_min_samples\u001b[0m \u001b[1;33m>\u001b[0m \u001b[1;36m0\u001b[0m\u001b[1;33m:\u001b[0m\u001b[1;33m\u001b[0m\u001b[1;33m\u001b[0m\u001b[0m\n",
      "\u001b[1;32m~\\anaconda3\\lib\\site-packages\\sklearn\\utils\\validation.py\u001b[0m in \u001b[0;36m_assert_all_finite\u001b[1;34m(X, allow_nan, msg_dtype)\u001b[0m\n\u001b[0;32m    112\u001b[0m         ):\n\u001b[0;32m    113\u001b[0m             \u001b[0mtype_err\u001b[0m \u001b[1;33m=\u001b[0m \u001b[1;34m\"infinity\"\u001b[0m \u001b[1;32mif\u001b[0m \u001b[0mallow_nan\u001b[0m \u001b[1;32melse\u001b[0m \u001b[1;34m\"NaN, infinity\"\u001b[0m\u001b[1;33m\u001b[0m\u001b[1;33m\u001b[0m\u001b[0m\n\u001b[1;32m--> 114\u001b[1;33m             raise ValueError(\n\u001b[0m\u001b[0;32m    115\u001b[0m                 msg_err.format(\n\u001b[0;32m    116\u001b[0m                     \u001b[0mtype_err\u001b[0m\u001b[1;33m,\u001b[0m \u001b[0mmsg_dtype\u001b[0m \u001b[1;32mif\u001b[0m \u001b[0mmsg_dtype\u001b[0m \u001b[1;32mis\u001b[0m \u001b[1;32mnot\u001b[0m \u001b[1;32mNone\u001b[0m \u001b[1;32melse\u001b[0m \u001b[0mX\u001b[0m\u001b[1;33m.\u001b[0m\u001b[0mdtype\u001b[0m\u001b[1;33m\u001b[0m\u001b[1;33m\u001b[0m\u001b[0m\n",
      "\u001b[1;31mValueError\u001b[0m: Input contains NaN, infinity or a value too large for dtype('float64')."
     ]
    }
   ],
   "source": [
    "model = LinearRegression()\n",
    "model.fit(bl1_X_train, bl1_y_train)\n",
    "yhat = model.predict(bl1_X_test)\n",
    "bl1_mae = 0\n",
    "bl1_mse = 0\n",
    "for n in range (0,5):\n",
    "    bl1_mae += mean_absolute_error(bl1_y_test, yhat)\n",
    "    bl1_mse += mean_squared_error(bl1_y_test, yhat)\n",
    "bl1_results= [round(bl1_mae/5,3), round(bl1_mse/5,3)]"
   ]
  },
  {
   "cell_type": "markdown",
   "metadata": {},
   "source": [
    "## Baseline Model 2 -- all NaNs imputed with MissForest and categories one-hot encoded"
   ]
  },
  {
   "cell_type": "code",
   "execution_count": 282,
   "metadata": {},
   "outputs": [
    {
     "name": "stderr",
     "output_type": "stream",
     "text": [
      "C:\\Users\\euana\\anaconda3\\lib\\site-packages\\pandas\\core\\algorithms.py:798: FutureWarning: In a future version, the Index constructor will not infer numeric dtypes when passed object-dtype sequences (matching Series behavior)\n",
      "  uniques = Index(uniques)\n",
      "C:\\Users\\euana\\anaconda3\\lib\\site-packages\\sklearn\\ensemble\\_forest.py:396: FutureWarning: Criterion 'mse' was deprecated in v1.0 and will be removed in version 1.2. Use `criterion='squared_error'` which is equivalent.\n",
      "  warn(\n",
      "C:\\Users\\euana\\anaconda3\\lib\\site-packages\\sklearn\\ensemble\\_forest.py:396: FutureWarning: Criterion 'mse' was deprecated in v1.0 and will be removed in version 1.2. Use `criterion='squared_error'` which is equivalent.\n",
      "  warn(\n",
      "C:\\Users\\euana\\anaconda3\\lib\\site-packages\\sklearn\\ensemble\\_forest.py:396: FutureWarning: Criterion 'mse' was deprecated in v1.0 and will be removed in version 1.2. Use `criterion='squared_error'` which is equivalent.\n",
      "  warn(\n",
      "C:\\Users\\euana\\anaconda3\\lib\\site-packages\\sklearn\\ensemble\\_forest.py:396: FutureWarning: Criterion 'mse' was deprecated in v1.0 and will be removed in version 1.2. Use `criterion='squared_error'` which is equivalent.\n",
      "  warn(\n",
      "C:\\Users\\euana\\anaconda3\\lib\\site-packages\\sklearn\\ensemble\\_forest.py:396: FutureWarning: Criterion 'mse' was deprecated in v1.0 and will be removed in version 1.2. Use `criterion='squared_error'` which is equivalent.\n",
      "  warn(\n",
      "C:\\Users\\euana\\anaconda3\\lib\\site-packages\\sklearn\\ensemble\\_forest.py:396: FutureWarning: Criterion 'mse' was deprecated in v1.0 and will be removed in version 1.2. Use `criterion='squared_error'` which is equivalent.\n",
      "  warn(\n",
      "C:\\Users\\euana\\anaconda3\\lib\\site-packages\\sklearn\\ensemble\\_forest.py:396: FutureWarning: Criterion 'mse' was deprecated in v1.0 and will be removed in version 1.2. Use `criterion='squared_error'` which is equivalent.\n",
      "  warn(\n",
      "C:\\Users\\euana\\anaconda3\\lib\\site-packages\\sklearn\\ensemble\\_forest.py:396: FutureWarning: Criterion 'mse' was deprecated in v1.0 and will be removed in version 1.2. Use `criterion='squared_error'` which is equivalent.\n",
      "  warn(\n",
      "C:\\Users\\euana\\anaconda3\\lib\\site-packages\\sklearn\\ensemble\\_forest.py:396: FutureWarning: Criterion 'mse' was deprecated in v1.0 and will be removed in version 1.2. Use `criterion='squared_error'` which is equivalent.\n",
      "  warn(\n",
      "C:\\Users\\euana\\anaconda3\\lib\\site-packages\\sklearn\\ensemble\\_forest.py:396: FutureWarning: Criterion 'mse' was deprecated in v1.0 and will be removed in version 1.2. Use `criterion='squared_error'` which is equivalent.\n",
      "  warn(\n"
     ]
    },
    {
     "name": "stdout",
     "output_type": "stream",
     "text": [
      "Iteration: 0\n"
     ]
    },
    {
     "name": "stderr",
     "output_type": "stream",
     "text": [
      "C:\\Users\\euana\\anaconda3\\lib\\site-packages\\sklearn\\ensemble\\_forest.py:396: FutureWarning: Criterion 'mse' was deprecated in v1.0 and will be removed in version 1.2. Use `criterion='squared_error'` which is equivalent.\n",
      "  warn(\n",
      "C:\\Users\\euana\\anaconda3\\lib\\site-packages\\sklearn\\ensemble\\_forest.py:396: FutureWarning: Criterion 'mse' was deprecated in v1.0 and will be removed in version 1.2. Use `criterion='squared_error'` which is equivalent.\n",
      "  warn(\n",
      "C:\\Users\\euana\\anaconda3\\lib\\site-packages\\sklearn\\ensemble\\_forest.py:396: FutureWarning: Criterion 'mse' was deprecated in v1.0 and will be removed in version 1.2. Use `criterion='squared_error'` which is equivalent.\n",
      "  warn(\n",
      "C:\\Users\\euana\\anaconda3\\lib\\site-packages\\sklearn\\ensemble\\_forest.py:396: FutureWarning: Criterion 'mse' was deprecated in v1.0 and will be removed in version 1.2. Use `criterion='squared_error'` which is equivalent.\n",
      "  warn(\n",
      "C:\\Users\\euana\\anaconda3\\lib\\site-packages\\sklearn\\ensemble\\_forest.py:396: FutureWarning: Criterion 'mse' was deprecated in v1.0 and will be removed in version 1.2. Use `criterion='squared_error'` which is equivalent.\n",
      "  warn(\n",
      "C:\\Users\\euana\\anaconda3\\lib\\site-packages\\sklearn\\ensemble\\_forest.py:396: FutureWarning: Criterion 'mse' was deprecated in v1.0 and will be removed in version 1.2. Use `criterion='squared_error'` which is equivalent.\n",
      "  warn(\n",
      "C:\\Users\\euana\\anaconda3\\lib\\site-packages\\sklearn\\ensemble\\_forest.py:396: FutureWarning: Criterion 'mse' was deprecated in v1.0 and will be removed in version 1.2. Use `criterion='squared_error'` which is equivalent.\n",
      "  warn(\n",
      "C:\\Users\\euana\\anaconda3\\lib\\site-packages\\sklearn\\ensemble\\_forest.py:396: FutureWarning: Criterion 'mse' was deprecated in v1.0 and will be removed in version 1.2. Use `criterion='squared_error'` which is equivalent.\n",
      "  warn(\n",
      "C:\\Users\\euana\\anaconda3\\lib\\site-packages\\sklearn\\ensemble\\_forest.py:396: FutureWarning: Criterion 'mse' was deprecated in v1.0 and will be removed in version 1.2. Use `criterion='squared_error'` which is equivalent.\n",
      "  warn(\n",
      "C:\\Users\\euana\\anaconda3\\lib\\site-packages\\sklearn\\ensemble\\_forest.py:396: FutureWarning: Criterion 'mse' was deprecated in v1.0 and will be removed in version 1.2. Use `criterion='squared_error'` which is equivalent.\n",
      "  warn(\n"
     ]
    },
    {
     "name": "stdout",
     "output_type": "stream",
     "text": [
      "Iteration: 1\n"
     ]
    },
    {
     "name": "stderr",
     "output_type": "stream",
     "text": [
      "C:\\Users\\euana\\anaconda3\\lib\\site-packages\\sklearn\\ensemble\\_forest.py:396: FutureWarning: Criterion 'mse' was deprecated in v1.0 and will be removed in version 1.2. Use `criterion='squared_error'` which is equivalent.\n",
      "  warn(\n",
      "C:\\Users\\euana\\anaconda3\\lib\\site-packages\\sklearn\\ensemble\\_forest.py:396: FutureWarning: Criterion 'mse' was deprecated in v1.0 and will be removed in version 1.2. Use `criterion='squared_error'` which is equivalent.\n",
      "  warn(\n",
      "C:\\Users\\euana\\anaconda3\\lib\\site-packages\\sklearn\\ensemble\\_forest.py:396: FutureWarning: Criterion 'mse' was deprecated in v1.0 and will be removed in version 1.2. Use `criterion='squared_error'` which is equivalent.\n",
      "  warn(\n",
      "C:\\Users\\euana\\anaconda3\\lib\\site-packages\\sklearn\\ensemble\\_forest.py:396: FutureWarning: Criterion 'mse' was deprecated in v1.0 and will be removed in version 1.2. Use `criterion='squared_error'` which is equivalent.\n",
      "  warn(\n",
      "C:\\Users\\euana\\anaconda3\\lib\\site-packages\\sklearn\\ensemble\\_forest.py:396: FutureWarning: Criterion 'mse' was deprecated in v1.0 and will be removed in version 1.2. Use `criterion='squared_error'` which is equivalent.\n",
      "  warn(\n",
      "C:\\Users\\euana\\anaconda3\\lib\\site-packages\\sklearn\\ensemble\\_forest.py:396: FutureWarning: Criterion 'mse' was deprecated in v1.0 and will be removed in version 1.2. Use `criterion='squared_error'` which is equivalent.\n",
      "  warn(\n",
      "C:\\Users\\euana\\anaconda3\\lib\\site-packages\\sklearn\\ensemble\\_forest.py:396: FutureWarning: Criterion 'mse' was deprecated in v1.0 and will be removed in version 1.2. Use `criterion='squared_error'` which is equivalent.\n",
      "  warn(\n",
      "C:\\Users\\euana\\anaconda3\\lib\\site-packages\\sklearn\\ensemble\\_forest.py:396: FutureWarning: Criterion 'mse' was deprecated in v1.0 and will be removed in version 1.2. Use `criterion='squared_error'` which is equivalent.\n",
      "  warn(\n",
      "C:\\Users\\euana\\anaconda3\\lib\\site-packages\\sklearn\\ensemble\\_forest.py:396: FutureWarning: Criterion 'mse' was deprecated in v1.0 and will be removed in version 1.2. Use `criterion='squared_error'` which is equivalent.\n",
      "  warn(\n",
      "C:\\Users\\euana\\anaconda3\\lib\\site-packages\\sklearn\\ensemble\\_forest.py:396: FutureWarning: Criterion 'mse' was deprecated in v1.0 and will be removed in version 1.2. Use `criterion='squared_error'` which is equivalent.\n",
      "  warn(\n"
     ]
    },
    {
     "name": "stdout",
     "output_type": "stream",
     "text": [
      "Iteration: 2\n"
     ]
    },
    {
     "name": "stderr",
     "output_type": "stream",
     "text": [
      "C:\\Users\\euana\\anaconda3\\lib\\site-packages\\sklearn\\ensemble\\_forest.py:396: FutureWarning: Criterion 'mse' was deprecated in v1.0 and will be removed in version 1.2. Use `criterion='squared_error'` which is equivalent.\n",
      "  warn(\n",
      "C:\\Users\\euana\\anaconda3\\lib\\site-packages\\sklearn\\ensemble\\_forest.py:396: FutureWarning: Criterion 'mse' was deprecated in v1.0 and will be removed in version 1.2. Use `criterion='squared_error'` which is equivalent.\n",
      "  warn(\n",
      "C:\\Users\\euana\\anaconda3\\lib\\site-packages\\sklearn\\ensemble\\_forest.py:396: FutureWarning: Criterion 'mse' was deprecated in v1.0 and will be removed in version 1.2. Use `criterion='squared_error'` which is equivalent.\n",
      "  warn(\n",
      "C:\\Users\\euana\\anaconda3\\lib\\site-packages\\sklearn\\ensemble\\_forest.py:396: FutureWarning: Criterion 'mse' was deprecated in v1.0 and will be removed in version 1.2. Use `criterion='squared_error'` which is equivalent.\n",
      "  warn(\n",
      "C:\\Users\\euana\\anaconda3\\lib\\site-packages\\sklearn\\ensemble\\_forest.py:396: FutureWarning: Criterion 'mse' was deprecated in v1.0 and will be removed in version 1.2. Use `criterion='squared_error'` which is equivalent.\n",
      "  warn(\n",
      "C:\\Users\\euana\\anaconda3\\lib\\site-packages\\sklearn\\ensemble\\_forest.py:396: FutureWarning: Criterion 'mse' was deprecated in v1.0 and will be removed in version 1.2. Use `criterion='squared_error'` which is equivalent.\n",
      "  warn(\n",
      "C:\\Users\\euana\\anaconda3\\lib\\site-packages\\sklearn\\ensemble\\_forest.py:396: FutureWarning: Criterion 'mse' was deprecated in v1.0 and will be removed in version 1.2. Use `criterion='squared_error'` which is equivalent.\n",
      "  warn(\n",
      "C:\\Users\\euana\\anaconda3\\lib\\site-packages\\sklearn\\ensemble\\_forest.py:396: FutureWarning: Criterion 'mse' was deprecated in v1.0 and will be removed in version 1.2. Use `criterion='squared_error'` which is equivalent.\n",
      "  warn(\n",
      "C:\\Users\\euana\\anaconda3\\lib\\site-packages\\sklearn\\ensemble\\_forest.py:396: FutureWarning: Criterion 'mse' was deprecated in v1.0 and will be removed in version 1.2. Use `criterion='squared_error'` which is equivalent.\n",
      "  warn(\n",
      "C:\\Users\\euana\\anaconda3\\lib\\site-packages\\sklearn\\ensemble\\_forest.py:396: FutureWarning: Criterion 'mse' was deprecated in v1.0 and will be removed in version 1.2. Use `criterion='squared_error'` which is equivalent.\n",
      "  warn(\n"
     ]
    },
    {
     "name": "stdout",
     "output_type": "stream",
     "text": [
      "Iteration: 3\n"
     ]
    },
    {
     "name": "stderr",
     "output_type": "stream",
     "text": [
      "C:\\Users\\euana\\anaconda3\\lib\\site-packages\\sklearn\\ensemble\\_forest.py:396: FutureWarning: Criterion 'mse' was deprecated in v1.0 and will be removed in version 1.2. Use `criterion='squared_error'` which is equivalent.\n",
      "  warn(\n",
      "C:\\Users\\euana\\anaconda3\\lib\\site-packages\\sklearn\\ensemble\\_forest.py:396: FutureWarning: Criterion 'mse' was deprecated in v1.0 and will be removed in version 1.2. Use `criterion='squared_error'` which is equivalent.\n",
      "  warn(\n",
      "C:\\Users\\euana\\anaconda3\\lib\\site-packages\\sklearn\\ensemble\\_forest.py:396: FutureWarning: Criterion 'mse' was deprecated in v1.0 and will be removed in version 1.2. Use `criterion='squared_error'` which is equivalent.\n",
      "  warn(\n",
      "C:\\Users\\euana\\anaconda3\\lib\\site-packages\\sklearn\\ensemble\\_forest.py:396: FutureWarning: Criterion 'mse' was deprecated in v1.0 and will be removed in version 1.2. Use `criterion='squared_error'` which is equivalent.\n",
      "  warn(\n",
      "C:\\Users\\euana\\anaconda3\\lib\\site-packages\\sklearn\\ensemble\\_forest.py:396: FutureWarning: Criterion 'mse' was deprecated in v1.0 and will be removed in version 1.2. Use `criterion='squared_error'` which is equivalent.\n",
      "  warn(\n",
      "C:\\Users\\euana\\anaconda3\\lib\\site-packages\\sklearn\\ensemble\\_forest.py:396: FutureWarning: Criterion 'mse' was deprecated in v1.0 and will be removed in version 1.2. Use `criterion='squared_error'` which is equivalent.\n",
      "  warn(\n",
      "C:\\Users\\euana\\anaconda3\\lib\\site-packages\\sklearn\\ensemble\\_forest.py:396: FutureWarning: Criterion 'mse' was deprecated in v1.0 and will be removed in version 1.2. Use `criterion='squared_error'` which is equivalent.\n",
      "  warn(\n",
      "C:\\Users\\euana\\anaconda3\\lib\\site-packages\\sklearn\\ensemble\\_forest.py:396: FutureWarning: Criterion 'mse' was deprecated in v1.0 and will be removed in version 1.2. Use `criterion='squared_error'` which is equivalent.\n",
      "  warn(\n",
      "C:\\Users\\euana\\anaconda3\\lib\\site-packages\\sklearn\\ensemble\\_forest.py:396: FutureWarning: Criterion 'mse' was deprecated in v1.0 and will be removed in version 1.2. Use `criterion='squared_error'` which is equivalent.\n",
      "  warn(\n",
      "C:\\Users\\euana\\anaconda3\\lib\\site-packages\\sklearn\\ensemble\\_forest.py:396: FutureWarning: Criterion 'mse' was deprecated in v1.0 and will be removed in version 1.2. Use `criterion='squared_error'` which is equivalent.\n",
      "  warn(\n"
     ]
    },
    {
     "name": "stdout",
     "output_type": "stream",
     "text": [
      "Iteration: 4\n",
      "297169.837 7808084415275.614\n"
     ]
    }
   ],
   "source": [
    "#perform all DataFrame modification before TTS\n",
    "bl2 = train.copy()\n",
    "bl2 = pd.get_dummies(data=bl2, columns=qualitative, drop_first=True)\n",
    "bl2_X = bl2.drop('Sold_Price', axis=1).copy()\n",
    "imputer = MissForest()\n",
    "X_imputed = imputer.fit_transform(bl2_X)\n",
    "bl2_X_imputed = pd.DataFrame(X_imputed, columns=bl2_X.columns).round(2)\n",
    "bl2_y = bl2.Sold_Price.copy()\n",
    "bl2_X_train, bl2_X_test, bl2_y_train, bl2_y_test = train_test_split(bl2_X_imputed, bl2_y, test_size=0.2, random_state=1)\n",
    "model = LinearRegression()\n",
    "model.fit(bl2_X_train, bl2_y_train)\n",
    "yhat = model.predict(bl2_X_test)\n",
    "for n in range (0,5):\n",
    "    mae += mean_absolute_error(bl2_y_test, yhat)\n",
    "    mse += mean_squared_error(bl2_y_test, yhat)\n",
    "mae, mse = round(mae/5,3), round(mse/5,3)\n",
    "print(mae, mse)"
   ]
  },
  {
   "cell_type": "code",
   "execution_count": 283,
   "metadata": {},
   "outputs": [],
   "source": [
    "bl2_results =  [mae, mse] \n",
    "# bl2_mae, bl2_mse = round(mae/5,3), round(mse/5,3)"
   ]
  },
  {
   "cell_type": "markdown",
   "metadata": {},
   "source": [
    "# Removing outliers"
   ]
  },
  {
   "cell_type": "markdown",
   "metadata": {},
   "source": [
    "## IQR"
   ]
  },
  {
   "cell_type": "markdown",
   "metadata": {},
   "source": [
    "## LOF/KNN"
   ]
  },
  {
   "cell_type": "markdown",
   "metadata": {},
   "source": [
    "# Testing for normality"
   ]
  },
  {
   "cell_type": "code",
   "execution_count": 297,
   "metadata": {
    "execution": {
     "iopub.execute_input": "2023-07-19T20:17:57.586193Z",
     "iopub.status.busy": "2023-07-19T20:17:57.585799Z",
     "iopub.status.idle": "2023-07-19T20:17:57.598366Z",
     "shell.execute_reply": "2023-07-19T20:17:57.597445Z",
     "shell.execute_reply.started": "2023-07-19T20:17:57.586162Z"
    }
   },
   "outputs": [],
   "source": [
    "def normality_tests(df, quantitative):\n",
    "    Feature = []\n",
    "    Shapiro_Wilk = []\n",
    "    K2_Test = []\n",
    "    Anderson_Darling = []\n",
    "    for x in quantitative:\n",
    "        Feature.append(x)\n",
    "        Shapiro_Wilk.append(shapiro(df[x].dropna())[1])\n",
    "        K2_Test.append(normaltest(df[x].dropna())[1])\n",
    "        result = anderson(df[x].dropna())\n",
    "        Anderson_Darling.append('Reject H0' if result.statistic < result.critical_values[2] else 'Failed to reject H0')\n",
    "    print(f\"H0: Distribution is Gaussian. If p > 0.05 means it is very likely, not certain, the distribution is Gaussian.\\nShapiro-Wilk p-value may not be accurate when N > 5000. The DataFrame has {train.shape[0]} values.\\nAnderson-Darling at 0.05 signifigance level.\")\n",
    "    out = pd.DataFrame(data=[Shapiro_Wilk, K2_Test, Anderson_Darling], index=['Shapiro-Wilk','K^2 Test','Anderson-Darling'], columns=Feature)\n",
    "    out = out.transpose().copy()\n",
    "    out = out.style.applymap(lambda x: \"background-color: red\" if type(x) != str and x<0.05 or type(x) == str and x =='Reject H0' else \"background-color: green\")\n",
    "    return out"
   ]
  },
  {
   "cell_type": "code",
   "execution_count": 298,
   "metadata": {
    "execution": {
     "iopub.execute_input": "2023-07-19T20:17:57.670467Z",
     "iopub.status.busy": "2023-07-19T20:17:57.670111Z",
     "iopub.status.idle": "2023-07-19T20:17:57.995319Z",
     "shell.execute_reply": "2023-07-19T20:17:57.994099Z",
     "shell.execute_reply.started": "2023-07-19T20:17:57.670439Z"
    }
   },
   "outputs": [
    {
     "name": "stderr",
     "output_type": "stream",
     "text": [
      "C:\\Users\\euana\\anaconda3\\lib\\site-packages\\scipy\\stats\\_morestats.py:1800: UserWarning: p-value may not be accurate for N > 5000.\n",
      "  warnings.warn(\"p-value may not be accurate for N > 5000.\")\n"
     ]
    },
    {
     "name": "stdout",
     "output_type": "stream",
     "text": [
      "H0: Distribution is Gaussian. If p > 0.05 means it is very likely, not certain, the distribution is Gaussian.\n",
      "Shapiro-Wilk p-value may not be accurate when N > 5000. The DataFrame has 47439 values.\n",
      "Anderson-Darling at 0.05 signifigance level.\n"
     ]
    },
    {
     "data": {
      "text/html": [
       "<style type=\"text/css\">\n",
       "#T_3e8ab_row0_col0, #T_3e8ab_row0_col1, #T_3e8ab_row1_col0, #T_3e8ab_row1_col1, #T_3e8ab_row2_col0, #T_3e8ab_row2_col1, #T_3e8ab_row3_col0, #T_3e8ab_row3_col1, #T_3e8ab_row4_col0, #T_3e8ab_row4_col1, #T_3e8ab_row5_col0, #T_3e8ab_row5_col1, #T_3e8ab_row6_col0, #T_3e8ab_row6_col1, #T_3e8ab_row7_col0, #T_3e8ab_row7_col1, #T_3e8ab_row8_col0, #T_3e8ab_row8_col1, #T_3e8ab_row9_col0, #T_3e8ab_row9_col1, #T_3e8ab_row10_col0, #T_3e8ab_row10_col1, #T_3e8ab_row11_col0, #T_3e8ab_row11_col1, #T_3e8ab_row12_col0, #T_3e8ab_row12_col1, #T_3e8ab_row13_col0, #T_3e8ab_row13_col1, #T_3e8ab_row14_col0, #T_3e8ab_row14_col1, #T_3e8ab_row15_col0, #T_3e8ab_row15_col1, #T_3e8ab_row16_col0, #T_3e8ab_row16_col1, #T_3e8ab_row17_col0, #T_3e8ab_row17_col1, #T_3e8ab_row18_col0, #T_3e8ab_row18_col1 {\n",
       "  background-color: red;\n",
       "}\n",
       "#T_3e8ab_row0_col2, #T_3e8ab_row1_col2, #T_3e8ab_row2_col2, #T_3e8ab_row3_col2, #T_3e8ab_row4_col2, #T_3e8ab_row5_col2, #T_3e8ab_row6_col2, #T_3e8ab_row7_col2, #T_3e8ab_row8_col2, #T_3e8ab_row9_col2, #T_3e8ab_row10_col2, #T_3e8ab_row11_col2, #T_3e8ab_row12_col2, #T_3e8ab_row13_col2, #T_3e8ab_row14_col2, #T_3e8ab_row15_col2, #T_3e8ab_row16_col2, #T_3e8ab_row17_col2, #T_3e8ab_row18_col2 {\n",
       "  background-color: green;\n",
       "}\n",
       "</style>\n",
       "<table id=\"T_3e8ab\">\n",
       "  <thead>\n",
       "    <tr>\n",
       "      <th class=\"blank level0\" >&nbsp;</th>\n",
       "      <th id=\"T_3e8ab_level0_col0\" class=\"col_heading level0 col0\" >Shapiro-Wilk</th>\n",
       "      <th id=\"T_3e8ab_level0_col1\" class=\"col_heading level0 col1\" >K^2 Test</th>\n",
       "      <th id=\"T_3e8ab_level0_col2\" class=\"col_heading level0 col2\" >Anderson-Darling</th>\n",
       "    </tr>\n",
       "  </thead>\n",
       "  <tbody>\n",
       "    <tr>\n",
       "      <th id=\"T_3e8ab_level0_row0\" class=\"row_heading level0 row0\" >Year_built</th>\n",
       "      <td id=\"T_3e8ab_row0_col0\" class=\"data row0 col0\" >0.000000</td>\n",
       "      <td id=\"T_3e8ab_row0_col1\" class=\"data row0 col1\" >0.000000</td>\n",
       "      <td id=\"T_3e8ab_row0_col2\" class=\"data row0 col2\" >Failed to reject H0</td>\n",
       "    </tr>\n",
       "    <tr>\n",
       "      <th id=\"T_3e8ab_level0_row1\" class=\"row_heading level0 row1\" >Lot</th>\n",
       "      <td id=\"T_3e8ab_row1_col0\" class=\"data row1 col0\" >0.000000</td>\n",
       "      <td id=\"T_3e8ab_row1_col1\" class=\"data row1 col1\" >0.000000</td>\n",
       "      <td id=\"T_3e8ab_row1_col2\" class=\"data row1 col2\" >Failed to reject H0</td>\n",
       "    </tr>\n",
       "    <tr>\n",
       "      <th id=\"T_3e8ab_level0_row2\" class=\"row_heading level0 row2\" >Bedrooms</th>\n",
       "      <td id=\"T_3e8ab_row2_col0\" class=\"data row2 col0\" >0.000000</td>\n",
       "      <td id=\"T_3e8ab_row2_col1\" class=\"data row2 col1\" >0.000000</td>\n",
       "      <td id=\"T_3e8ab_row2_col2\" class=\"data row2 col2\" >Failed to reject H0</td>\n",
       "    </tr>\n",
       "    <tr>\n",
       "      <th id=\"T_3e8ab_level0_row3\" class=\"row_heading level0 row3\" >Bathrooms</th>\n",
       "      <td id=\"T_3e8ab_row3_col0\" class=\"data row3 col0\" >0.000000</td>\n",
       "      <td id=\"T_3e8ab_row3_col1\" class=\"data row3 col1\" >0.000000</td>\n",
       "      <td id=\"T_3e8ab_row3_col2\" class=\"data row3 col2\" >Failed to reject H0</td>\n",
       "    </tr>\n",
       "    <tr>\n",
       "      <th id=\"T_3e8ab_level0_row4\" class=\"row_heading level0 row4\" >Full_bathrooms</th>\n",
       "      <td id=\"T_3e8ab_row4_col0\" class=\"data row4 col0\" >0.000000</td>\n",
       "      <td id=\"T_3e8ab_row4_col1\" class=\"data row4 col1\" >0.000000</td>\n",
       "      <td id=\"T_3e8ab_row4_col2\" class=\"data row4 col2\" >Failed to reject H0</td>\n",
       "    </tr>\n",
       "    <tr>\n",
       "      <th id=\"T_3e8ab_level0_row5\" class=\"row_heading level0 row5\" >Total_interior_livable_area</th>\n",
       "      <td id=\"T_3e8ab_row5_col0\" class=\"data row5 col0\" >0.000000</td>\n",
       "      <td id=\"T_3e8ab_row5_col1\" class=\"data row5 col1\" >0.000000</td>\n",
       "      <td id=\"T_3e8ab_row5_col2\" class=\"data row5 col2\" >Failed to reject H0</td>\n",
       "    </tr>\n",
       "    <tr>\n",
       "      <th id=\"T_3e8ab_level0_row6\" class=\"row_heading level0 row6\" >Total_spaces</th>\n",
       "      <td id=\"T_3e8ab_row6_col0\" class=\"data row6 col0\" >0.000000</td>\n",
       "      <td id=\"T_3e8ab_row6_col1\" class=\"data row6 col1\" >0.000000</td>\n",
       "      <td id=\"T_3e8ab_row6_col2\" class=\"data row6 col2\" >Failed to reject H0</td>\n",
       "    </tr>\n",
       "    <tr>\n",
       "      <th id=\"T_3e8ab_level0_row7\" class=\"row_heading level0 row7\" >Garage_spaces</th>\n",
       "      <td id=\"T_3e8ab_row7_col0\" class=\"data row7 col0\" >0.000000</td>\n",
       "      <td id=\"T_3e8ab_row7_col1\" class=\"data row7 col1\" >0.000000</td>\n",
       "      <td id=\"T_3e8ab_row7_col2\" class=\"data row7 col2\" >Failed to reject H0</td>\n",
       "    </tr>\n",
       "    <tr>\n",
       "      <th id=\"T_3e8ab_level0_row8\" class=\"row_heading level0 row8\" >Tax_assessed_value</th>\n",
       "      <td id=\"T_3e8ab_row8_col0\" class=\"data row8 col0\" >0.000000</td>\n",
       "      <td id=\"T_3e8ab_row8_col1\" class=\"data row8 col1\" >0.000000</td>\n",
       "      <td id=\"T_3e8ab_row8_col2\" class=\"data row8 col2\" >Failed to reject H0</td>\n",
       "    </tr>\n",
       "    <tr>\n",
       "      <th id=\"T_3e8ab_level0_row9\" class=\"row_heading level0 row9\" >Annual_tax_amount</th>\n",
       "      <td id=\"T_3e8ab_row9_col0\" class=\"data row9 col0\" >0.000000</td>\n",
       "      <td id=\"T_3e8ab_row9_col1\" class=\"data row9 col1\" >0.000000</td>\n",
       "      <td id=\"T_3e8ab_row9_col2\" class=\"data row9 col2\" >Failed to reject H0</td>\n",
       "    </tr>\n",
       "    <tr>\n",
       "      <th id=\"T_3e8ab_level0_row10\" class=\"row_heading level0 row10\" >Listed_Price</th>\n",
       "      <td id=\"T_3e8ab_row10_col0\" class=\"data row10 col0\" >0.000000</td>\n",
       "      <td id=\"T_3e8ab_row10_col1\" class=\"data row10 col1\" >0.000000</td>\n",
       "      <td id=\"T_3e8ab_row10_col2\" class=\"data row10 col2\" >Failed to reject H0</td>\n",
       "    </tr>\n",
       "    <tr>\n",
       "      <th id=\"T_3e8ab_level0_row11\" class=\"row_heading level0 row11\" >Last_Sold_Price</th>\n",
       "      <td id=\"T_3e8ab_row11_col0\" class=\"data row11 col0\" >0.000000</td>\n",
       "      <td id=\"T_3e8ab_row11_col1\" class=\"data row11 col1\" >0.000000</td>\n",
       "      <td id=\"T_3e8ab_row11_col2\" class=\"data row11 col2\" >Failed to reject H0</td>\n",
       "    </tr>\n",
       "    <tr>\n",
       "      <th id=\"T_3e8ab_level0_row12\" class=\"row_heading level0 row12\" >Days_Listed</th>\n",
       "      <td id=\"T_3e8ab_row12_col0\" class=\"data row12 col0\" >0.000000</td>\n",
       "      <td id=\"T_3e8ab_row12_col1\" class=\"data row12 col1\" >0.000000</td>\n",
       "      <td id=\"T_3e8ab_row12_col2\" class=\"data row12 col2\" >Failed to reject H0</td>\n",
       "    </tr>\n",
       "    <tr>\n",
       "      <th id=\"T_3e8ab_level0_row13\" class=\"row_heading level0 row13\" >Days_Sold</th>\n",
       "      <td id=\"T_3e8ab_row13_col0\" class=\"data row13 col0\" >0.000000</td>\n",
       "      <td id=\"T_3e8ab_row13_col1\" class=\"data row13 col1\" >0.000000</td>\n",
       "      <td id=\"T_3e8ab_row13_col2\" class=\"data row13 col2\" >Failed to reject H0</td>\n",
       "    </tr>\n",
       "    <tr>\n",
       "      <th id=\"T_3e8ab_level0_row14\" class=\"row_heading level0 row14\" >Address_NoLen</th>\n",
       "      <td id=\"T_3e8ab_row14_col0\" class=\"data row14 col0\" >0.000000</td>\n",
       "      <td id=\"T_3e8ab_row14_col1\" class=\"data row14 col1\" >0.000000</td>\n",
       "      <td id=\"T_3e8ab_row14_col2\" class=\"data row14 col2\" >Failed to reject H0</td>\n",
       "    </tr>\n",
       "    <tr>\n",
       "      <th id=\"T_3e8ab_level0_row15\" class=\"row_heading level0 row15\" >Summary_Len</th>\n",
       "      <td id=\"T_3e8ab_row15_col0\" class=\"data row15 col0\" >0.000000</td>\n",
       "      <td id=\"T_3e8ab_row15_col1\" class=\"data row15 col1\" >0.000000</td>\n",
       "      <td id=\"T_3e8ab_row15_col2\" class=\"data row15 col2\" >Failed to reject H0</td>\n",
       "    </tr>\n",
       "    <tr>\n",
       "      <th id=\"T_3e8ab_level0_row16\" class=\"row_heading level0 row16\" >Schools_Score</th>\n",
       "      <td id=\"T_3e8ab_row16_col0\" class=\"data row16 col0\" >0.000000</td>\n",
       "      <td id=\"T_3e8ab_row16_col1\" class=\"data row16 col1\" >0.000000</td>\n",
       "      <td id=\"T_3e8ab_row16_col2\" class=\"data row16 col2\" >Failed to reject H0</td>\n",
       "    </tr>\n",
       "    <tr>\n",
       "      <th id=\"T_3e8ab_level0_row17\" class=\"row_heading level0 row17\" >Schools_Distance</th>\n",
       "      <td id=\"T_3e8ab_row17_col0\" class=\"data row17 col0\" >0.000000</td>\n",
       "      <td id=\"T_3e8ab_row17_col1\" class=\"data row17 col1\" >0.000000</td>\n",
       "      <td id=\"T_3e8ab_row17_col2\" class=\"data row17 col2\" >Failed to reject H0</td>\n",
       "    </tr>\n",
       "    <tr>\n",
       "      <th id=\"T_3e8ab_level0_row18\" class=\"row_heading level0 row18\" >Total_Appliances</th>\n",
       "      <td id=\"T_3e8ab_row18_col0\" class=\"data row18 col0\" >0.000000</td>\n",
       "      <td id=\"T_3e8ab_row18_col1\" class=\"data row18 col1\" >0.000000</td>\n",
       "      <td id=\"T_3e8ab_row18_col2\" class=\"data row18 col2\" >Failed to reject H0</td>\n",
       "    </tr>\n",
       "  </tbody>\n",
       "</table>\n"
      ],
      "text/plain": [
       "<pandas.io.formats.style.Styler at 0x1a3801e2910>"
      ]
     },
     "execution_count": 298,
     "metadata": {},
     "output_type": "execute_result"
    }
   ],
   "source": [
    "normality_tests(bl1_X_train, quantitative)"
   ]
  },
  {
   "cell_type": "code",
   "execution_count": 23,
   "metadata": {
    "execution": {
     "iopub.execute_input": "2023-07-19T20:17:57.999385Z",
     "iopub.status.busy": "2023-07-19T20:17:57.998442Z",
     "iopub.status.idle": "2023-07-19T20:17:58.005286Z",
     "shell.execute_reply": "2023-07-19T20:17:58.004261Z",
     "shell.execute_reply.started": "2023-07-19T20:17:57.999336Z"
    }
   },
   "outputs": [],
   "source": [
    "def normality_graphic(x):\n",
    "    h= plt.hist(x, bins='auto')\n",
    "    qq=qqplot(x, line='45')\n",
    "    return h[2], qq\n",
    "\n",
    "#need to expand hist to show full range of values ... take total number of unique values and divide by x? some function of unique and range?"
   ]
  },
  {
   "cell_type": "markdown",
   "metadata": {},
   "source": [
    "# Detecting and removing outliers"
   ]
  },
  {
   "cell_type": "markdown",
   "metadata": {},
   "source": [
    "We can't assume a Gaussian distribution as Hard Fail for all quantiative features. "
   ]
  },
  {
   "cell_type": "markdown",
   "metadata": {},
   "source": [
    "## Assumptions"
   ]
  },
  {
   "cell_type": "markdown",
   "metadata": {},
   "source": [
    "* Non-parametric, the distribution is not Gaussian"
   ]
  },
  {
   "cell_type": "markdown",
   "metadata": {},
   "source": [
    "## IQR"
   ]
  },
  {
   "cell_type": "markdown",
   "metadata": {
    "execution": {
     "iopub.execute_input": "2023-07-19T07:48:53.365961Z",
     "iopub.status.busy": "2023-07-19T07:48:53.365437Z",
     "iopub.status.idle": "2023-07-19T07:48:53.374258Z",
     "shell.execute_reply": "2023-07-19T07:48:53.372969Z",
     "shell.execute_reply.started": "2023-07-19T07:48:53.365925Z"
    }
   },
   "source": [
    "https://machinelearningmastery.com/how-to-use-statistics-to-identify-outliers-in-data/\n",
    "\n",
    "https://www.geeksforgeeks.org/box-plot-in-python-using-matplotlib/"
   ]
  },
  {
   "cell_type": "code",
   "execution_count": 73,
   "metadata": {
    "execution": {
     "iopub.execute_input": "2023-07-19T20:17:58.006975Z",
     "iopub.status.busy": "2023-07-19T20:17:58.006550Z",
     "iopub.status.idle": "2023-07-19T20:17:58.018017Z",
     "shell.execute_reply": "2023-07-19T20:17:58.017108Z",
     "shell.execute_reply.started": "2023-07-19T20:17:58.006936Z"
    }
   },
   "outputs": [],
   "source": [
    "def iqr(x, k, w, h):\n",
    "    #k is for k factor, above what factor of IQR do we define value as being an outlier\n",
    "    q25, q75 = percentile(x, 25), percentile(x, 75)\n",
    "    iqr = q75 - q25\n",
    "    cut_off = iqr*k\n",
    "    lower, upper = q25 - cut_off, q75 + cut_off\n",
    "    outliers = [v for v in x if v < lower or v > upper]\n",
    "    non_outliers = [v for v in x if v >= lower and v <= upper]\n",
    "    print(f\"\"\"\n",
    "    Percentiles: 25th={round(q25,2)}, 75th={round(q75, 2)}, IQR={round(iqr, 2)}\n",
    "    Identified outliers: {len(outliers)}\n",
    "    Non-outliers: {len(non_outliers)}\n",
    "    \"\"\")\n",
    "    fig = plt.figure(figsize=(w,h))\n",
    "#     plt.boxplot(x)\n",
    "    plt.boxplot(non_outliers)\n",
    "    return plt.show()"
   ]
  },
  {
   "cell_type": "code",
   "execution_count": 76,
   "metadata": {},
   "outputs": [
    {
     "ename": "SyntaxError",
     "evalue": "illegal target for annotation (37406771.py, line 1)",
     "output_type": "error",
     "traceback": [
      "\u001b[1;36m  File \u001b[1;32m\"C:\\Users\\euana\\AppData\\Local\\Temp\\ipykernel_17936\\37406771.py\"\u001b[1;36m, line \u001b[1;32m1\u001b[0m\n\u001b[1;33m    train.Sold_Price.describe():.3f\u001b[0m\n\u001b[1;37m    ^\u001b[0m\n\u001b[1;31mSyntaxError\u001b[0m\u001b[1;31m:\u001b[0m illegal target for annotation\n"
     ]
    }
   ],
   "source": [
    "train.Sold_Price.describe()"
   ]
  },
  {
   "cell_type": "code",
   "execution_count": 74,
   "metadata": {
    "execution": {
     "iopub.execute_input": "2023-07-19T20:17:58.021066Z",
     "iopub.status.busy": "2023-07-19T20:17:58.020607Z",
     "iopub.status.idle": "2023-07-19T20:17:58.328554Z",
     "shell.execute_reply": "2023-07-19T20:17:58.327421Z",
     "shell.execute_reply.started": "2023-07-19T20:17:58.021023Z"
    }
   },
   "outputs": [
    {
     "name": "stdout",
     "output_type": "stream",
     "text": [
      "\n",
      "    Percentiles: 25th=565000.0, 75th=1525000.0, IQR=960000.0\n",
      "    Identified outliers: 2814\n",
      "    Non-outliers: 44625\n",
      "    \n"
     ]
    },
    {
     "data": {
      "image/png": "[encoded data removed]",
      "text/plain": [
       "<Figure size 1000x2000 with 1 Axes>"
      ]
     },
     "metadata": {},
     "output_type": "display_data"
    }
   ],
   "source": [
    "iqr(train.Sold_Price, 1.5, 10,20)"
   ]
  },
  {
   "cell_type": "markdown",
   "metadata": {},
   "source": [
    "# Identify and modify outliers"
   ]
  },
  {
   "cell_type": "markdown",
   "metadata": {},
   "source": [
    "Plan of attack ... non-parametric, use IQR compare with baseline and test for normality, repeat for suitable automatic methods ... then transform to normal distribution and compare with previous models ... remember TTS .... goal is to achieve normal distribution then minimise error ... interpreting linear regression output? "
   ]
  },
  {
   "cell_type": "markdown",
   "metadata": {},
   "source": [
    "## Non-Parametric"
   ]
  },
  {
   "cell_type": "markdown",
   "metadata": {},
   "source": [
    "### Inter-Quartile Range"
   ]
  },
  {
   "cell_type": "code",
   "execution_count": null,
   "metadata": {},
   "outputs": [],
   "source": []
  },
  {
   "cell_type": "markdown",
   "metadata": {},
   "source": [
    "## Automatic outlier detection"
   ]
  },
  {
   "cell_type": "markdown",
   "metadata": {},
   "source": [
    "https://machinelearningmastery.com/model-based-outlier-detection-and-removal-in-python/\n",
    "\n",
    "Isolation Forest "
   ]
  },
  {
   "cell_type": "markdown",
   "metadata": {},
   "source": [
    "## Assessing the methods"
   ]
  },
  {
   "cell_type": "markdown",
   "metadata": {},
   "source": [
    "will need to create and run the model for this?"
   ]
  },
  {
   "cell_type": "markdown",
   "metadata": {},
   "source": [
    "# Comparison table"
   ]
  },
  {
   "cell_type": "code",
   "execution_count": 300,
   "metadata": {},
   "outputs": [
    {
     "name": "stderr",
     "output_type": "stream",
     "text": [
      "C:\\Users\\euana\\AppData\\Local\\Temp\\ipykernel_7700\\603841553.py:1: VisibleDeprecationWarning: Creating an ndarray from ragged nested sequences (which is a list-or-tuple of lists-or-tuples-or ndarrays with different lengths or shapes) is deprecated. If you meant to do this, you must specify 'dtype=object' when creating the ndarray.\n",
      "  comparison_table = pd.DataFrame(np.array([['bl1', 'Linear Regression', bl1_results[0], bl1_results[1], bl1_X_train.shape, 'No'],\n"
     ]
    },
    {
     "data": {
      "text/html": [
       "<div>\n",
       "<style scoped>\n",
       "    .dataframe tbody tr th:only-of-type {\n",
       "        vertical-align: middle;\n",
       "    }\n",
       "\n",
       "    .dataframe tbody tr th {\n",
       "        vertical-align: top;\n",
       "    }\n",
       "\n",
       "    .dataframe thead th {\n",
       "        text-align: right;\n",
       "    }\n",
       "</style>\n",
       "<table border=\"1\" class=\"dataframe\">\n",
       "  <thead>\n",
       "    <tr style=\"text-align: right;\">\n",
       "      <th></th>\n",
       "      <th>Name</th>\n",
       "      <th>Model</th>\n",
       "      <th>MAE</th>\n",
       "      <th>MSE</th>\n",
       "      <th>Shape</th>\n",
       "      <th>Gaussian?</th>\n",
       "    </tr>\n",
       "  </thead>\n",
       "  <tbody>\n",
       "    <tr>\n",
       "      <th>0</th>\n",
       "      <td>bl1</td>\n",
       "      <td>Linear Regression</td>\n",
       "      <td>218546.008</td>\n",
       "      <td>1514185846084.686035</td>\n",
       "      <td>(13320, 112)</td>\n",
       "      <td>No</td>\n",
       "    </tr>\n",
       "    <tr>\n",
       "      <th>1</th>\n",
       "      <td>bl2</td>\n",
       "      <td>Linear Regression</td>\n",
       "      <td>297169.837</td>\n",
       "      <td>7808084415275.614258</td>\n",
       "      <td>(37951, 118)</td>\n",
       "      <td>No</td>\n",
       "    </tr>\n",
       "  </tbody>\n",
       "</table>\n",
       "</div>"
      ],
      "text/plain": [
       "  Name              Model         MAE                   MSE         Shape  \\\n",
       "0  bl1  Linear Regression  218546.008  1514185846084.686035  (13320, 112)   \n",
       "1  bl2  Linear Regression  297169.837  7808084415275.614258  (37951, 118)   \n",
       "\n",
       "  Gaussian?  \n",
       "0        No  \n",
       "1        No  "
      ]
     },
     "execution_count": 300,
     "metadata": {},
     "output_type": "execute_result"
    }
   ],
   "source": [
    "comparison_table = pd.DataFrame(np.array([['bl1', 'Linear Regression', bl1_results[0], bl1_results[1], bl1_X_train.shape, 'No'],\n",
    "                                        ['bl2', 'Linear Regression', bl2_results[0], bl2_results[1], bl2_X_train.shape, 'No']]),\n",
    "                                columns=['Name', 'Model', 'MAE', 'MSE', 'Shape', 'Gaussian?'])\n",
    "comparison_table"
   ]
  }
 ],
 "metadata": {
  "kernelspec": {
   "display_name": "Python 3 (ipykernel)",
   "language": "python",
   "name": "python3"
  },
  "language_info": {
   "codemirror_mode": {
    "name": "ipython",
    "version": 3
   },
   "file_extension": ".py",
   "mimetype": "text/x-python",
   "name": "python",
   "nbconvert_exporter": "python",
   "pygments_lexer": "ipython3",
   "version": "3.9.13"
  }
 },
 "nbformat": 4,
 "nbformat_minor": 4
}
